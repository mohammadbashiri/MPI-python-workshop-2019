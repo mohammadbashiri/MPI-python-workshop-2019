{
 "cells": [
  {
   "cell_type": "markdown",
   "metadata": {},
   "source": [
    "## Exercise 3.1"
   ]
  },
  {
   "cell_type": "markdown",
   "metadata": {},
   "source": [
    "## Numpy and Matplotlib\n",
    "\n",
    "1) Plot the following figure. (replace the **Title** with your name)\n",
    "\n",
    "\n",
    "<center>\n",
    "    <img src=\"../images/fig.png\"/>\n",
    "</center>"
   ]
  },
  {
   "cell_type": "markdown",
   "metadata": {},
   "source": [
    "2) Save the figure and share it in Slack"
   ]
  },
  {
   "cell_type": "code",
   "execution_count": null,
   "metadata": {},
   "outputs": [],
   "source": []
  },
  {
   "cell_type": "markdown",
   "metadata": {},
   "source": [
    "## Pandas DataFrame\n",
    "\n",
    "3) Create a Pandas DataFrame with columns:\n",
    "- **Name**: name of neighbor\n",
    "- **Sex**: f/m?\n",
    "- **from_Germany**: is the neighbor from Germany?\n",
    "- **MPI**: biochemistry vs biology.. or any other?\n",
    "- **Age**: age of neighbor\n",
    "- **Papers_n**: number of papers\n",
    "- **Coffees_n**: number of coffee you drink per day"
   ]
  },
  {
   "cell_type": "code",
   "execution_count": 4,
   "metadata": {},
   "outputs": [],
   "source": [
    "import pandas as pd"
   ]
  },
  {
   "cell_type": "code",
   "execution_count": 5,
   "metadata": {},
   "outputs": [],
   "source": [
    "df = pd.read_csv('MPI-info.csv')"
   ]
  },
  {
   "cell_type": "code",
   "execution_count": 6,
   "metadata": {},
   "outputs": [
    {
     "data": {
      "text/html": [
       "<div>\n",
       "<style scoped>\n",
       "    .dataframe tbody tr th:only-of-type {\n",
       "        vertical-align: middle;\n",
       "    }\n",
       "\n",
       "    .dataframe tbody tr th {\n",
       "        vertical-align: top;\n",
       "    }\n",
       "\n",
       "    .dataframe thead th {\n",
       "        text-align: right;\n",
       "    }\n",
       "</style>\n",
       "<table border=\"1\" class=\"dataframe\">\n",
       "  <thead>\n",
       "    <tr style=\"text-align: right;\">\n",
       "      <th></th>\n",
       "      <th>name</th>\n",
       "      <th>sex</th>\n",
       "      <th>from_Germany</th>\n",
       "      <th>MPI</th>\n",
       "      <th>age</th>\n",
       "      <th>papers</th>\n",
       "      <th>citations</th>\n",
       "      <th>colleagues</th>\n",
       "      <th>coffees</th>\n",
       "      <th>ranking</th>\n",
       "    </tr>\n",
       "  </thead>\n",
       "  <tbody>\n",
       "    <tr>\n",
       "      <th>0</th>\n",
       "      <td>Paul Wong</td>\n",
       "      <td>Female</td>\n",
       "      <td>True</td>\n",
       "      <td>Biochem</td>\n",
       "      <td>26.719182</td>\n",
       "      <td>11</td>\n",
       "      <td>80</td>\n",
       "      <td>4</td>\n",
       "      <td>0</td>\n",
       "      <td>82</td>\n",
       "    </tr>\n",
       "    <tr>\n",
       "      <th>1</th>\n",
       "      <td>Tyler Lopez</td>\n",
       "      <td>Male</td>\n",
       "      <td>False</td>\n",
       "      <td>Neuro</td>\n",
       "      <td>36.479622</td>\n",
       "      <td>15</td>\n",
       "      <td>219</td>\n",
       "      <td>6</td>\n",
       "      <td>7</td>\n",
       "      <td>74</td>\n",
       "    </tr>\n",
       "    <tr>\n",
       "      <th>2</th>\n",
       "      <td>Suzanne Miller</td>\n",
       "      <td>Male</td>\n",
       "      <td>False</td>\n",
       "      <td>Neuro</td>\n",
       "      <td>29.250290</td>\n",
       "      <td>14</td>\n",
       "      <td>174</td>\n",
       "      <td>5</td>\n",
       "      <td>5</td>\n",
       "      <td>46</td>\n",
       "    </tr>\n",
       "    <tr>\n",
       "      <th>3</th>\n",
       "      <td>Rebecca Russo</td>\n",
       "      <td>Female</td>\n",
       "      <td>False</td>\n",
       "      <td>Neuro</td>\n",
       "      <td>29.037500</td>\n",
       "      <td>7</td>\n",
       "      <td>137</td>\n",
       "      <td>3</td>\n",
       "      <td>0</td>\n",
       "      <td>261</td>\n",
       "    </tr>\n",
       "    <tr>\n",
       "      <th>4</th>\n",
       "      <td>Timothy Chapman</td>\n",
       "      <td>Male</td>\n",
       "      <td>True</td>\n",
       "      <td>Biochem</td>\n",
       "      <td>26.946125</td>\n",
       "      <td>9</td>\n",
       "      <td>55</td>\n",
       "      <td>3</td>\n",
       "      <td>7</td>\n",
       "      <td>186</td>\n",
       "    </tr>\n",
       "  </tbody>\n",
       "</table>\n",
       "</div>"
      ],
      "text/plain": [
       "              name     sex  from_Germany      MPI        age  papers  \\\n",
       "0        Paul Wong  Female          True  Biochem  26.719182      11   \n",
       "1      Tyler Lopez    Male         False    Neuro  36.479622      15   \n",
       "2   Suzanne Miller    Male         False    Neuro  29.250290      14   \n",
       "3    Rebecca Russo  Female         False    Neuro  29.037500       7   \n",
       "4  Timothy Chapman    Male          True  Biochem  26.946125       9   \n",
       "\n",
       "   citations  colleagues  coffees  ranking  \n",
       "0         80           4        0       82  \n",
       "1        219           6        7       74  \n",
       "2        174           5        5       46  \n",
       "3        137           3        0      261  \n",
       "4         55           3        7      186  "
      ]
     },
     "execution_count": 6,
     "metadata": {},
     "output_type": "execute_result"
    }
   ],
   "source": [
    "df.head()"
   ]
  },
  {
   "cell_type": "markdown",
   "metadata": {},
   "source": [
    "4) what is the type of each column in your DataFrame?"
   ]
  },
  {
   "cell_type": "code",
   "execution_count": 8,
   "metadata": {},
   "outputs": [
    {
     "data": {
      "text/plain": [
       "name             object\n",
       "sex              object\n",
       "from_Germany       bool\n",
       "MPI              object\n",
       "age             float64\n",
       "papers            int64\n",
       "citations         int64\n",
       "colleagues        int64\n",
       "coffees           int64\n",
       "ranking           int64\n",
       "dtype: object"
      ]
     },
     "execution_count": 8,
     "metadata": {},
     "output_type": "execute_result"
    }
   ],
   "source": [
    "df.dtypes"
   ]
  },
  {
   "cell_type": "markdown",
   "metadata": {},
   "source": [
    "5) save **`age`** and **`kids_n`** as two separate numpy arrays."
   ]
  },
  {
   "cell_type": "code",
   "execution_count": null,
   "metadata": {},
   "outputs": [],
   "source": []
  },
  {
   "cell_type": "markdown",
   "metadata": {},
   "source": [
    "6) Is there any relationship between age and number of kids? - show this with a scatter plot."
   ]
  },
  {
   "cell_type": "code",
   "execution_count": null,
   "metadata": {},
   "outputs": [],
   "source": []
  },
  {
   "cell_type": "markdown",
   "metadata": {},
   "source": [
    "7) Save this DataFrame."
   ]
  },
  {
   "cell_type": "code",
   "execution_count": null,
   "metadata": {},
   "outputs": [],
   "source": []
  },
  {
   "cell_type": "markdown",
   "metadata": {},
   "source": [
    "---"
   ]
  }
 ],
 "metadata": {
  "kernelspec": {
   "display_name": "Python 3",
   "language": "python",
   "name": "python3"
  },
  "language_info": {
   "codemirror_mode": {
    "name": "ipython",
    "version": 3
   },
   "file_extension": ".py",
   "mimetype": "text/x-python",
   "name": "python",
   "nbconvert_exporter": "python",
   "pygments_lexer": "ipython3",
   "version": "3.6.8"
  }
 },
 "nbformat": 4,
 "nbformat_minor": 2
}
