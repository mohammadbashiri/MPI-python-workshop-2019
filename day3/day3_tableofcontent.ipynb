{
 "cells": [
  {
   "cell_type": "markdown",
   "metadata": {},
   "source": [
    "Here is what I want to cover in the whole first day.\n",
    "- ===================== time (start of the below content): 0900\n",
    "- [ ] [C] [30] Recap of day 2\n",
    "- [ ] [E] [15] Exercise #1\n",
    "- [ ] [E] [10] Exercise Review\n",
    "- [ ] [B] [5] Break\n",
    "- ===================== time (start of the below content): 1000\n",
    "- [ ] [C] [40] Pandas\n",
    "    - Data selection\n",
    "    - Data manipulation (labels and data itself)\n",
    "    - Merging and splitting DataFrame\n",
    "- [ ] [E] [20] Exercise #2\n",
    "- [ ] [E] [15] Exercise Review\n",
    "- [ ] [B] [10] Break\n",
    "- ===================== time (start of the below content): 1125\n",
    "- [ ] [C] [30] Pandas (cont.)\n",
    "    - Split-apply-merge\n",
    "    - plotting with Pandas\n",
    "- [ ] [E] [20] Exercise #3\n",
    "- [ ] [E] [15] Exercise Review \n",
    "- [ ] [L] [60] Lunch\n",
    "- ===================== time (start of the below content): 1330\n",
    "- [ ] [C] [30] Seaborn\n",
    "- [ ] [E] [20] Exercise #4\n",
    "- [ ] [E] [15] Exercise Review\n",
    "- [ ] [B] [10] Break\n",
    "- ===================== time (start of the below content): 1445\n",
    "- [ ] [E] [120] Data Jam\n",
    "    - Group formation - 5\n",
    "    - Dataset description - 5\n",
    "    - Within-group discussion to form questions - 10\n",
    "    - Outside-group discussion to list the questions and assign them to groups - 10\n",
    "    - Discussion: what figures are they gonna show? - 10\n",
    "    - Analysis and figure generation - 40\n",
    "    - Create a single slide stating the questions and figures - 15\n",
    "    - Group pitches - 10\n",
    "- [ ] [B] [15] Break\n",
    "- ===================== time (start of the below content): 1700\n",
    "- [ ] [E] [15] Data Jam Review\n",
    "- [ ] [S] [15] Summary, and plan for the next day\n",
    "    - discuss which topics to discuss tomorrow?\n",
    "- ===================== End of the day: 1730"
   ]
  },
  {
   "cell_type": "code",
   "execution_count": null,
   "metadata": {},
   "outputs": [],
   "source": []
  }
 ],
 "metadata": {
  "kernelspec": {
   "display_name": "Python 3",
   "language": "python",
   "name": "python3"
  },
  "language_info": {
   "codemirror_mode": {
    "name": "ipython",
    "version": 3
   },
   "file_extension": ".py",
   "mimetype": "text/x-python",
   "name": "python",
   "nbconvert_exporter": "python",
   "pygments_lexer": "ipython3",
   "version": "3.6.8"
  }
 },
 "nbformat": 4,
 "nbformat_minor": 2
}
