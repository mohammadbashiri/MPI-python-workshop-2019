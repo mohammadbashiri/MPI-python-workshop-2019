{
 "cells": [
  {
   "cell_type": "markdown",
   "metadata": {},
   "source": [
    "# Python Beginner Workshop - Day 3"
   ]
  },
  {
   "cell_type": "markdown",
   "metadata": {},
   "source": [
    "---\n",
    "---\n",
    "\n",
    "asd\n",
    "\n",
    "---\n",
    "---"
   ]
  },
  {
   "cell_type": "markdown",
   "metadata": {},
   "source": [
    "## Recap of Day 2"
   ]
  },
  {
   "cell_type": "code",
   "execution_count": null,
   "metadata": {},
   "outputs": [],
   "source": []
  },
  {
   "cell_type": "markdown",
   "metadata": {},
   "source": [
    "## Exercise #1"
   ]
  },
  {
   "cell_type": "markdown",
   "metadata": {},
   "source": [
    "---"
   ]
  },
  {
   "cell_type": "markdown",
   "metadata": {},
   "source": [
    "## Pandas"
   ]
  },
  {
   "cell_type": "markdown",
   "metadata": {},
   "source": [
    "- data selection\n",
    "    - iloc\n",
    "    - loc\n",
    "    - via masking\n",
    "    - via query\n",
    "    - (all above) and getting specific columns\n",
    "- data manipulation: this can happen in two levels: either the labels (index and columns) or the data.\n",
    "    - Label manipulation\n",
    "        - changing the index\n",
    "        - remove rows\n",
    "        - add a new column\n",
    "        - redordering columns\n",
    "        - renaming columns\n",
    "        - removing columns\n",
    "    - Data manipulation: includes aggregation, transformation, ect.\n",
    "        - changing column values\n",
    "        - applying functions to the columns: \n",
    "            - group-wise operation (returns single value): agg, and \n",
    "            - element-wise operation (returns the same size as inpyt): apply\n",
    "    - Merging and Splitting DataFrames\n",
    "        - Merge\n",
    "        - Split\n",
    "    - Split-apply-combine:\n",
    "        - groupby\n",
    "        - groupby + apply\n",
    "        - groupby + selected columns + apply -> change selected columns"
   ]
  },
  {
   "cell_type": "code",
   "execution_count": null,
   "metadata": {},
   "outputs": [],
   "source": []
  }
 ],
 "metadata": {
  "kernelspec": {
   "display_name": "Python 3",
   "language": "python",
   "name": "python3"
  },
  "language_info": {
   "codemirror_mode": {
    "name": "ipython",
    "version": 3
   },
   "file_extension": ".py",
   "mimetype": "text/x-python",
   "name": "python",
   "nbconvert_exporter": "python",
   "pygments_lexer": "ipython3",
   "version": "3.6.8"
  }
 },
 "nbformat": 4,
 "nbformat_minor": 2
}
