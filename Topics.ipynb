{
 "cells": [
  {
   "cell_type": "markdown",
   "metadata": {},
   "source": [
    "# MPI Python Workshop 2019"
   ]
  },
  {
   "cell_type": "markdown",
   "metadata": {},
   "source": [
    "This workshop is a Python begineers workshop being conducted in Munich, Germany, at the MPI for biochemistry."
   ]
  },
  {
   "cell_type": "markdown",
   "metadata": {},
   "source": [
    "## Topics\n",
    "\n",
    "In general, Here are the topics I would be covering duing this workshop"
   ]
  },
  {
   "cell_type": "markdown",
   "metadata": {},
   "source": [
    "- Installation - done\n",
    "- Getting familiar with cmd/terminal - done\n",
    "- Scripting (Using Atom/Sublime) - done\n",
    "- Moving to Jupyter (IPython) - done\n",
    "- Data Structures (int, float, string) - done\n",
    "- Collections (tuple, list, dictionary) - done\n",
    "- Loops - Done\n",
    "- Functions - Done\n",
    "- Booleans and flow control - Done\n",
    "- List comprehension - Done\n",
    "- Numpy - Done\n",
    "- Matplotlib - Done\n",
    "- Pandas (and Seaborn) and (usage of lambda) - Done\n",
    "- Debugging and code profiling - Done\n",
    "- OOP (objects and classes) - Done\n",
    "- Packaging and code distribution"
   ]
  },
  {
   "cell_type": "code",
   "execution_count": null,
   "metadata": {},
   "outputs": [],
   "source": []
  }
 ],
 "metadata": {
  "kernelspec": {
   "display_name": "Python 3",
   "language": "python",
   "name": "python3"
  },
  "language_info": {
   "codemirror_mode": {
    "name": "ipython",
    "version": 3
   },
   "file_extension": ".py",
   "mimetype": "text/x-python",
   "name": "python",
   "nbconvert_exporter": "python",
   "pygments_lexer": "ipython3",
   "version": "3.7.1"
  }
 },
 "nbformat": 4,
 "nbformat_minor": 2
}
