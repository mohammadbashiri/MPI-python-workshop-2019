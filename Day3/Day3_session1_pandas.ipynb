{
 "cells": [
  {
   "cell_type": "markdown",
   "metadata": {},
   "source": [
    "## References\n",
    "\n",
    "On why to sue Pandas?\n",
    "- https://towardsdatascience.com/a-quick-introduction-to-the-pandas-python-library-f1b678f34673\n",
    "- https://www.quora.com/What-are-the-advantages-of-using-Pandas-over-Numpy-for-ML-and-Data-Analysis\n",
    "\n",
    "Pandas Tutorials\n",
    "- https://github.com/chendaniely/scipy-2017-tutorial-pandas/tree/master/02-lesson\n",
    "- https://github.com/jorisvandenbossche/pandas-tutorial\n",
    "- https://github.com/justmarkham/pycon-2018-tutorial"
   ]
  },
  {
   "cell_type": "code",
   "execution_count": null,
   "metadata": {},
   "outputs": [],
   "source": []
  }
 ],
 "metadata": {
  "kernelspec": {
   "display_name": "Python 3",
   "language": "python",
   "name": "python3"
  },
  "language_info": {
   "codemirror_mode": {
    "name": "ipython",
    "version": 3
   },
   "file_extension": ".py",
   "mimetype": "text/x-python",
   "name": "python",
   "nbconvert_exporter": "python",
   "pygments_lexer": "ipython3",
   "version": "3.6.8"
  }
 },
 "nbformat": 4,
 "nbformat_minor": 2
}
