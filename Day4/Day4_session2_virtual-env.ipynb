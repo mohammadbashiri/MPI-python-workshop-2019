{
 "cells": [
  {
   "cell_type": "markdown",
   "metadata": {},
   "source": [
    "# Python Beginners Workshop - Day4"
   ]
  },
  {
   "cell_type": "markdown",
   "metadata": {},
   "source": [
    "# Session 2b: Setting up a virtual environemnt"
   ]
  },
  {
   "cell_type": "markdown",
   "metadata": {},
   "source": [
    "## What is the purpose of a virtual environment?\n",
    "\n",
    "Python, like most other modern programming languages, has its own unique way of downloading, storing, and resolving packages. There are a few different locations where these packages can be installed on your system, every project on your system will use these same directories to store and retrieve site packages (third party libraries).\n",
    "\n",
    "At first glance, this may not seem like a big deal, and it isn’t really, but it does matter for site packages. Consider the following scenario:\n",
    "\n",
    "you have two projects: ProjectA and ProjectB, both of which have a dependency on the same library, LibraryC. The problem becomes apparent when we start requiring different versions of LibraryC. Maybe ProjectA needs v1.0.0, while ProjectB requires the newer v2.0.0, for example.\n",
    "\n",
    "This is a real problem for Python since it can’t differentiate between versions in the site-packages directory. Hence, this results in some difficulties in installing and using the specific versions for different projects.\n",
    "\n",
    "This is where virtual environments tools come into play…\n",
    "\n",
    "https://realpython.com/python-virtual-environments-a-primer/"
   ]
  },
  {
   "cell_type": "code",
   "execution_count": null,
   "metadata": {},
   "outputs": [],
   "source": []
  },
  {
   "cell_type": "markdown",
   "metadata": {},
   "source": [
    "To create an environment with a specific version of Python:\n",
    "```\n",
    "conda create -n myenv python=3.6\n",
    "```\n",
    "\n",
    "To create an environment with a specific version of Python and multiple packages:\n",
    "```\n",
    "conda create -n myenv python=3.4 scipy=0.15.0 astroid babel\n",
    "```\n",
    "\n",
    "By default, the active environment—the one you are currently using—is shown in parentheses () or brackets [] at the beginning of your command prompt:\n",
    "```\n",
    "(myenv) $\n",
    "```\n",
    "\n",
    "If you do not see this, run:\n",
    "```\n",
    "conda info --envs  OR conda env list\n",
    "```\n",
    "In the environments list that displays, your current environment is highlighted with an asterisk (*).\n",
    "\n",
    "To remove an environment, in your Terminal window or an Anaconda Prompt, run:\n",
    "```\n",
    "conda remove --name myenv --all\n",
    "```\n",
    "\n",
    "**NOTE**: In order to succefully use jupyter lab with the python version of a scpeific envionvment, make sure once you created the evironment you also install `ipython` and `jupyterlab` for the just-created environment."
   ]
  },
  {
   "cell_type": "markdown",
   "metadata": {},
   "source": [
    "---\n",
    "\n",
    "## Reference\n",
    "- https://conda.io/projects/conda/en/latest/user-guide/tasks/manage-environments.html"
   ]
  },
  {
   "cell_type": "code",
   "execution_count": null,
   "metadata": {},
   "outputs": [],
   "source": []
  }
 ],
 "metadata": {
  "kernelspec": {
   "display_name": "Python 3",
   "language": "python",
   "name": "python3"
  },
  "language_info": {
   "codemirror_mode": {
    "name": "ipython",
    "version": 3
   },
   "file_extension": ".py",
   "mimetype": "text/x-python",
   "name": "python",
   "nbconvert_exporter": "python",
   "pygments_lexer": "ipython3",
   "version": "3.6.8"
  }
 },
 "nbformat": 4,
 "nbformat_minor": 2
}
