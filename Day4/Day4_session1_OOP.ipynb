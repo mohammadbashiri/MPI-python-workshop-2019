{
 "cells": [
  {
   "cell_type": "markdown",
   "metadata": {},
   "source": [
    "# Python Beginners Workshop - Day 3"
   ]
  },
  {
   "cell_type": "markdown",
   "metadata": {},
   "source": [
    "# Session 1a: Object-Oriented Programming "
   ]
  },
  {
   "cell_type": "markdown",
   "metadata": {},
   "source": [
    "## Learning Goals:\n",
    "- What is Object-Oriented Programming?\n",
    "- OOP Terminology\n",
    "- Implementation\n",
    "- Inhertence"
   ]
  },
  {
   "cell_type": "markdown",
   "metadata": {},
   "source": [
    "## What is OOP?\n",
    "\n",
    "Object-oriented Programming, or OOP for short, is a programming paradigm which provides a means of structuring programs so that properties and behaviors are bundled into individual objects. For instance, an object could represent:\n",
    "- A person with a name property, age, address, etc., with behaviors like walking, talking, breathing, and running. Or \n",
    "- An email with properties like recipient list, subject, body, etc., and behaviors like adding attachments and sending\n",
    "\n",
    "OOP models real-world entities as software objects, which have some data associated with them and can perform certain functions."
   ]
  },
  {
   "cell_type": "markdown",
   "metadata": {},
   "source": [
    "## OOP Terminology\n",
    "\n",
    "### Classes\n",
    "Each thing or object is an instance of some *class*. Classes are used to create new user-defined data structures that contain arbitrary information about something. In the case of a person, we could create an `Person()` class to track properties about the person like the name and age.\n",
    "\n",
    "It’s important to note that a class just provides structure—it’s a blueprint for how something should be defined, but it doesn’t actually provide any real content itself. `Person()` class may specify that the name and age are necessary for defining a person, but it will not actually state what a specific person’s name or age is. It may help to think of a class as an idea for how something should be defined."
   ]
  },
  {
   "cell_type": "markdown",
   "metadata": {},
   "source": [
    "### Objects\n",
    "\n",
    "While the class is the blueprint, an *instance* is a copy of the class with actual values, literally an object belonging to a specific class. It’s not an idea anymore; it’s an actual person, like someone who is named Mohammad abd is twenty five years old. Put another way, a class is like a form or questionnaire. It defines the needed information. After you fill out the form, your specific copy is an instance of the class; it contains actual information relevant to the actual object.\n",
    "\n",
    "You can fill out multiple copies to create many different instances, but without the form as a guide, you would be lost, not knowing what information is required. Thus, before you can create individual instances of an object, we must first specify what is needed by defining a class."
   ]
  },
  {
   "cell_type": "markdown",
   "metadata": {},
   "source": [
    "---"
   ]
  },
  {
   "cell_type": "markdown",
   "metadata": {},
   "source": [
    "Let's create a `Person()` class:"
   ]
  },
  {
   "cell_type": "code",
   "execution_count": 1,
   "metadata": {},
   "outputs": [],
   "source": [
    "class Person:\n",
    "    pass"
   ]
  },
  {
   "cell_type": "markdown",
   "metadata": {},
   "source": [
    "You start with the class keyword to indicate that you are creating a class, then you add the name of the class (using CamelCase notation, starting with a capital letter.) <br>\n",
    "Also, we used the Python keyword `pass` here. This is very often used as a place holder where code will eventually go. It allows us to run this code without throwing an error."
   ]
  },
  {
   "cell_type": "markdown",
   "metadata": {},
   "source": [
    "### Instance Attributes\n",
    "Properties are commonly known as *attributes*. All classes create objects, and all objects contain characteristics called attributes (referred to as properties in the opening paragraph).  So how do we specify th required attributes of our object? - how do we pass the `name` and `age`?\n",
    "\n",
    "we need the `__init__()` method to initialize an object with specific attributes: This method must have at least one argument as well as the self variable, which refers to the object itself (e.g., Person)."
   ]
  },
  {
   "cell_type": "code",
   "execution_count": 2,
   "metadata": {},
   "outputs": [],
   "source": [
    "class Person:\n",
    "    \n",
    "    def __init__(self, name, age):\n",
    "        \n",
    "        self.name = name\n",
    "        self.age = age"
   ]
  },
  {
   "cell_type": "markdown",
   "metadata": {},
   "source": [
    "In the case of our `Person()` class, each person has a specific name and age, which is obviously important to know when you start actually creating different persons. <br>\n",
    "**Remember**: the class is just for defining the Person, not actually creating instances of individual persons with specific names and ages; we’ll get to that shortly.\n",
    "\n",
    "The `self` is to enable the user to refer to the instance (attach attributes specifically to the to-be-created instance).\n",
    "\n",
    "### Exercise\n",
    "What other attributes do you think is relevant for specifically defining a person? Add them to the class definition."
   ]
  },
  {
   "cell_type": "markdown",
   "metadata": {},
   "source": [
    "### Class Attributes\n",
    "\n",
    "While instance attributes are specific to each object, class attributes are the same for all instances - which in this case is all persons."
   ]
  },
  {
   "cell_type": "code",
   "execution_count": 3,
   "metadata": {},
   "outputs": [],
   "source": [
    "class Person:\n",
    "    \n",
    "    # Class Attribute (shared between all the instances of the class)\n",
    "    species = 'Human'\n",
    "    \n",
    "    def __init__(self, name, age):\n",
    "        self.name = name\n",
    "        self.age = age"
   ]
  },
  {
   "cell_type": "markdown",
   "metadata": {},
   "source": [
    "So while each person has a unique name and age, every person will be a human."
   ]
  },
  {
   "cell_type": "markdown",
   "metadata": {},
   "source": [
    "## Instantiating Objects\n",
    "\n",
    "Instantiating is a fancy term for creating a new, unique instance of a class.\n",
    "\n",
    "For example:"
   ]
  },
  {
   "cell_type": "code",
   "execution_count": 4,
   "metadata": {},
   "outputs": [],
   "source": [
    "mohammad = Person(\"Mohammad\", 25)\n",
    "object2 = Person(\"Joseph\", 15)"
   ]
  },
  {
   "cell_type": "code",
   "execution_count": 5,
   "metadata": {},
   "outputs": [
    {
     "data": {
      "text/plain": [
       "False"
      ]
     },
     "execution_count": 5,
     "metadata": {},
     "output_type": "execute_result"
    }
   ],
   "source": [
    "mohammad == object2"
   ]
  },
  {
   "cell_type": "code",
   "execution_count": 6,
   "metadata": {},
   "outputs": [
    {
     "data": {
      "text/plain": [
       "__main__.Person"
      ]
     },
     "execution_count": 6,
     "metadata": {},
     "output_type": "execute_result"
    }
   ],
   "source": [
    "mohammad.__class__"
   ]
  },
  {
   "cell_type": "code",
   "execution_count": 7,
   "metadata": {},
   "outputs": [
    {
     "data": {
      "text/plain": [
       "('Mohammad', 15)"
      ]
     },
     "execution_count": 7,
     "metadata": {},
     "output_type": "execute_result"
    }
   ],
   "source": [
    "mohammad.name, object2.age"
   ]
  },
  {
   "cell_type": "markdown",
   "metadata": {},
   "source": [
    "We have already defined the `Person()` class. We then created two new persons, each assigned to different objects. So, to create an instance of a class, you use the the class name, followed by parentheses. Then to demonstrate that each instance is actually different, we instantiated two persons, assigning each to a variable, then tested if those variables are equal.\n",
    "\n",
    "#### Exercise\n",
    "What do you think the type of a class instance is?"
   ]
  },
  {
   "cell_type": "markdown",
   "metadata": {},
   "source": [
    "## Adding methods to our class"
   ]
  },
  {
   "cell_type": "code",
   "execution_count": 8,
   "metadata": {},
   "outputs": [],
   "source": [
    "class Person:\n",
    "    \n",
    "    # Class Attribute (shared between all the instances of the class)\n",
    "    species = 'Human'\n",
    "    \n",
    "    def __init__(self, name, age):\n",
    "        self.name = name\n",
    "        self.age = age\n",
    "        \n",
    "    def display_info(self):\n",
    "        print(\"{} is {} years old\".format(self.name, self.age))      "
   ]
  },
  {
   "cell_type": "code",
   "execution_count": 9,
   "metadata": {},
   "outputs": [],
   "source": [
    "mohammad = Person(\"Mohammad\", 25)"
   ]
  },
  {
   "cell_type": "code",
   "execution_count": 10,
   "metadata": {},
   "outputs": [
    {
     "name": "stdout",
     "output_type": "stream",
     "text": [
      "Mohammad is 25 years old\n"
     ]
    }
   ],
   "source": [
    "mohammad.display_info()"
   ]
  },
  {
   "cell_type": "markdown",
   "metadata": {},
   "source": [
    "## Python Inheritence"
   ]
  },
  {
   "cell_type": "markdown",
   "metadata": {},
   "source": [
    "Inheritance ocme for MPI students"
   ]
  },
  {
   "cell_type": "code",
   "execution_count": 11,
   "metadata": {},
   "outputs": [],
   "source": [
    "# Parent class\n",
    "class Person:\n",
    "    \n",
    "    # Class Attribute (shared between all the instances of the class)\n",
    "    species = 'Human'\n",
    "    \n",
    "    def __init__(self, name, age):\n",
    "        self.name = name\n",
    "        self.age = age\n",
    "        \n",
    "    def display_info(self):\n",
    "        print(\"{} is {} years old\".format(self.name, self.age))\n",
    "        \n",
    "#Child class\n",
    "class MPIPeople(Person):\n",
    "    \n",
    "    def __init__(self, name, age, supervisor):\n",
    "        super().__init__(name, age)\n",
    "        self.supervisor = supervisor"
   ]
  },
  {
   "cell_type": "code",
   "execution_count": 12,
   "metadata": {},
   "outputs": [],
   "source": [
    "mohammad = MPIPeople(\"Mohammad\", 25, \"Nick\")"
   ]
  },
  {
   "cell_type": "code",
   "execution_count": 13,
   "metadata": {},
   "outputs": [
    {
     "data": {
      "text/plain": [
       "'Nick'"
      ]
     },
     "execution_count": 13,
     "metadata": {},
     "output_type": "execute_result"
    }
   ],
   "source": [
    "mohammad.supervisor"
   ]
  },
  {
   "cell_type": "code",
   "execution_count": 14,
   "metadata": {},
   "outputs": [
    {
     "data": {
      "text/plain": [
       "('Mohammad', 25)"
      ]
     },
     "execution_count": 14,
     "metadata": {},
     "output_type": "execute_result"
    }
   ],
   "source": [
    "mohammad.name, mohammad.age"
   ]
  },
  {
   "cell_type": "code",
   "execution_count": 15,
   "metadata": {},
   "outputs": [
    {
     "name": "stdout",
     "output_type": "stream",
     "text": [
      "Mohammad is 25 years old\n"
     ]
    }
   ],
   "source": [
    "mohammad.display_info()"
   ]
  },
  {
   "cell_type": "markdown",
   "metadata": {},
   "source": [
    "Over-writting the parent method"
   ]
  },
  {
   "cell_type": "code",
   "execution_count": 16,
   "metadata": {},
   "outputs": [],
   "source": [
    "class MPIPeople(Person):\n",
    "    \n",
    "    def __init__(self, name, age, supervisor):\n",
    "        super().__init__(name, age)\n",
    "        self.supervisor = supervisor\n",
    "        \n",
    "    def display_info(self):\n",
    "        print(\"{} is {} years old and is working with {}\".format(self.name, self.age, self.supervisor))"
   ]
  },
  {
   "cell_type": "code",
   "execution_count": 18,
   "metadata": {},
   "outputs": [],
   "source": [
    "mohammad = MPIPeople(\"Mohammad\", 25, \"Nick\")"
   ]
  },
  {
   "cell_type": "code",
   "execution_count": 19,
   "metadata": {},
   "outputs": [
    {
     "name": "stdout",
     "output_type": "stream",
     "text": [
      "Mohammad is 25 years old and is working with Nick\n"
     ]
    }
   ],
   "source": [
    "mohammad.display_info()"
   ]
  },
  {
   "cell_type": "markdown",
   "metadata": {},
   "source": [
    "---\n",
    "## References\n",
    "- https://realpython.com/python3-object-oriented-programming/"
   ]
  }
 ],
 "metadata": {
  "kernelspec": {
   "display_name": "Python 3",
   "language": "python",
   "name": "python3"
  },
  "language_info": {
   "codemirror_mode": {
    "name": "ipython",
    "version": 3
   },
   "file_extension": ".py",
   "mimetype": "text/x-python",
   "name": "python",
   "nbconvert_exporter": "python",
   "pygments_lexer": "ipython3",
   "version": "3.6.8"
  }
 },
 "nbformat": 4,
 "nbformat_minor": 2
}
