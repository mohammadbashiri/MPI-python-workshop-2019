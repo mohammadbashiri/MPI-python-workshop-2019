{
 "cells": [
  {
   "cell_type": "markdown",
   "metadata": {},
   "source": [
    "# Python Beginners Workshop - Day4"
   ]
  },
  {
   "cell_type": "markdown",
   "metadata": {},
   "source": [
    "# Session 1b: Debugging"
   ]
  },
  {
   "cell_type": "markdown",
   "metadata": {},
   "source": [
    "Debugging applications can sometimes be for the purpose of identifying the problem of the code - why is it not runnig properly? On the other hand, you might be learning a new language feature or experimenting with a new approach and want to understand more deeply how something is working.\n",
    "\n",
    "Regardless of the situation, debugging code is a necessity, so it’s a good idea to be comfortable working in a debugger.\n",
    "\n",
    "Here is the general framework of using a debugger with your Python script:"
   ]
  },
  {
   "cell_type": "markdown",
   "metadata": {},
   "source": [
    "``` python\n",
    "##########################\n",
    "######  Your code  ####### \n",
    "##########################\n",
    "\n",
    "import pdb; pdb,set_trace()\n",
    "\n",
    "##########################\n",
    "######  Your code  ####### \n",
    "##########################\n",
    "```\n",
    "\n",
    "We also have the interactive python debugger (ipdb)\n",
    "``` python\n",
    "##########################\n",
    "######  Your code  ####### \n",
    "##########################\n",
    "\n",
    "import ipdb; pdb,set_trace()\n",
    "\n",
    "##########################\n",
    "######  Your code  ####### \n",
    "##########################\n",
    "```\n",
    "\n",
    "\n",
    "What to do when we enter the debugging mode?\n",
    "1. We can check out the value of each variable as well as all the stuff that we can do in python\n",
    "2. There are keybaord shortcuts that give us the control over the code flow.Here are the frequently used ones:\n",
    "    - s[tep]\n",
    "    - n[ext]\n",
    "    - l[ist]\n",
    "    - c[ontinue]\n",
    "    - q[uit]\n",
    "    - u[p]\n",
    "    - d[own]\n",
    "    - w[here]\n",
    "    - h[elp]"
   ]
  },
  {
   "cell_type": "markdown",
   "metadata": {},
   "source": [
    "## Demo\n",
    "\n",
    "We'll demo this with a toy example and the command prompt."
   ]
  },
  {
   "cell_type": "markdown",
   "metadata": {},
   "source": [
    "### Exercise\n",
    "\n",
    "Find the bug in the `my_module.py` script."
   ]
  },
  {
   "cell_type": "markdown",
   "metadata": {},
   "source": [
    "---\n",
    "## References\n",
    "- https://docs.python.org/3/library/pdb.html\n",
    "- https://github.com/gotcha/ipdb"
   ]
  }
 ],
 "metadata": {
  "kernelspec": {
   "display_name": "Python 3",
   "language": "python",
   "name": "python3"
  },
  "language_info": {
   "codemirror_mode": {
    "name": "ipython",
    "version": 3
   },
   "file_extension": ".py",
   "mimetype": "text/x-python",
   "name": "python",
   "nbconvert_exporter": "python",
   "pygments_lexer": "ipython3",
   "version": "3.6.8"
  }
 },
 "nbformat": 4,
 "nbformat_minor": 2
}
