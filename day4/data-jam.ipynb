{
 "cells": [
  {
   "cell_type": "markdown",
   "metadata": {},
   "source": [
    "## Please download the data, and answer the following questions by visualization means:"
   ]
  },
  {
   "cell_type": "markdown",
   "metadata": {},
   "source": [
    "### 1) Which attribute (columns) correlates most with number of papers?\n",
    "### 2) Is the answer to (1) different for different gender?\n",
    "### 3) Is the answer to (1) different for different MPIs?\n",
    "### 4) Which MPI publishes more?\n",
    "### 5) Do men or women publish more in MPI Biochem?\n",
    "### 6) Do men or women publish more in MPU Neuro?\n",
    "### 7) Do Germans Publish more than non-Germans?\n",
    "### 8) Do German men Publish more than non-German men?\n",
    "### 9) Do German women Publish more than non-German men?"
   ]
  },
  {
   "cell_type": "code",
   "execution_count": null,
   "metadata": {},
   "outputs": [],
   "source": []
  }
 ],
 "metadata": {
  "kernelspec": {
   "display_name": "Python 3",
   "language": "python",
   "name": "python3"
  },
  "language_info": {
   "codemirror_mode": {
    "name": "ipython",
    "version": 3
   },
   "file_extension": ".py",
   "mimetype": "text/x-python",
   "name": "python",
   "nbconvert_exporter": "python",
   "pygments_lexer": "ipython3",
   "version": "3.7.1"
  }
 },
 "nbformat": 4,
 "nbformat_minor": 2
}
