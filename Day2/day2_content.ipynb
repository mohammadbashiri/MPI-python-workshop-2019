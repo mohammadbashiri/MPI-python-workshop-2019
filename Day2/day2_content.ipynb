{
 "cells": [
  {
   "cell_type": "markdown",
   "metadata": {},
   "source": [
    "# Python beginner workshop - Day2"
   ]
  },
  {
   "cell_type": "markdown",
   "metadata": {},
   "source": [
    "This notebook includes every action or content I am planinng to do or present during day 2"
   ]
  },
  {
   "cell_type": "markdown",
   "metadata": {},
   "source": [
    "Here is what I want to cover in the whole first day.\n",
    "- [ ] [C] Recap of day 1\n",
    "- [ ] [C] Functions\n",
    "- [ ] [C] Logical Operations and flow control\n",
    "- [ ] [E] Exercise\n",
    "- [ ] [C] Numpy\n",
    "    - What is Numpy? and Why?\n",
    "    - Importing and Generating data\n",
    "    - Saving Numpy array\n",
    "    - Data Inspection\n",
    "    - Manipulating Numpy array\n",
    "- [ ] [E] Exercise\n",
    "- [ ] [C] Numpy (cont.)\n",
    "    - Slicing and Masking\n",
    "    - Combining and Splitting\n",
    "    - Vectorization\n",
    "- [ ] [E] Exercise\n",
    "- [ ] [C] Matplotlib\n",
    "    - Different types of figures\n",
    "    - Customizing figures\n",
    "    - Subplots\n",
    "    - Saving figures\n",
    "    - Animation\n",
    "- [ ] [E] Exercise\n",
    "- [ ] [C] Pandas\n",
    "    - What is Pandas? and Why? (labelled and inhomogenous data)\n",
    "    - Pandas Series and DataFrames\n",
    "    - Read from external files and URLs\n",
    "    - Save DataFrames\n",
    "    - Data Inspection\n",
    "    - How to get Numpy array from Pandas DataFrame\n",
    "- [ ] [E] Long Exercise\n",
    "- [ ] [S] Exercise review, summary, and plan for the next day"
   ]
  },
  {
   "cell_type": "markdown",
   "metadata": {},
   "source": [
    "## TODOs\n",
    "\n",
    "- They should understand the power of vectorization provided by Numpy\n",
    "\n",
    "For Exercises:\n",
    "- Remove the stars from the exercises\n",
    "- Add some Numpy Exercises with very easy concept - That should be how we start the Numpy exercises\n",
    "- Make the day more rewarding - give them some data to work with (from the exercise before lunch)\n",
    "- At the same time, the data they are going to work on should be preferrably something that makes them understand the importance of the tools that they learn in the future: convinient Pandas can be (Maybe give each column of the DataFrame as Numpy array and ask them to compute stuff using masking and all that)"
   ]
  },
  {
   "cell_type": "markdown",
   "metadata": {},
   "source": [
    "## Exercise\n"
   ]
  },
  {
   "cell_type": "markdown",
   "metadata": {},
   "source": [
    "---\n",
    "---\n",
    "\n",
    "<center>\n",
    "    <font size=\"+2\">Time: 09:00</font>\n",
    "</center>\n",
    "\n",
    "---"
   ]
  },
  {
   "cell_type": "markdown",
   "metadata": {},
   "source": [
    "<center>\n",
    "    <img src=\"https://github.com/mohammadbashiri/MPI-python-workshop-2019/blob/master/images/breaktime.jpg?raw=true\" width=\"50%\" height=\"50%\"/>\n",
    "</center>"
   ]
  },
  {
   "cell_type": "markdown",
   "metadata": {},
   "source": [
    "---\n",
    "---\n",
    "\n",
    "<center>\n",
    "    <font size=\"+2\">Time: 09:30</font>\n",
    "</center>"
   ]
  },
  {
   "cell_type": "markdown",
   "metadata": {},
   "source": [
    "---\n",
    "\n",
    "## References\n",
    "\n",
    "- From Python to Numpy: http://www.labri.fr/perso/nrougier/from-python-to-numpy/#code-vectorization"
   ]
  },
  {
   "cell_type": "code",
   "execution_count": null,
   "metadata": {},
   "outputs": [],
   "source": []
  }
 ],
 "metadata": {
  "kernelspec": {
   "display_name": "Python 3",
   "language": "python",
   "name": "python3"
  },
  "language_info": {
   "codemirror_mode": {
    "name": "ipython",
    "version": 3
   },
   "file_extension": ".py",
   "mimetype": "text/x-python",
   "name": "python",
   "nbconvert_exporter": "python",
   "pygments_lexer": "ipython3",
   "version": "3.6.8"
  }
 },
 "nbformat": 4,
 "nbformat_minor": 2
}
