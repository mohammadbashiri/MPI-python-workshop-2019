{
 "cells": [
  {
   "cell_type": "markdown",
   "metadata": {},
   "source": [
    "# Python Beginners Workshop"
   ]
  },
  {
   "cell_type": "markdown",
   "metadata": {},
   "source": [
    "## Session 2: Matplotlib"
   ]
  },
  {
   "cell_type": "markdown",
   "metadata": {},
   "source": [
    "## Learning Goals:\n",
    "\n",
    "- Create different types of figures\n",
    "- Customize the figure\n",
    "- Put several figures together\n",
    "- Save the figure"
   ]
  },
  {
   "cell_type": "markdown",
   "metadata": {},
   "source": [
    "---"
   ]
  },
  {
   "cell_type": "markdown",
   "metadata": {},
   "source": [
    "### Introduction"
   ]
  },
  {
   "cell_type": "markdown",
   "metadata": {},
   "source": [
    "Humans are very visual creatures: we understand things better when we see things visualized. Matplotlib is a flexible python library which can help you visualize your results. \n",
    "\n",
    "<div style=\"text-align:center\">\n",
    "    <img src =\"../images/mpl.png\" height=\"1200\" width=\"1200\"/>\n",
    "</div>\n",
    "\n",
    "You don’t need much to get started: you need to make the necessary imports, prepare some data, and you can start plotting with the help of the `plot()` function! Once you created your plot, you might need to explicitly write a command to show it, `show()`."
   ]
  },
  {
   "cell_type": "code",
   "execution_count": null,
   "metadata": {},
   "outputs": [],
   "source": [
    "import numpy as np\n",
    "import matplotlib.pyplot as plt"
   ]
  },
  {
   "cell_type": "markdown",
   "metadata": {},
   "source": [
    "Let's start by creating a Numpy array"
   ]
  },
  {
   "cell_type": "code",
   "execution_count": null,
   "metadata": {},
   "outputs": [],
   "source": [
    "plt.plot([0, 10, 5, 7, 2, 1, 8, 8, 4, 4]);"
   ]
  },
  {
   "cell_type": "markdown",
   "metadata": {},
   "source": [
    "Note that this results in a figure that contains the values (y axis) and their correspondign index number (x axis)"
   ]
  },
  {
   "cell_type": "code",
   "execution_count": null,
   "metadata": {},
   "outputs": [],
   "source": [
    "y = [0, 10, 5, 7, 2, 1, 8, 8, 4, 4]\n",
    "x = [.1, .2, .3, .4, .5, .6, .7, .8, .9, 1] \n",
    "plt.plot(x, y);"
   ]
  },
  {
   "cell_type": "code",
   "execution_count": null,
   "metadata": {},
   "outputs": [],
   "source": [
    "x = np.arange(0, 360, .01)\n",
    "x_rad = np.deg2rad(x)\n",
    "\n",
    "y = np.sin(x_rad)\n",
    "plt.plot(x, y);"
   ]
  },
  {
   "cell_type": "markdown",
   "metadata": {},
   "source": [
    "### Playing around with the line properties\n",
    "\n",
    "- color\n",
    "- style\n",
    "- width"
   ]
  },
  {
   "cell_type": "code",
   "execution_count": null,
   "metadata": {},
   "outputs": [],
   "source": [
    "plt.plot(x, y, color='r');"
   ]
  },
  {
   "cell_type": "markdown",
   "metadata": {},
   "source": [
    "Colors can be specified in different ways in matplotlib:\n",
    "- an RGB or RGBA tuple of float values defined between 0 and 1 (0 to 255 normalized)\n",
    "- a string representation of a float value defined between 0 and 1. This is used for grayscale\n",
    "- one of the characters below\n",
    "\n",
    "| Character | Color |\n",
    "|-----------|-------|\n",
    "|   'b'     |  blue |\n",
    "|   'g'     |  green |\n",
    "|   'r'     |  red |\n",
    "|   'c'     |  cyan |\n",
    "|   'm'     |  magenta |\n",
    "|   'y'     |  yellow |\n",
    "|   'k'     |  black |\n",
    "|   'w'     |  white |"
   ]
  },
  {
   "cell_type": "code",
   "execution_count": null,
   "metadata": {},
   "outputs": [],
   "source": [
    "plt.plot(x, y, color=(1, 0, 0));"
   ]
  },
  {
   "cell_type": "code",
   "execution_count": null,
   "metadata": {},
   "outputs": [],
   "source": [
    "plt.plot(x, y, color='.7');"
   ]
  },
  {
   "cell_type": "markdown",
   "metadata": {},
   "source": [
    "There are mainly four line styles available in matplotlib:\n",
    "- \"dotted\"\n",
    "- \"dashdot\"\n",
    "- \"dashed\"\n",
    "- \"solid\"\n",
    "\n",
    "you can use the following line to get a docstring:\n",
    "\n",
    "``` python\n",
    "plt.Line2D.set_linestyle?\n",
    "```\n",
    "\n",
    "![linestyle](https://matplotlib.org/_images/sphx_glr_line_styles_reference_001.png)"
   ]
  },
  {
   "cell_type": "code",
   "execution_count": null,
   "metadata": {},
   "outputs": [],
   "source": [
    "plt.plot(x, y, color='r', linestyle='dotted');"
   ]
  },
  {
   "cell_type": "code",
   "execution_count": null,
   "metadata": {},
   "outputs": [],
   "source": [
    "plt.plot(x, y, color='r', linestyle=':');"
   ]
  },
  {
   "cell_type": "markdown",
   "metadata": {},
   "source": [
    "There is a shortcut!!"
   ]
  },
  {
   "cell_type": "code",
   "execution_count": null,
   "metadata": {},
   "outputs": [],
   "source": [
    "plt.plot(x, y, 'r:');"
   ]
  },
  {
   "cell_type": "code",
   "execution_count": null,
   "metadata": {},
   "outputs": [],
   "source": [
    "plt.plot(x, y, color='r', linestyle='dashdot', linewidth=10);"
   ]
  },
  {
   "cell_type": "markdown",
   "metadata": {},
   "source": [
    "### Scatter Plot"
   ]
  },
  {
   "cell_type": "code",
   "execution_count": null,
   "metadata": {},
   "outputs": [],
   "source": []
  },
  {
   "cell_type": "markdown",
   "metadata": {},
   "source": [
    "### Heatmap"
   ]
  },
  {
   "cell_type": "code",
   "execution_count": null,
   "metadata": {},
   "outputs": [],
   "source": []
  },
  {
   "cell_type": "markdown",
   "metadata": {},
   "source": [
    "<br><br><br><br>\n",
    "\n",
    "### Playing around with the axes\n",
    "\n",
    "- axes range\n",
    "- labels\n",
    "    - fontsize\n",
    "- tick labels\n",
    "    - labels\n",
    "    - number of labels\n",
    "    - fontsize"
   ]
  },
  {
   "cell_type": "markdown",
   "metadata": {},
   "source": [
    "We can label our axis using `xlabel()` and `ylabel()` methods"
   ]
  },
  {
   "cell_type": "code",
   "execution_count": null,
   "metadata": {},
   "outputs": [],
   "source": [
    "x_rad = np.deg2rad(x)\n",
    "y = np.sin(x_rad)\n",
    "plt.plot(x, y);"
   ]
  },
  {
   "cell_type": "markdown",
   "metadata": {},
   "source": [
    "We can limit the range (make is smaller or bigger) of numbers for each axis"
   ]
  },
  {
   "cell_type": "code",
   "execution_count": null,
   "metadata": {},
   "outputs": [],
   "source": [
    "x_rad = np.deg2rad(x)\n",
    "y = np.sin(x_rad)\n",
    "plt.plot(x, y)\n",
    "\n",
    "plt.xlim(-100, 460)\n",
    "plt.ylim(-10, 10);"
   ]
  },
  {
   "cell_type": "code",
   "execution_count": null,
   "metadata": {},
   "outputs": [],
   "source": [
    "x_rad = np.deg2rad(x)\n",
    "y = np.sin(x_rad)\n",
    "plt.plot(x, y)\n",
    "\n",
    "plt.xlim(-10, 370)\n",
    "plt.ylim(-2, 2)\n",
    "\n",
    "plt.xlabel('X Label')\n",
    "plt.ylabel('Y Label');"
   ]
  },
  {
   "cell_type": "markdown",
   "metadata": {},
   "source": [
    "alright. Let's now play with the axis values. we can change the resolution at which we are showing values in each axes."
   ]
  },
  {
   "cell_type": "code",
   "execution_count": null,
   "metadata": {},
   "outputs": [],
   "source": [
    "x_rad = np.deg2rad(x)\n",
    "y = np.sin(x_rad)\n",
    "plt.plot(x, y)\n",
    "\n",
    "plt.xlim(-10, 370)\n",
    "plt.ylim(-2, 2)\n",
    "\n",
    "plt.xlabel('X Label')\n",
    "plt.ylabel('Y Label')\n",
    "\n",
    "plt.locator_params(axis='both', nbins=16)"
   ]
  },
  {
   "cell_type": "code",
   "execution_count": null,
   "metadata": {},
   "outputs": [],
   "source": [
    "x_rad = np.deg2rad(x)\n",
    "y = np.sin(x_rad)\n",
    "plt.plot(x, y)\n",
    "\n",
    "plt.xlim(-10, 370)\n",
    "plt.ylim(-2, 2)\n",
    "\n",
    "# plt.xlabel('X Label')\n",
    "plt.ylabel('Y Label')\n",
    "\n",
    "plt.xticks([100, 200, 300], ['Python', 'Is', 'Awesome']);"
   ]
  },
  {
   "cell_type": "code",
   "execution_count": null,
   "metadata": {},
   "outputs": [],
   "source": [
    "x_rad = np.deg2rad(x)\n",
    "y = np.sin(x_rad)\n",
    "plt.plot(x, y)\n",
    "\n",
    "plt.xlim(-10, 370)\n",
    "plt.ylim(-2, 2)\n",
    "\n",
    "# plt.xlabel('X Label')\n",
    "plt.ylabel('Y Label', fontsize=30)\n",
    "\n",
    "plt.yticks(fontsize=30)\n",
    "plt.xticks([90, 180, 300], ['Python', 'Is', 'Awesome'], fontsize=30);"
   ]
  },
  {
   "cell_type": "code",
   "execution_count": null,
   "metadata": {},
   "outputs": [],
   "source": [
    "x_rad = np.deg2rad(x)\n",
    "y = np.sin(x_rad)\n",
    "plt.plot(x, y)\n",
    "\n",
    "ax = plt.gca()\n",
    "ax.spines['top'].set_visible(False)\n",
    "ax.spines['right'].set_visible(False)\n",
    "# ax.spines['bottom'].set_visible(True)\n",
    "# ax.spines['left'].set_visible(True)\n",
    "\n",
    "# plt.axis('off')\n",
    "\n",
    "plt.xlim(-10, 370)\n",
    "plt.ylim(-2, 2)\n",
    "\n",
    "# plt.xlabel('X Label')\n",
    "plt.ylabel('Y Label', fontsize=30)\n",
    "\n",
    "plt.yticks(fontsize=30)\n",
    "plt.xticks([90, 180, 300], ['Python', 'Is', 'Awesome'], fontsize=30);"
   ]
  },
  {
   "cell_type": "markdown",
   "metadata": {},
   "source": [
    "Adding legends, colorbar, and grid"
   ]
  },
  {
   "cell_type": "code",
   "execution_count": null,
   "metadata": {},
   "outputs": [],
   "source": [
    "x_rad = np.deg2rad(x)\n",
    "y = np.sin(x_rad)\n",
    "plt.plot(x, y, label='Our first line')\n",
    "\n",
    "ax = plt.gca()\n",
    "ax.spines['top'].set_visible(False)\n",
    "ax.spines['right'].set_visible(False)\n",
    "# ax.spines['bottom'].set_visible(True)\n",
    "# ax.spines['left'].set_visible(True)\n",
    "\n",
    "plt.xlim(-10, 370)\n",
    "plt.ylim(-2, 2)\n",
    "\n",
    "plt.xlabel('')\n",
    "plt.ylabel('Y Label', fontsize=30)\n",
    "\n",
    "plt.yticks(fontsize=30)\n",
    "plt.xticks([90, 180, 300], ['Python', 'Is', 'Awesome'], fontsize=30)\n",
    "\n",
    "plt.grid()\n",
    "plt.legend(loc='upper left');"
   ]
  },
  {
   "cell_type": "code",
   "execution_count": null,
   "metadata": {},
   "outputs": [],
   "source": [
    "x_rad = np.deg2rad(x)\n",
    "y1 = np.sin(x_rad)\n",
    "y2 = np.cos(x_rad)\n",
    "plt.plot(x, y1, label='sin', color='r', linestyle='-.', linewidth=5)\n",
    "plt.plot(x, y2, label='cos', color='g', linestyle='-.', linewidth=5)\n",
    "\n",
    "ax = plt.gca()\n",
    "ax.spines['top'].set_visible(False)\n",
    "ax.spines['right'].set_visible(False)\n",
    "# ax.spines['bottom'].set_visible(True)\n",
    "# ax.spines['left'].set_visible(True)\n",
    "\n",
    "plt.xlim(-10, 370)\n",
    "plt.ylim(-2, 2)\n",
    "\n",
    "plt.xlabel('')\n",
    "plt.ylabel('Y Label', fontsize=30)\n",
    "\n",
    "plt.locator_params(axis='y', nbins=5)\n",
    "plt.yticks(fontsize=30)\n",
    "plt.xticks([90, 180, 300], ['Python', 'Is', 'Awesome'], fontsize=30)\n",
    "\n",
    "plt.grid()\n",
    "plt.legend(loc='upper left');\n",
    "plt.suptitle('Title', fontsize=30);"
   ]
  },
  {
   "cell_type": "markdown",
   "metadata": {},
   "source": [
    "### Anatomy of matplotlib plot\n",
    "\n",
    "In essence, there are two big components that you need to take into account:\n",
    "\n",
    "- The **Figure** is the overall window or page that everything is drawn on. It’s the top-level component of all the ones that you will consider in the following points. You can create multiple independent Figures. A Figure can have several other things in it, such as a **suptitle**, which is a centered title to the figure. You’ll also find that you can add a **legend** and **color bar**, for example, to your Figure.\n",
    "\n",
    "- To the figure you add Axes. The Axes is the area on which the data is plotted with functions such as `plot()` and `scatter()` and that can have ticks, labels, etc. associated with it. This explains why Figures can contain multiple Axes.\n",
    "<div style=\"text-align:center\">\n",
    "    <a href=\"https://matplotlib.org/1.5.1/faq/usage_faq.html\">\n",
    "    <img src =\"https://matplotlib.org/1.5.1/_images/fig_map.png\" />\n",
    "</div>"
   ]
  },
  {
   "cell_type": "markdown",
   "metadata": {},
   "source": [
    "Pretty much whatever we did above can be done with the axis objec as well. In other words, the methods used to manipulate the properties of a plot, for example `plt.xlabel()` all exist for an axes object as well. For instacne, instead of `plt.xlabel()` we can also use `ax.set_xlabel()`.  "
   ]
  },
  {
   "cell_type": "code",
   "execution_count": null,
   "metadata": {},
   "outputs": [],
   "source": [
    "fig, ax = plt.subplots()  # figsize=(10, 5)\n",
    "\n",
    "# remove axis boarders\n",
    "ax.spines['top'].set_visible(False)\n",
    "ax.spines['right'].set_visible(False)\n",
    "\n",
    "ax.plot(x, y1, label='sin', color='r', linestyle='-.', linewidth=5)\n",
    "ax.plot(x, y2, label='cos', color='g', linestyle='-.', linewidth=5)\n",
    "\n",
    "# setting labels\n",
    "ax.set_xlabel('', fontsize=30)  # plt.xlabel('X Label')\n",
    "ax.set_ylabel('Y Label', fontsize=30);  # plt.ylabel('Y Label')\n",
    "\n",
    "# changing the values on the axes\n",
    "ax.locator_params(axis='both', nbins=4)\n",
    "ax.set_xticks([90, 180, 300])\n",
    "ax.set_xticklabels(['Python', 'Is', 'Awesome'])\n",
    "ax.tick_params(axis='both', \n",
    "               direction='in', \n",
    "               labelsize=30)\n",
    "\n",
    "ax.legend(loc='lower left')\n",
    "ax.grid()"
   ]
  },
  {
   "cell_type": "markdown",
   "metadata": {},
   "source": [
    "### Subplots"
   ]
  },
  {
   "cell_type": "code",
   "execution_count": null,
   "metadata": {},
   "outputs": [],
   "source": [
    "fig, axes = plt.subplots(nrows=2, ncols=1)"
   ]
  },
  {
   "cell_type": "code",
   "execution_count": null,
   "metadata": {},
   "outputs": [],
   "source": [
    "axes"
   ]
  },
  {
   "cell_type": "code",
   "execution_count": null,
   "metadata": {},
   "outputs": [],
   "source": [
    "fig, axes = plt.subplots(nrows=2, ncols=1)\n",
    "axes[0].plot(x, y1)\n",
    "axes[1].plot(x, y2);"
   ]
  },
  {
   "cell_type": "code",
   "execution_count": null,
   "metadata": {},
   "outputs": [],
   "source": [
    "(ax1, ax2) = axes"
   ]
  },
  {
   "cell_type": "code",
   "execution_count": null,
   "metadata": {},
   "outputs": [],
   "source": [
    "fig, (ax1, ax2) = plt.subplots(nrows=2, ncols=1)\n",
    "ax1.plot(x, y1)\n",
    "ax2.plot(x, y2);"
   ]
  },
  {
   "cell_type": "markdown",
   "metadata": {},
   "source": [
    "What if we have more subplots?"
   ]
  },
  {
   "cell_type": "code",
   "execution_count": null,
   "metadata": {},
   "outputs": [],
   "source": [
    "fig, axes = plt.subplots(nrows=3, ncols=3)\n",
    "for ax in axes.flat:\n",
    "    ax.plot(np.random.random(100))"
   ]
  },
  {
   "cell_type": "code",
   "execution_count": null,
   "metadata": {},
   "outputs": [],
   "source": [
    "fig, axes = plt.subplots(nrows=3, ncols=3)\n",
    "for ax in axes.flat:\n",
    "    ax.plot(np.random.random(100))\n",
    "fig.tight_layout()"
   ]
  },
  {
   "cell_type": "markdown",
   "metadata": {},
   "source": [
    "If we have several plots that share the same axis we can share the numbers on the axis (i.e., ticklabels)"
   ]
  },
  {
   "cell_type": "code",
   "execution_count": null,
   "metadata": {},
   "outputs": [],
   "source": [
    "fig, axes = plt.subplots(nrows=3, ncols=3, sharex=True, sharey=True)\n",
    "for ax in axes.flat:\n",
    "    ax.plot(np.random.random(100))"
   ]
  },
  {
   "cell_type": "code",
   "execution_count": null,
   "metadata": {},
   "outputs": [],
   "source": [
    "x = np.arange(0, 360, 5)\n",
    "x_rad = np.deg2rad(x)\n",
    "y1 = np.sin(x_rad)\n",
    "y2 = np.cos(x_rad)\n",
    "\n",
    "fig, axes = plt.subplots(nrows=3, ncols=3, sharex=True, sharey=True, figsize=(15, 10))\n",
    "colors = ['b', 'g', 'r', 'c', 'm', 'y', 'k', 'w', 'b']\n",
    "for ind, (col, ax) in enumerate(zip(colors, axes.flat)):\n",
    "    ax.plot(x, y1 + np.random.random(x.shape[0]), color=col, linewidth=ind+1, label= 'Line width = ' + str(ind))\n",
    "\n",
    "    # changing the values on the axes\n",
    "    ax.locator_params(axis='both', nbins=4)\n",
    "    ax.tick_params(axis='both', labelsize=30)\n",
    "    ax.legend(loc='lower left', fontsize=15)\n",
    "    ax.grid()\n",
    "\n",
    "# Note that we are setting the labels for specific axes\n",
    "axes[2, 1].set_xlabel('X Label', fontsize=30)\n",
    "axes[1, 0].set_ylabel('Y Label', fontsize=30)\n",
    "fig.tight_layout()"
   ]
  },
  {
   "cell_type": "code",
   "execution_count": null,
   "metadata": {},
   "outputs": [],
   "source": [
    "from matplotlib.gridspec import GridSpec\n",
    "\n",
    "fig = plt.figure(figsize=(15, 10))\n",
    "\n",
    "gs = GridSpec(3, 3)\n",
    "ax1 = plt.subplot(gs[0, :])\n",
    "ax2 = plt.subplot(gs[1, :-1])\n",
    "ax3 = plt.subplot(gs[1:, -1])\n",
    "ax4 = plt.subplot(gs[2, 0])\n",
    "ax5 = plt.subplot(gs[2, 1])\n",
    "\n",
    "axes = (ax1, ax2, ax3, ax4, ax5)\n",
    "\n",
    "colors = ['b', 'g', 'r', 'c', 'm', 'y', 'k', 'w', 'b']\n",
    "for ind, (col, ax) in enumerate(zip(colors, axes)):\n",
    "    ax.plot(x, y1 + np.random.random(x.shape[0]), color=col, linewidth=ind+1, label= 'Line width = ' + str(ind))\n",
    "\n",
    "    # changing the values on the axes\n",
    "    ax.locator_params(axis='both', nbins=4)\n",
    "    ax.tick_params(axis='both', labelsize=30)\n",
    "    ax.legend(loc='lower left', fontsize=15)\n",
    "    ax.grid()\n",
    "\n",
    "fig.tight_layout()"
   ]
  },
  {
   "cell_type": "markdown",
   "metadata": {},
   "source": [
    "### Save the figure\n",
    "\n",
    "- resolution\n",
    "- transparent background"
   ]
  },
  {
   "cell_type": "code",
   "execution_count": null,
   "metadata": {},
   "outputs": [],
   "source": [
    "fig.savefig(\"NameOfTheFile.png\", transparent=True)"
   ]
  },
  {
   "cell_type": "markdown",
   "metadata": {},
   "source": [
    "---"
   ]
  },
  {
   "cell_type": "markdown",
   "metadata": {},
   "source": [
    "<br><br><br>\n",
    "\n",
    "### References:\n",
    "- https://www.datacamp.com/courses/introduction-to-data-visualization-with-python (first two blocks)\n",
    "- https://matplotlib.org/gallery.html\n",
    "- https://github.com/matplotlib/AnatomyOfMatplotlib\n",
    "- https://github.com/jbmouret/matplotlib_for_papers\n",
    "- https://jakevdp.github.io/blog/2013/07/10/XKCD-plots-in-matplotlib/\n",
    "- https://jakevdp.github.io/blog/2012/10/07/xkcd-style-plots-in-matplotlib/\n",
    "- the [cheat sheet](https://s3.amazonaws.com/assets.datacamp.com/blog_assets/Python_Matplotlib_Cheat_Sheet.pdf)"
   ]
  },
  {
   "cell_type": "markdown",
   "metadata": {},
   "source": [
    "---"
   ]
  },
  {
   "cell_type": "markdown",
   "metadata": {},
   "source": [
    "### Bonus: Fun with Matplotlib"
   ]
  },
  {
   "cell_type": "code",
   "execution_count": null,
   "metadata": {},
   "outputs": [],
   "source": [
    "with plt.xkcd():\n",
    "    plt.plot(np.sin(np.linspace(0, 10)))\n",
    "    plt.title('Whoo Hoo!!!');"
   ]
  },
  {
   "cell_type": "code",
   "execution_count": null,
   "metadata": {},
   "outputs": [],
   "source": [
    "with plt.xkcd():\n",
    "    fig, axes = plt.subplots(nrows=3, ncols=3, sharex=True, sharey=True, figsize=(15, 10))\n",
    "    colors = ['b', 'g', 'r', 'c', 'm', 'y', 'k', 'w', 'b']\n",
    "    for ind, (col, ax) in enumerate(zip(colors, axes.flat)):\n",
    "        ax.plot(x, y1 + np.random.random(x.shape[0]), color=col, linewidth=ind+1)\n",
    "        ax.grid()\n",
    "\n",
    "    fig.tight_layout()"
   ]
  },
  {
   "cell_type": "markdown",
   "metadata": {},
   "source": [
    "#### **Installing new font for your matplotlib library**\n",
    "\n",
    "1. Downlaod the font\n",
    "2. Install the font in the system\n",
    "3. Rebuilt the font cache\n",
    "    \n",
    "Downlaod a font is as easy as searching the name and add \"download\" in google.<br>\n",
    "Downlaod links:\n",
    "- xkcd: https://github.com/ipython/xkcd-font/blob/master/xkcd-script/font/xkcd-script.ttf\n",
    "- Humor Sans: https://github.com/shreyankg/xkcd-desktop/blob/master/Humor-Sans.ttf\n",
    "- Comic Sans MS: https://www.wfonts.com/download/data/2014/06/05/comic-sans-ms/comic-sans-ms.zip\n",
    "\n",
    "To get the path to the fonts directory of the system,a s well as getting a list of available fonts, you cand o the following:\n",
    "\n",
    "``` Python\n",
    "import matplotlib.font_manager\n",
    "paths = matplotlib.font_manager.findSystemFonts(fontpaths=None, fontext='ttf')\n",
    "names = [path.split('/')[-1].split('.')[0] for path in paths]\n",
    "names\n",
    "```\n",
    "\n",
    "once you have the path, and the fonts. you can install the fonts, and check again if the fonts are available (using the above code snippet).\n",
    "\n",
    "But you will probably still get the same warning as before. So rebult the matplotlib font cache and (hopefully) the warning is gone and your figure will be using the font of your choice. Rebuilt as follow:\n",
    "\n",
    "``` python\n",
    "import matplotlib\n",
    "matplotlib.font_manager._rebuild()\n",
    "```"
   ]
  },
  {
   "cell_type": "code",
   "execution_count": null,
   "metadata": {},
   "outputs": [],
   "source": [
    "import matplotlib.font_manager\n",
    "paths = matplotlib.font_manager.findSystemFonts(fontpaths=None, fontext='ttf')\n",
    "names = [path.split('/')[-1].split('.')[0] for path in paths]\n",
    "# names"
   ]
  },
  {
   "cell_type": "code",
   "execution_count": null,
   "metadata": {},
   "outputs": [],
   "source": [
    "\"Humor-Sans\" in names"
   ]
  },
  {
   "cell_type": "code",
   "execution_count": null,
   "metadata": {},
   "outputs": [],
   "source": [
    "matplotlib.font_manager._rebuild()"
   ]
  },
  {
   "cell_type": "code",
   "execution_count": null,
   "metadata": {},
   "outputs": [],
   "source": [
    "matplotlib.font_manager._rebuild"
   ]
  },
  {
   "cell_type": "code",
   "execution_count": null,
   "metadata": {},
   "outputs": [],
   "source": []
  }
 ],
 "metadata": {
  "kernelspec": {
   "display_name": "Python 3",
   "language": "python",
   "name": "python3"
  },
  "language_info": {
   "codemirror_mode": {
    "name": "ipython",
    "version": 3
   },
   "file_extension": ".py",
   "mimetype": "text/x-python",
   "name": "python",
   "nbconvert_exporter": "python",
   "pygments_lexer": "ipython3",
   "version": "3.6.8"
  }
 },
 "nbformat": 4,
 "nbformat_minor": 2
}
