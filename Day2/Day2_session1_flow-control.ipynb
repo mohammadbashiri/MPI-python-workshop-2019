{
 "cells": [
  {
   "cell_type": "markdown",
   "metadata": {
    "slideshow": {
     "slide_type": "slide"
    }
   },
   "source": [
    "## Programmatic Control Flow: the If-elif-else statements\n",
    "When you want your program to do one thing **if** something is **True**, and something **else** **if** some other condition is **True**, or **else** do some final thing if all those conditions before were **False**...\n",
    "\n",
    " - **\\>**: \"is greater than\"\n",
    " - **<**: \"is less than\"\n",
    " - **==**: \"is equal to\n",
    " - **!=**: \"is *not* equal to\"\n",
    "\n",
    "Comparison Always Comes down to **True** vs **False**."
   ]
  },
  {
   "cell_type": "code",
   "execution_count": null,
   "metadata": {
    "slideshow": {
     "slide_type": "fragment"
    }
   },
   "outputs": [],
   "source": [
    "a = 3\n",
    "b = 10\n",
    "c = 4"
   ]
  },
  {
   "cell_type": "markdown",
   "metadata": {},
   "source": [
    "To be safe, you can use parantheses:"
   ]
  },
  {
   "cell_type": "code",
   "execution_count": null,
   "metadata": {},
   "outputs": [],
   "source": [
    "(a < b) or (b < c)"
   ]
  },
  {
   "cell_type": "code",
   "execution_count": null,
   "metadata": {
    "slideshow": {
     "slide_type": "fragment"
    }
   },
   "outputs": [],
   "source": [
    "a, b, c, a_string, a_bool = -2, 0, 2, 'hello', True\n",
    "\n",
    "if a > b:\n",
    "    print('The first statement was True!')\n",
    "elif c > a:\n",
    "    print('The second statement was True')\n",
    "else:\n",
    "    print('Nothing was True')"
   ]
  },
  {
   "cell_type": "markdown",
   "metadata": {},
   "source": [
    "### Special Operator for collections: \"in\""
   ]
  },
  {
   "cell_type": "code",
   "execution_count": 42,
   "metadata": {},
   "outputs": [
    {
     "data": {
      "text/plain": [
       "True"
      ]
     },
     "execution_count": 42,
     "metadata": {},
     "output_type": "execute_result"
    }
   ],
   "source": [
    "animals = ['dog', 'cat', 'mouse', 'rat', 'bat']\n",
    "'bat' in animals\n",
    "['bat'] in animals\n",
    "'o' in 'mouse'"
   ]
  },
  {
   "cell_type": "code",
   "execution_count": null,
   "metadata": {},
   "outputs": [],
   "source": []
  }
 ],
 "metadata": {
  "kernelspec": {
   "display_name": "Python 3",
   "language": "python",
   "name": "python3"
  },
  "language_info": {
   "codemirror_mode": {
    "name": "ipython",
    "version": 3
   },
   "file_extension": ".py",
   "mimetype": "text/x-python",
   "name": "python",
   "nbconvert_exporter": "python",
   "pygments_lexer": "ipython3",
   "version": "3.6.8"
  }
 },
 "nbformat": 4,
 "nbformat_minor": 2
}
