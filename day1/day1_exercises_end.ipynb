{
 "cells": [
  {
   "cell_type": "markdown",
   "metadata": {},
   "source": [
    "# Day 1 Exercises"
   ]
  },
  {
   "cell_type": "markdown",
   "metadata": {},
   "source": [
    "## What `class` does the object belong to?"
   ]
  },
  {
   "cell_type": "markdown",
   "metadata": {},
   "source": [
    "To get the type (or class) of any object in Python, we can use the `type` built-in method.\n",
    "\n",
    "Example:\n",
    "``` python\n",
    ">>> a = 5\n",
    ">>> type(5)\n",
    "```\n",
    "\n",
    "### Exercise\n",
    "Please find the type of the following objects."
   ]
  },
  {
   "cell_type": "code",
   "execution_count": 113,
   "metadata": {},
   "outputs": [],
   "source": [
    "a = 2\n",
    "b = 2.\n",
    "c = 2.5\n",
    "d = 10 / 2\n",
    "e = 10 // 2\n",
    "f = \"What is my class name?\"\n",
    "g = [1, \"2\", 3, \"4\", 5, \"and so on..\"]\n",
    "h = tuple(g)\n",
    "i = {\"a\": \"int\", \"b\": \"float\", \"f\": \"str\", \"h\": \"tuple\"}"
   ]
  },
  {
   "cell_type": "code",
   "execution_count": null,
   "metadata": {},
   "outputs": [],
   "source": []
  },
  {
   "cell_type": "markdown",
   "metadata": {},
   "source": [
    "## Tuple unpacking\n",
    "\n",
    "If we have a collection (e.g., list or tuple), we can store every element of them in a single variable by unpacking:\n",
    "\n",
    "``` python\n",
    ">>> my_tuple = (3, \"value2\", 10.5)\n",
    ">>> a, b, c = my_tuple\n",
    "```"
   ]
  },
  {
   "cell_type": "markdown",
   "metadata": {},
   "source": [
    "### Exercise\n",
    "\n",
    "Unpack the following tuples into variables that have only a single value (they are not a list or a tuple)."
   ]
  },
  {
   "cell_type": "code",
   "execution_count": 165,
   "metadata": {},
   "outputs": [],
   "source": [
    "a_tuple = (3, \"value2\", 10.5)"
   ]
  },
  {
   "cell_type": "code",
   "execution_count": null,
   "metadata": {},
   "outputs": [],
   "source": []
  },
  {
   "cell_type": "code",
   "execution_count": 171,
   "metadata": {},
   "outputs": [],
   "source": [
    "a_list = [3, \"value2\", 10.5]"
   ]
  },
  {
   "cell_type": "code",
   "execution_count": null,
   "metadata": {},
   "outputs": [],
   "source": []
  },
  {
   "cell_type": "code",
   "execution_count": 175,
   "metadata": {},
   "outputs": [],
   "source": [
    "my_tuple = ((3, \"value2\"), 10.5)"
   ]
  },
  {
   "cell_type": "code",
   "execution_count": null,
   "metadata": {},
   "outputs": [],
   "source": []
  },
  {
   "cell_type": "code",
   "execution_count": 179,
   "metadata": {},
   "outputs": [],
   "source": [
    "my_tuple = ((3, \"value2\"), 10.5, (30, \"value20\", 105))"
   ]
  },
  {
   "cell_type": "code",
   "execution_count": null,
   "metadata": {},
   "outputs": [],
   "source": []
  },
  {
   "cell_type": "markdown",
   "metadata": {},
   "source": [
    "---"
   ]
  },
  {
   "cell_type": "markdown",
   "metadata": {},
   "source": [
    "## Strings\n",
    "\n",
    "Python provides some basic built-in functions which helps us to get some insight about the data/object we are dealing with. <br>\n",
    "For example, the `len()` function, tells us how many elements does our object (e.g., string, list, tuple, etc.) have."
   ]
  },
  {
   "cell_type": "code",
   "execution_count": 1,
   "metadata": {},
   "outputs": [
    {
     "name": "stdout",
     "output_type": "stream",
     "text": [
      "23\n"
     ]
    }
   ],
   "source": [
    "my_str = \"Here is a sample string\"\n",
    "print(len(my_str))"
   ]
  },
  {
   "cell_type": "markdown",
   "metadata": {},
   "source": [
    "### Exercise\n",
    "Find the length of the given string."
   ]
  },
  {
   "cell_type": "code",
   "execution_count": 2,
   "metadata": {},
   "outputs": [],
   "source": [
    "a_str = \"How many characters do I contain?\""
   ]
  },
  {
   "cell_type": "code",
   "execution_count": null,
   "metadata": {},
   "outputs": [],
   "source": []
  },
  {
   "cell_type": "markdown",
   "metadata": {},
   "source": [
    "### What methods are there?\n",
    "\n",
    "beside the built-in functions provided by Python, every object in Python (and remember: everything in Python is an object) comes with some methods which can be used to explore and/or manipulate the object.\n",
    "\n",
    "One can see these methods in two ways:\n",
    "- the \".\" operator and TAB\n",
    "- the python built-in function `dir()`\n",
    "\n",
    "### What does the method do?\n",
    "\n",
    "If we want to know more about a specific method, we need to look at its documentation. <br>\n",
    "The documentation of any method or attribute of an object can be displayed by adding `??` at the end of the method.\n",
    "\n",
    "for example, if we have a string with value \"here is a string\", we can look at its methods:"
   ]
  },
  {
   "cell_type": "code",
   "execution_count": 4,
   "metadata": {},
   "outputs": [],
   "source": [
    "my_str = \"here is a string\""
   ]
  },
  {
   "cell_type": "code",
   "execution_count": 5,
   "metadata": {},
   "outputs": [
    {
     "data": {
      "text/plain": [
       "['__add__',\n",
       " '__class__',\n",
       " '__contains__',\n",
       " '__delattr__',\n",
       " '__dir__',\n",
       " '__doc__',\n",
       " '__eq__',\n",
       " '__format__',\n",
       " '__ge__',\n",
       " '__getattribute__',\n",
       " '__getitem__',\n",
       " '__getnewargs__',\n",
       " '__gt__',\n",
       " '__hash__',\n",
       " '__init__',\n",
       " '__init_subclass__',\n",
       " '__iter__',\n",
       " '__le__',\n",
       " '__len__',\n",
       " '__lt__',\n",
       " '__mod__',\n",
       " '__mul__',\n",
       " '__ne__',\n",
       " '__new__',\n",
       " '__reduce__',\n",
       " '__reduce_ex__',\n",
       " '__repr__',\n",
       " '__rmod__',\n",
       " '__rmul__',\n",
       " '__setattr__',\n",
       " '__sizeof__',\n",
       " '__str__',\n",
       " '__subclasshook__',\n",
       " 'capitalize',\n",
       " 'casefold',\n",
       " 'center',\n",
       " 'count',\n",
       " 'encode',\n",
       " 'endswith',\n",
       " 'expandtabs',\n",
       " 'find',\n",
       " 'format',\n",
       " 'format_map',\n",
       " 'index',\n",
       " 'isalnum',\n",
       " 'isalpha',\n",
       " 'isdecimal',\n",
       " 'isdigit',\n",
       " 'isidentifier',\n",
       " 'islower',\n",
       " 'isnumeric',\n",
       " 'isprintable',\n",
       " 'isspace',\n",
       " 'istitle',\n",
       " 'isupper',\n",
       " 'join',\n",
       " 'ljust',\n",
       " 'lower',\n",
       " 'lstrip',\n",
       " 'maketrans',\n",
       " 'partition',\n",
       " 'replace',\n",
       " 'rfind',\n",
       " 'rindex',\n",
       " 'rjust',\n",
       " 'rpartition',\n",
       " 'rsplit',\n",
       " 'rstrip',\n",
       " 'split',\n",
       " 'splitlines',\n",
       " 'startswith',\n",
       " 'strip',\n",
       " 'swapcase',\n",
       " 'title',\n",
       " 'translate',\n",
       " 'upper',\n",
       " 'zfill']"
      ]
     },
     "execution_count": 5,
     "metadata": {},
     "output_type": "execute_result"
    }
   ],
   "source": [
    "dir(my_str)"
   ]
  },
  {
   "cell_type": "markdown",
   "metadata": {},
   "source": [
    "And if let's say we want to know what method `title()` does:"
   ]
  },
  {
   "cell_type": "code",
   "execution_count": 6,
   "metadata": {},
   "outputs": [
    {
     "data": {
      "text/plain": [
       "\u001b[0;31mDocstring:\u001b[0m\n",
       "S.title() -> str\n",
       "\n",
       "Return a titlecased version of S, i.e. words start with title case\n",
       "characters, all remaining cased characters have lower case.\n",
       "\u001b[0;31mType:\u001b[0m      builtin_function_or_method\n"
      ]
     },
     "metadata": {},
     "output_type": "display_data"
    }
   ],
   "source": [
    "my_str.title??"
   ]
  },
  {
   "cell_type": "markdown",
   "metadata": {},
   "source": [
    "<br>\n",
    "\n",
    "### Exercise\n",
    "Use the `capitalize()`, `title()`, `swapcase()`, `lower()`, `upper()`, `replace()`, and `strip()` methods, or the `+` or `*` operators, to perform the following modifications:"
   ]
  },
  {
   "cell_type": "markdown",
   "metadata": {},
   "source": [
    "**python is awesome -> PYTHON IS AWESOME**"
   ]
  },
  {
   "cell_type": "code",
   "execution_count": null,
   "metadata": {},
   "outputs": [],
   "source": []
  },
  {
   "cell_type": "markdown",
   "metadata": {},
   "source": [
    "**the great danton -> The Great Danton**"
   ]
  },
  {
   "cell_type": "code",
   "execution_count": null,
   "metadata": {},
   "outputs": [],
   "source": []
  },
  {
   "cell_type": "markdown",
   "metadata": {},
   "source": [
    "**beginning of a paragraph -> Beginning of a paragraph**"
   ]
  },
  {
   "cell_type": "code",
   "execution_count": null,
   "metadata": {},
   "outputs": [],
   "source": []
  },
  {
   "cell_type": "markdown",
   "metadata": {},
   "source": [
    "**three -> threethreethree**"
   ]
  },
  {
   "cell_type": "code",
   "execution_count": null,
   "metadata": {},
   "outputs": [],
   "source": []
  },
  {
   "cell_type": "markdown",
   "metadata": {},
   "source": [
    "**Hello -> hello**"
   ]
  },
  {
   "cell_type": "code",
   "execution_count": null,
   "metadata": {},
   "outputs": [],
   "source": []
  },
  {
   "cell_type": "markdown",
   "metadata": {},
   "source": [
    "**HEllO -> heLLo**"
   ]
  },
  {
   "cell_type": "code",
   "execution_count": null,
   "metadata": {},
   "outputs": [],
   "source": []
  },
  {
   "cell_type": "markdown",
   "metadata": {},
   "source": [
    "**I hate programming -> I love programming**"
   ]
  },
  {
   "cell_type": "code",
   "execution_count": null,
   "metadata": {},
   "outputs": [],
   "source": []
  },
  {
   "cell_type": "markdown",
   "metadata": {},
   "source": [
    "**I love Python-> love**"
   ]
  },
  {
   "cell_type": "code",
   "execution_count": null,
   "metadata": {},
   "outputs": [],
   "source": []
  },
  {
   "cell_type": "markdown",
   "metadata": {},
   "source": [
    "### Exercise\n",
    "Using the string method `split()`, split the given string into a list of words that make it up."
   ]
  },
  {
   "cell_type": "code",
   "execution_count": 20,
   "metadata": {},
   "outputs": [],
   "source": [
    "my_str = \"Today is Monday, 11th March\""
   ]
  },
  {
   "cell_type": "code",
   "execution_count": null,
   "metadata": {},
   "outputs": [],
   "source": []
  },
  {
   "cell_type": "markdown",
   "metadata": {},
   "source": [
    "As you have probably notices, the `split()` method by default uses SPACE as the separating character. \n",
    "\n",
    "### Exercise\n",
    "How can we separate `my_str` by the comma?\n",
    "``` python\n",
    ">>> ['Today is Monday', ' 11th March']\n",
    "```"
   ]
  },
  {
   "cell_type": "code",
   "execution_count": null,
   "metadata": {},
   "outputs": [],
   "source": []
  },
  {
   "cell_type": "markdown",
   "metadata": {},
   "source": [
    "### Formatting strings\n",
    "\n",
    "The most common method used for strings is the `format()` method, so it deserve a special mention. It is used to insert data into a string. It is similar to `replace()` method but only replaces curly braces, `{}`. And it's such a powerful and useful method that there is a whole webpage dedicated to showing all the ways you can use it: https://pyformat.info/\n",
    "\n",
    "So we have a string, and we want to insert the value of some other variables inside it. Here is what we do:\n",
    "- add {} in the place of the variables in the string\n",
    "- add the `format()` method at the end of the string\n",
    "- give the variables as input to the `format()` method\n",
    "\n",
    "Here is an example:\n",
    "``` python\n",
    ">>> my_str = \"variable one has value {} and variable two {}\"\n",
    ">>> my_str.format(1, 2)\n",
    ">>> \"variable one has value 1 and variable two 2\"\n",
    "```"
   ]
  },
  {
   "cell_type": "markdown",
   "metadata": {},
   "source": [
    "### Exercise\n",
    "Use the `format()` method to make the following three sentences (all the numbers should be replaces by `{}`).\n",
    "\n",
    "**I bought 3 dogs**\n",
    "\n",
    "**I'd like to have 6 children**\n",
    "\n",
    "**Our workshop is 4 days. Now we are in day 1, so 3 more days to go**"
   ]
  },
  {
   "cell_type": "code",
   "execution_count": null,
   "metadata": {},
   "outputs": [],
   "source": []
  },
  {
   "cell_type": "markdown",
   "metadata": {},
   "source": [
    "---"
   ]
  },
  {
   "cell_type": "markdown",
   "metadata": {},
   "source": [
    "## Indexing and Slicing\n",
    "\n",
    "To index a collection (e.g., list or tuple), we use square brackets, `[ ]`, and specify the index of the element of interest (remember that Python is 0-indexed). If we are interested in a range of indices we can specify the index of the start and end elements, as well as how many element we'd like to jump over. Here is a summary\n",
    "\n",
    "``` python\n",
    ">>> my_collection[ind]  # returns a single element\n",
    ">>> my_collection[start_ind:end_ind:jump]  # returns multiple elements\n",
    "```\n",
    "\n",
    "### Exercise\n",
    "\n",
    "Given the following list, please do the following tasks:"
   ]
  },
  {
   "cell_type": "code",
   "execution_count": 25,
   "metadata": {},
   "outputs": [],
   "source": [
    "my_list = [3, 2, 4, -5, 6, 4, 3, -4, 5, 6, 0, 8, 9, 7, -1]"
   ]
  },
  {
   "cell_type": "markdown",
   "metadata": {},
   "source": [
    "1) Display the first 5 elements of the list."
   ]
  },
  {
   "cell_type": "code",
   "execution_count": null,
   "metadata": {},
   "outputs": [],
   "source": []
  },
  {
   "cell_type": "markdown",
   "metadata": {},
   "source": [
    "2) Display every second elmenet of the first 5 elements of the list."
   ]
  },
  {
   "cell_type": "code",
   "execution_count": null,
   "metadata": {},
   "outputs": [],
   "source": []
  },
  {
   "cell_type": "markdown",
   "metadata": {},
   "source": [
    "3) Display 5 elements starting from element with index 2."
   ]
  },
  {
   "cell_type": "code",
   "execution_count": null,
   "metadata": {},
   "outputs": [],
   "source": []
  },
  {
   "cell_type": "markdown",
   "metadata": {},
   "source": [
    "4) Diaply the last 5 elements of the list."
   ]
  },
  {
   "cell_type": "code",
   "execution_count": null,
   "metadata": {},
   "outputs": [],
   "source": []
  },
  {
   "cell_type": "markdown",
   "metadata": {},
   "source": [
    "5) Display every second element of the last five elements of the list."
   ]
  },
  {
   "cell_type": "code",
   "execution_count": null,
   "metadata": {},
   "outputs": [],
   "source": []
  },
  {
   "cell_type": "markdown",
   "metadata": {},
   "source": [
    "6) Display the whole list in the reverse order."
   ]
  },
  {
   "cell_type": "code",
   "execution_count": null,
   "metadata": {},
   "outputs": [],
   "source": []
  },
  {
   "cell_type": "markdown",
   "metadata": {},
   "source": [
    "---"
   ]
  },
  {
   "cell_type": "markdown",
   "metadata": {},
   "source": [
    "## Lists and Tuples\n",
    "\n",
    "Given the following tuple, please perform the tasks below:"
   ]
  },
  {
   "cell_type": "code",
   "execution_count": 49,
   "metadata": {},
   "outputs": [],
   "source": [
    "my_tuple = (3, 2, 4, -5, 6, 4, 2, -4, 4, 6, 0, 8, 9, 7, -1)"
   ]
  },
  {
   "cell_type": "markdown",
   "metadata": {},
   "source": [
    "1) How many elements does the the tuple have?"
   ]
  },
  {
   "cell_type": "code",
   "execution_count": null,
   "metadata": {},
   "outputs": [],
   "source": []
  },
  {
   "cell_type": "markdown",
   "metadata": {},
   "source": [
    "2) What methods or attributes does the tuple object have?"
   ]
  },
  {
   "cell_type": "code",
   "execution_count": null,
   "metadata": {},
   "outputs": [],
   "source": []
  },
  {
   "cell_type": "markdown",
   "metadata": {},
   "source": [
    "3) What do these methods do (the ones that **does not** start with \"__\")?"
   ]
  },
  {
   "cell_type": "code",
   "execution_count": null,
   "metadata": {},
   "outputs": [],
   "source": []
  },
  {
   "cell_type": "code",
   "execution_count": null,
   "metadata": {},
   "outputs": [],
   "source": []
  },
  {
   "cell_type": "markdown",
   "metadata": {},
   "source": [
    "4) What is the sum of all the elements in the tuple? <br>\n",
    "**Hint:** `sum()`"
   ]
  },
  {
   "cell_type": "code",
   "execution_count": null,
   "metadata": {},
   "outputs": [],
   "source": []
  },
  {
   "cell_type": "markdown",
   "metadata": {},
   "source": [
    "5) What is the mean values of the tuple?"
   ]
  },
  {
   "cell_type": "code",
   "execution_count": null,
   "metadata": {},
   "outputs": [],
   "source": []
  },
  {
   "cell_type": "markdown",
   "metadata": {},
   "source": [
    "6) Change the tuple to a list and save it as `my_list`."
   ]
  },
  {
   "cell_type": "code",
   "execution_count": null,
   "metadata": {},
   "outputs": [],
   "source": []
  },
  {
   "cell_type": "markdown",
   "metadata": {},
   "source": [
    "7) Create a new list, with your own choice of numbers. and using the method `extend()` or the operator `+` add its elements to `my_list`."
   ]
  },
  {
   "cell_type": "code",
   "execution_count": null,
   "metadata": {},
   "outputs": [],
   "source": []
  },
  {
   "cell_type": "markdown",
   "metadata": {},
   "source": [
    "8) Sort the list in descending order. <br>\n",
    "**Hint:** `my_list.sort()`"
   ]
  },
  {
   "cell_type": "code",
   "execution_count": null,
   "metadata": {},
   "outputs": [],
   "source": []
  },
  {
   "cell_type": "markdown",
   "metadata": {},
   "source": [
    "9) What is the median of the list?"
   ]
  },
  {
   "cell_type": "code",
   "execution_count": null,
   "metadata": {},
   "outputs": [],
   "source": []
  },
  {
   "cell_type": "markdown",
   "metadata": {},
   "source": [
    "### enumerate()\n",
    "\n",
    "Sometimes, as we iterate over the elements of a collection (list or tuple), we might also want to have access to a value which informs us about the iteration number. This could also be used as a number to index any other collection within the loop. For this purpose, we use the `enumerate()` function. Here is an example:\n",
    "\n",
    "``` python\n",
    ">>> my_list = [\"str1\", \"str2\", \"str3\", \"str4\"]\n",
    ">>> for ind, el in enumerate(my_list):\n",
    ">>>    print(ind, el)\n",
    "\n",
    ">>> \"0 str1\"\n",
    ">>> \"1 str2\"\n",
    ">>> \"2 str3\"\n",
    ">>> \"3 str4\"\n",
    "```\n",
    "\n",
    "9) Using a loop and the `enumerate()` method, change every element of the list to a string."
   ]
  },
  {
   "cell_type": "code",
   "execution_count": null,
   "metadata": {},
   "outputs": [],
   "source": []
  },
  {
   "cell_type": "markdown",
   "metadata": {},
   "source": [
    "---"
   ]
  },
  {
   "cell_type": "markdown",
   "metadata": {},
   "source": [
    "## Putting things together\n",
    "\n",
    "Do the following tasks with the given three lists:"
   ]
  },
  {
   "cell_type": "code",
   "execution_count": 63,
   "metadata": {},
   "outputs": [],
   "source": [
    "a_list = [1, 2, 3, 4, 5]\n",
    "b_list = [5, 4, 3, 2, 1]\n",
    "c_list = [5, 4, 2, 3, 6]"
   ]
  },
  {
   "cell_type": "markdown",
   "metadata": {},
   "source": [
    "### `zip()`\n",
    "The `zip()` function takes multiple lists and turns them into one list of multiples, letting you iterate over the elements of multiple lists at the same time:\n",
    "\n",
    "``` python\n",
    ">>> for a, b in zip(a_list, b_list):\n",
    ">>>     print(a, b)\n",
    "```\n",
    "\n",
    "1) Using `zip()`, add every element of the two lists and store the values in a new list called `c_list`."
   ]
  },
  {
   "cell_type": "code",
   "execution_count": null,
   "metadata": {},
   "outputs": [],
   "source": []
  },
  {
   "cell_type": "markdown",
   "metadata": {},
   "source": [
    "2) Using `enumerate()` method, divide each element of the `c_list` by the (iteration number + 1) and print the resulting value as well as its class. The result of the division must be integer."
   ]
  },
  {
   "cell_type": "code",
   "execution_count": null,
   "metadata": {},
   "outputs": [],
   "source": []
  },
  {
   "cell_type": "markdown",
   "metadata": {},
   "source": [
    "3) Import `Numpy` library and use `np` as its naming convention."
   ]
  },
  {
   "cell_type": "code",
   "execution_count": null,
   "metadata": {},
   "outputs": [],
   "source": []
  },
  {
   "cell_type": "markdown",
   "metadata": {},
   "source": [
    "4) Create two Numpy arrays from `a_list` and `b_list`, and call them `a_arr` and `b_arr`, respectively.\n",
    "\n",
    "**Reminder**: Numpy arrays can be created from a list of numbers, and by using the `np.array()`:\n",
    "``` python\n",
    ">>> my_arr = np.array(my_list)\n",
    "```"
   ]
  },
  {
   "cell_type": "code",
   "execution_count": null,
   "metadata": {},
   "outputs": [],
   "source": []
  },
  {
   "cell_type": "markdown",
   "metadata": {},
   "source": [
    "5) Add the two arrays together to get `c_arr`."
   ]
  },
  {
   "cell_type": "code",
   "execution_count": null,
   "metadata": {},
   "outputs": [],
   "source": []
  },
  {
   "cell_type": "markdown",
   "metadata": {},
   "source": [
    "---"
   ]
  },
  {
   "cell_type": "markdown",
   "metadata": {},
   "source": [
    "## Know more about your neighbors\n",
    "\n",
    "1) Create a list which includes the names of your neighbors (at least 5, including your name) "
   ]
  },
  {
   "cell_type": "code",
   "execution_count": null,
   "metadata": {},
   "outputs": [],
   "source": []
  },
  {
   "cell_type": "markdown",
   "metadata": {},
   "source": [
    "2) Show the length of you list."
   ]
  },
  {
   "cell_type": "code",
   "execution_count": null,
   "metadata": {},
   "outputs": [],
   "source": []
  },
  {
   "cell_type": "markdown",
   "metadata": {},
   "source": [
    "3) Print the length of each element in a loop."
   ]
  },
  {
   "cell_type": "code",
   "execution_count": null,
   "metadata": {},
   "outputs": [],
   "source": []
  },
  {
   "cell_type": "markdown",
   "metadata": {},
   "source": [
    "4) Using `enumerate()` change every element of your list to lower-case."
   ]
  },
  {
   "cell_type": "code",
   "execution_count": null,
   "metadata": {},
   "outputs": [],
   "source": []
  },
  {
   "cell_type": "markdown",
   "metadata": {},
   "source": [
    "5) Swap the case of every element of the list (all will be upper-case)."
   ]
  },
  {
   "cell_type": "code",
   "execution_count": null,
   "metadata": {},
   "outputs": [],
   "source": []
  },
  {
   "cell_type": "markdown",
   "metadata": {},
   "source": [
    "6) Using a loop, create a new string object which includees all the names with a SPACE between each name."
   ]
  },
  {
   "cell_type": "code",
   "execution_count": null,
   "metadata": {},
   "outputs": [],
   "source": []
  },
  {
   "cell_type": "markdown",
   "metadata": {},
   "source": [
    "7) Using the `join()` method of the string object, and without a loop, do the same task as (6)."
   ]
  },
  {
   "cell_type": "code",
   "execution_count": null,
   "metadata": {},
   "outputs": [],
   "source": []
  },
  {
   "cell_type": "markdown",
   "metadata": {},
   "source": [
    "8) Create a second string which includes the family name of the same neighbors. And using a loop and `join()`, create a new list containing the first and the family name of your neighbors (with a SPACE in between) as one element."
   ]
  },
  {
   "cell_type": "code",
   "execution_count": null,
   "metadata": {},
   "outputs": [],
   "source": []
  },
  {
   "cell_type": "code",
   "execution_count": null,
   "metadata": {},
   "outputs": [],
   "source": []
  },
  {
   "cell_type": "code",
   "execution_count": null,
   "metadata": {},
   "outputs": [],
   "source": []
  },
  {
   "cell_type": "markdown",
   "metadata": {},
   "source": [
    "---"
   ]
  },
  {
   "cell_type": "markdown",
   "metadata": {},
   "source": [
    "## Dictionaries\n",
    "\n",
    "Dictionaries (or \"dicts\") are collections like lists, but instead of representing a sequence of values, they instead represent a mapping of key-value pairs. For example, in a dictionary of dog owners, one would look up the dog's name (the key) and get te corresponding owner's name (the value). As a result, dictionaries are not ordered by nature, it does not matter where an object appears in a dictionary - what matters is the mapping.\n",
    "\n",
    "Dicts are created using the curely braces, `{ }`, and colons,  `:`.\n",
    "\n",
    "``` python\n",
    ">>> owners = {\"dog1\": \"owner1\", \"dog2\": \"owner2\", \"god3\": \"owner3\"}\n",
    ">>> owners[\"dog1\"]\n",
    ">>> \"owner1\"\n",
    "```\n",
    "\n",
    "### Exercise\n",
    "\n",
    "1) Create a dictionary for which the keys are your neighbors' name and the values are their age, including your name and age. call it `age_dict`."
   ]
  },
  {
   "cell_type": "code",
   "execution_count": null,
   "metadata": {},
   "outputs": [],
   "source": []
  },
  {
   "cell_type": "markdown",
   "metadata": {},
   "source": [
    "2) Create another dictionary with keys being the name and values the field of research/study (e.g., biochemistry, neurology, etc.) of your neighbor. call it `field_dict`."
   ]
  },
  {
   "cell_type": "code",
   "execution_count": null,
   "metadata": {},
   "outputs": [],
   "source": []
  },
  {
   "cell_type": "markdown",
   "metadata": {},
   "source": [
    "3) Print the length of each dictionary."
   ]
  },
  {
   "cell_type": "code",
   "execution_count": null,
   "metadata": {},
   "outputs": [],
   "source": []
  },
  {
   "cell_type": "markdown",
   "metadata": {},
   "source": [
    "4) Print the keys of each dictionary."
   ]
  },
  {
   "cell_type": "code",
   "execution_count": null,
   "metadata": {},
   "outputs": [],
   "source": []
  },
  {
   "cell_type": "markdown",
   "metadata": {},
   "source": [
    "5) Print the values of each dictionary."
   ]
  },
  {
   "cell_type": "code",
   "execution_count": null,
   "metadata": {},
   "outputs": [],
   "source": []
  },
  {
   "cell_type": "markdown",
   "metadata": {},
   "source": [
    "6) Write loop and print the name and the age of your name in every iteration."
   ]
  },
  {
   "cell_type": "code",
   "execution_count": null,
   "metadata": {},
   "outputs": [],
   "source": []
  },
  {
   "cell_type": "markdown",
   "metadata": {},
   "source": [
    "7) Write a loop and print the name of your neighbor along with their age and their field of study in every iteration."
   ]
  },
  {
   "cell_type": "code",
   "execution_count": null,
   "metadata": {},
   "outputs": [],
   "source": []
  },
  {
   "cell_type": "markdown",
   "metadata": {},
   "source": [
    "8) You have a list of single-character strings that represent conditions in your experiment: 'L', 'R', and 'C'. Using the provided dictionary provided, change those labels to 'Left', 'Right', and 'Center'."
   ]
  },
  {
   "cell_type": "code",
   "execution_count": 2,
   "metadata": {},
   "outputs": [],
   "source": [
    "conditions = {'C': 'Center', 'L': 'Left', 'R': 'Right'}\n",
    "conds = ['C', 'L', 'C', 'R', 'C', 'C', 'C', 'R', 'R', 'R']"
   ]
  },
  {
   "cell_type": "code",
   "execution_count": null,
   "metadata": {},
   "outputs": [],
   "source": []
  },
  {
   "cell_type": "markdown",
   "metadata": {},
   "source": [
    "---"
   ]
  },
  {
   "cell_type": "markdown",
   "metadata": {},
   "source": [
    "## Let's plot\n",
    "\n",
    "1) Import `matplotlib.pyplot` as `plt`."
   ]
  },
  {
   "cell_type": "code",
   "execution_count": null,
   "metadata": {},
   "outputs": [],
   "source": []
  },
  {
   "cell_type": "markdown",
   "metadata": {},
   "source": [
    "2) Generate two random arrays using the `np.random.randn()`, each with size 1000. Call them `a_arr` and `b_arr`"
   ]
  },
  {
   "cell_type": "code",
   "execution_count": null,
   "metadata": {},
   "outputs": [],
   "source": []
  },
  {
   "cell_type": "markdown",
   "metadata": {},
   "source": [
    "3) Plot the arrays on the same plot."
   ]
  },
  {
   "cell_type": "code",
   "execution_count": null,
   "metadata": {},
   "outputs": [],
   "source": []
  },
  {
   "cell_type": "markdown",
   "metadata": {},
   "source": [
    "4) Use a scatter plot to plot `a_arr` versus `b_arr`."
   ]
  },
  {
   "cell_type": "code",
   "execution_count": null,
   "metadata": {},
   "outputs": [],
   "source": []
  },
  {
   "cell_type": "markdown",
   "metadata": {},
   "source": [
    "## Random walk (1D)"
   ]
  },
  {
   "cell_type": "markdown",
   "metadata": {},
   "source": [
    "**Random walk** is a random process that describes a path that consists of a succession of random steps. An elementary example of a random walk is the random walk on the integer number line, which starts at 0 and at each step moves +1 or −1 with equal probability. This walk can be illustrated as follows. The first position is set to 0, to choice the next step a fair coin is flipped. If it lands on heads, the position is increased by one unit. If it lands on tails, the position is reduced by one unit.\n",
    "\n",
    "5) Let's implement this in Python.\n",
    "\n",
    "- Set a starting posioton (i.e., 0). This is the first element of our list\n",
    "- Implement a loop for as many iterations as you'd like (preferrably < 10000)\n",
    "- In each iteration, draw a random sample from a list containing 1 and -1. **Hint**: look into `numpy.random.choice()`\n",
    "- Add this to the previous position and append it to the position list"
   ]
  },
  {
   "cell_type": "code",
   "execution_count": null,
   "metadata": {},
   "outputs": [],
   "source": []
  },
  {
   "cell_type": "code",
   "execution_count": null,
   "metadata": {},
   "outputs": [],
   "source": []
  },
  {
   "cell_type": "markdown",
   "metadata": {},
   "source": [
    "---"
   ]
  },
  {
   "cell_type": "markdown",
   "metadata": {},
   "source": [
    "### 1: Practice file/folder creation via shell application\n",
    "- navigate to the exercise folder for today: `workshop > day1 > exercises`\n",
    "- create a new Python script called `exercise1.py`"
   ]
  },
  {
   "cell_type": "markdown",
   "metadata": {},
   "source": [
    "### 2: User input\n",
    "\n",
    "Open the Python script you just created (`exercise1.py`), and:\n",
    "- write a Python application that asks for user's input with text: \"Please insert a list of numbers\"\n",
    "- once inserted the input it then prints the list in the REVERSE ORDER, accompantied by the text: \"The list contains ...\""
   ]
  },
  {
   "cell_type": "markdown",
   "metadata": {},
   "source": [
    "### 3: Loop\n",
    "\n",
    "Now, instead of printing the whole list, loop through the list and in each iteration print:\n",
    "- the element index\n",
    "- the element itself\n",
    "- the type of the element"
   ]
  },
  {
   "cell_type": "markdown",
   "metadata": {},
   "source": [
    "### 4: Function\n",
    "\n",
    "- Without using any of the Python packages, define a function which takes the list and computes the mean \n",
    "- Now at the end of the loop (which we defined in previous exercise), print the number of elements, the sum and the mean of the list."
   ]
  }
 ],
 "metadata": {
  "kernelspec": {
   "display_name": "Python 3",
   "language": "python",
   "name": "python3"
  },
  "language_info": {
   "codemirror_mode": {
    "name": "ipython",
    "version": 3
   },
   "file_extension": ".py",
   "mimetype": "text/x-python",
   "name": "python",
   "nbconvert_exporter": "python",
   "pygments_lexer": "ipython3",
   "version": "3.6.8"
  }
 },
 "nbformat": 4,
 "nbformat_minor": 2
}
