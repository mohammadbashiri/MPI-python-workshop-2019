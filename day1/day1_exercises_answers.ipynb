{
 "cells": [
  {
   "cell_type": "markdown",
   "metadata": {},
   "source": [
    "## Exercise #1: Python installation\n",
    "\n",
    "Who has already installed Python? - show hands\n",
    "\n",
    "For those who did not install Python yet:\n",
    "- who has a windows?\n",
    "- who has linux?\n",
    "- who has MacOS?\n",
    "\n",
    "Alright, here comes our first exercise: let us all help each other to install Python. It's probably best, if everyone help their peers with the same OS.\n",
    "\n",
    "Also, feel free to grab a coffee, take a break. We will start again at 09:30\n",
    "\n",
    "Files that need to be added to System Environment variables for windows:\n",
    "```\n",
    "- Anaconda3\n",
    "- Anaconda3\\Scripts\n",
    "- Anaconda3\\Library\\bin\n",
    "```"
   ]
  },
  {
   "cell_type": "markdown",
   "metadata": {},
   "source": [
    "---"
   ]
  },
  {
   "cell_type": "markdown",
   "metadata": {},
   "source": [
    "## Exercise #2\n",
    "1. Create directory called `workshop`\n",
    "2. Create a file in it called `README.md`\n",
    "3. Create two more directories in `Workshop`, called `notebooks` and `scripts`\n",
    "\n",
    "the directory tree looks like this:\n",
    "```\n",
    "workshop/\n",
    "   |----- notebooks\n",
    "   |----- scripts\n",
    "   |----- README.md\n",
    "```"
   ]
  },
  {
   "cell_type": "markdown",
   "metadata": {},
   "source": [
    "---"
   ]
  },
  {
   "cell_type": "markdown",
   "metadata": {},
   "source": [
    "## Exercise #3\n",
    "\n",
    "Using the methods and attributes provided by the `math` module, checkout the following and see what value they return.\n",
    "\n",
    "$tan^{-1}(\\frac{1}{2}) + tan^{-1}(\\frac{1}{3})$\n",
    "\n",
    "$4tan^{-1}(\\frac{1}{5}) - tan^{-1}(\\frac{1}{239})$\n",
    "\n",
    "Are they equal to $\\frac{\\pi}{4}$ ?"
   ]
  },
  {
   "cell_type": "markdown",
   "metadata": {},
   "source": [
    "---"
   ]
  },
  {
   "cell_type": "markdown",
   "metadata": {},
   "source": [
    "## Exercise #4\n",
    "\n",
    "So, how about you guys try some packages of your own:\n",
    "- go to PyPI, search for some weird names\n",
    "- choose a library\n",
    "- install it\n",
    "- try it, and tell me what it does"
   ]
  },
  {
   "cell_type": "markdown",
   "metadata": {},
   "source": [
    "---"
   ]
  },
  {
   "cell_type": "markdown",
   "metadata": {},
   "source": [
    "## Exercise #5\n",
    "Remember the workshop directory we created? <br>\n",
    "- Navigate to the `workshop > scripts` directory and create a file called `script1.py`\n",
    "- Open Atom or any other text editor (sublime, notepad++, etc.)\n",
    "- Open the `script1.py` file in the text editor\n",
    "- Implement exercise (3) in the script:\n",
    "    - Save the result of each equation in a variable (e.g., result1, result2, etc.)\n",
    "    - Print the results. The printed text should look something like below:\n",
    "        ```\n",
    "        the result of the first equation is ....\n",
    "        the result of the second equation is ....\n",
    "        the result fo the third equation is ....\n",
    "        ```\n",
    "- Run the file in the Shell application\n",
    "\n",
    "After this, the directory should look like below:\n",
    "```\n",
    "workshop/\n",
    "   |----- notebooks\n",
    "   |----- scripts\n",
    "             |----- script1.py\n",
    "   |----- README.md\n",
    "```"
   ]
  },
  {
   "cell_type": "markdown",
   "metadata": {},
   "source": [
    "---"
   ]
  },
  {
   "cell_type": "markdown",
   "metadata": {},
   "source": [
    "## Exercise #6\n",
    "Let's summarize what we covered in the morning so far:\n",
    "\n",
    "- [ ] Install jupyter lab\n",
    "- [ ] let's navigate to `workshop > notebooks` via the Shell application\n",
    "- [ ] let's all open jupyter lab\n",
    "- [ ] let's create a jupyter notebook\n",
    "- [ ] and Let's create a summary:\n",
    "    - make a title: Day 1, Morning Session: Summary\n",
    "    - press Shift+Enter\n",
    "    - Click keyboard key 'M' to make a cell markdown\n",
    "    - blah blah blah\n",
    "    \n",
    "And here is the summary:\n",
    "- **Shell application**: Is an application that enables us to run OS-level commands.\n",
    "- **Python and IPython console**: Is a console that let's us write Python code (it's create for quick tests).\n",
    "- **Python script**: Is essentially a text file that contains Python code, and has the extension of `.py` (It's great for prjects where we want to have a single file, just like a library, that provides us with functions to be used in our project). and we can run them in the shell application by typing `python script_name.py`.\n",
    "- **Jupyter Notebook**: Is also an application that let's us write Python code, with the advantage that we can divide our code into different cells and test them independently. It also provides a nice integration between code and text, which makes it very suitable for taking notes and writing reports.\n",
    "- **Jupyter Lab**: Is a user interface, were all of the above are integrated. It includes the Shell application, a text editor, as well as the Notebook.\n",
    "- **Standard and third-party libraries**: there are many libraries out there that provide extra utilities for Python. Some of these are shipped with the Python application (standard libraries) and some other need to be installed independently (third-party libraries). The third-party libraries can be installed using the command `pip install name_of_the_package`.\n",
    "- **Namespaces and Objects**: Namespaces are memory spaces within which names are unique (be it name of a variable or a function, or anything else). Anything that occupies memory space is in fact an object, and therefore has variables and functions attached to it"
   ]
  },
  {
   "cell_type": "markdown",
   "metadata": {},
   "source": [
    "---"
   ]
  },
  {
   "cell_type": "markdown",
   "metadata": {},
   "source": [
    "## Exercise #7\n",
    "\n",
    "1) What are the indices of \"my\" in the following string? - print it using positive indices."
   ]
  },
  {
   "cell_type": "code",
   "execution_count": 1,
   "metadata": {},
   "outputs": [],
   "source": [
    "a_str = \"Here is my name\""
   ]
  },
  {
   "cell_type": "code",
   "execution_count": 2,
   "metadata": {},
   "outputs": [
    {
     "data": {
      "text/plain": [
       "'my'"
      ]
     },
     "execution_count": 2,
     "metadata": {},
     "output_type": "execute_result"
    }
   ],
   "source": [
    "a_str[8:10]"
   ]
  },
  {
   "cell_type": "markdown",
   "metadata": {},
   "source": [
    "2) What is the negative index of 3 in the followin list?"
   ]
  },
  {
   "cell_type": "code",
   "execution_count": 3,
   "metadata": {},
   "outputs": [],
   "source": [
    "a_list = [1, 2, 4, 3, 5]"
   ]
  },
  {
   "cell_type": "code",
   "execution_count": 4,
   "metadata": {},
   "outputs": [
    {
     "data": {
      "text/plain": [
       "3"
      ]
     },
     "execution_count": 4,
     "metadata": {},
     "output_type": "execute_result"
    }
   ],
   "source": [
    "a_list[-2]"
   ]
  },
  {
   "cell_type": "markdown",
   "metadata": {},
   "source": [
    "3) What type of data the following variables are?"
   ]
  },
  {
   "cell_type": "code",
   "execution_count": 5,
   "metadata": {},
   "outputs": [],
   "source": [
    "a = 4\n",
    "b = 4.\n",
    "c = 10"
   ]
  },
  {
   "cell_type": "code",
   "execution_count": 6,
   "metadata": {},
   "outputs": [
    {
     "name": "stdout",
     "output_type": "stream",
     "text": [
      "<class 'int'>\n",
      "<class 'float'>\n",
      "<class 'int'>\n"
     ]
    }
   ],
   "source": [
    "print(type(a))\n",
    "print(type(b))\n",
    "print(type(c))"
   ]
  },
  {
   "cell_type": "markdown",
   "metadata": {},
   "source": [
    "4) Which one of the following objects are mutable? - try replacing their elements with another value (e.g. string or number)"
   ]
  },
  {
   "cell_type": "code",
   "execution_count": 7,
   "metadata": {},
   "outputs": [],
   "source": [
    "a_str = \"Here is my name\"\n",
    "a_list = [1, 2, 3, 4, 5]\n",
    "a_tuple = (1, 2, 3, 4, 5)"
   ]
  },
  {
   "cell_type": "code",
   "execution_count": 8,
   "metadata": {},
   "outputs": [
    {
     "ename": "TypeError",
     "evalue": "'str' object does not support item assignment",
     "output_type": "error",
     "traceback": [
      "\u001b[0;31m---------------------------------------------------------------------------\u001b[0m",
      "\u001b[0;31mTypeError\u001b[0m                                 Traceback (most recent call last)",
      "\u001b[0;32m<ipython-input-8-655ef2df935d>\u001b[0m in \u001b[0;36m<module>\u001b[0;34m\u001b[0m\n\u001b[0;32m----> 1\u001b[0;31m \u001b[0ma_str\u001b[0m\u001b[0;34m[\u001b[0m\u001b[0;36m0\u001b[0m\u001b[0;34m]\u001b[0m \u001b[0;34m=\u001b[0m \u001b[0;34m'h'\u001b[0m\u001b[0;34m\u001b[0m\u001b[0;34m\u001b[0m\u001b[0m\n\u001b[0m",
      "\u001b[0;31mTypeError\u001b[0m: 'str' object does not support item assignment"
     ]
    }
   ],
   "source": [
    "a_str[0] = 'h'"
   ]
  },
  {
   "cell_type": "code",
   "execution_count": 9,
   "metadata": {},
   "outputs": [],
   "source": [
    "a_list[0] = 1000"
   ]
  },
  {
   "cell_type": "code",
   "execution_count": 10,
   "metadata": {},
   "outputs": [
    {
     "data": {
      "text/plain": [
       "[1000, 2, 3, 4, 5]"
      ]
     },
     "execution_count": 10,
     "metadata": {},
     "output_type": "execute_result"
    }
   ],
   "source": [
    "a_list"
   ]
  },
  {
   "cell_type": "code",
   "execution_count": 11,
   "metadata": {},
   "outputs": [
    {
     "ename": "TypeError",
     "evalue": "'tuple' object does not support item assignment",
     "output_type": "error",
     "traceback": [
      "\u001b[0;31m---------------------------------------------------------------------------\u001b[0m",
      "\u001b[0;31mTypeError\u001b[0m                                 Traceback (most recent call last)",
      "\u001b[0;32m<ipython-input-11-8caaab642d02>\u001b[0m in \u001b[0;36m<module>\u001b[0;34m\u001b[0m\n\u001b[0;32m----> 1\u001b[0;31m \u001b[0ma_tuple\u001b[0m\u001b[0;34m[\u001b[0m\u001b[0;36m0\u001b[0m\u001b[0;34m]\u001b[0m \u001b[0;34m=\u001b[0m \u001b[0;36m1000\u001b[0m\u001b[0;34m\u001b[0m\u001b[0;34m\u001b[0m\u001b[0m\n\u001b[0m",
      "\u001b[0;31mTypeError\u001b[0m: 'tuple' object does not support item assignment"
     ]
    }
   ],
   "source": [
    "a_tuple[0] = 1000"
   ]
  },
  {
   "cell_type": "markdown",
   "metadata": {},
   "source": [
    "---"
   ]
  },
  {
   "cell_type": "markdown",
   "metadata": {},
   "source": [
    "## Exercise #8\n",
    "1) Try the following operations, print the resulting values and find out their types.\n",
    "\n",
    "``` python\n",
    "10 % 4\n",
    "10 / 2\n",
    "10 // 2\n",
    "\n",
    "[1, 2] + (3, 4)\n",
    "\n",
    "\"hey\" * \"you!\"\n",
    "\"hey\" + \"you!\"\n",
    "\"hey\" + \" \" + \"you!\"\n",
    "```"
   ]
  },
  {
   "cell_type": "code",
   "execution_count": 12,
   "metadata": {},
   "outputs": [
    {
     "data": {
      "text/plain": [
       "2"
      ]
     },
     "execution_count": 12,
     "metadata": {},
     "output_type": "execute_result"
    }
   ],
   "source": [
    "10 % 4"
   ]
  },
  {
   "cell_type": "code",
   "execution_count": 13,
   "metadata": {},
   "outputs": [
    {
     "data": {
      "text/plain": [
       "5.0"
      ]
     },
     "execution_count": 13,
     "metadata": {},
     "output_type": "execute_result"
    }
   ],
   "source": [
    "10 / 2"
   ]
  },
  {
   "cell_type": "code",
   "execution_count": 14,
   "metadata": {},
   "outputs": [
    {
     "data": {
      "text/plain": [
       "5"
      ]
     },
     "execution_count": 14,
     "metadata": {},
     "output_type": "execute_result"
    }
   ],
   "source": [
    "10 // 2"
   ]
  },
  {
   "cell_type": "code",
   "execution_count": 15,
   "metadata": {},
   "outputs": [
    {
     "ename": "TypeError",
     "evalue": "can't multiply sequence by non-int of type 'str'",
     "output_type": "error",
     "traceback": [
      "\u001b[0;31m---------------------------------------------------------------------------\u001b[0m",
      "\u001b[0;31mTypeError\u001b[0m                                 Traceback (most recent call last)",
      "\u001b[0;32m<ipython-input-15-d2d32dce1ca6>\u001b[0m in \u001b[0;36m<module>\u001b[0;34m\u001b[0m\n\u001b[0;32m----> 1\u001b[0;31m \u001b[0;34m\"hey\"\u001b[0m \u001b[0;34m*\u001b[0m \u001b[0;34m\"you!\"\u001b[0m\u001b[0;34m\u001b[0m\u001b[0;34m\u001b[0m\u001b[0m\n\u001b[0m",
      "\u001b[0;31mTypeError\u001b[0m: can't multiply sequence by non-int of type 'str'"
     ]
    }
   ],
   "source": [
    "\"hey\" * \"you!\""
   ]
  },
  {
   "cell_type": "code",
   "execution_count": null,
   "metadata": {},
   "outputs": [],
   "source": [
    "\"hey\" + \"you!\""
   ]
  },
  {
   "cell_type": "code",
   "execution_count": 16,
   "metadata": {},
   "outputs": [
    {
     "data": {
      "text/plain": [
       "'hey you!'"
      ]
     },
     "execution_count": 16,
     "metadata": {},
     "output_type": "execute_result"
    }
   ],
   "source": [
    "\"hey\" + \" \" + \"you!\""
   ]
  },
  {
   "cell_type": "markdown",
   "metadata": {},
   "source": [
    "2) What is the difference between the following two lines?\n",
    "``` python\n",
    "print(\"hey\" + \" \" + \"you!\")\n",
    "print(\"hey\", \"you!\")\n",
    "```"
   ]
  },
  {
   "cell_type": "code",
   "execution_count": 17,
   "metadata": {},
   "outputs": [
    {
     "name": "stdout",
     "output_type": "stream",
     "text": [
      "hey you!\n"
     ]
    }
   ],
   "source": [
    "print(\"hey\" + \" \" + \"you!\")"
   ]
  },
  {
   "cell_type": "code",
   "execution_count": 18,
   "metadata": {},
   "outputs": [
    {
     "name": "stdout",
     "output_type": "stream",
     "text": [
      "hey you!\n"
     ]
    }
   ],
   "source": [
    "print(\"hey\", \"you!\")"
   ]
  },
  {
   "cell_type": "markdown",
   "metadata": {},
   "source": [
    "3) Explore the methods of the list objects, find the method that does the same job as `+`\n",
    "``` python\n",
    ">>> my_list1 + my_list2\n",
    ">>> my_list1.extend(my_list2)\n",
    "```"
   ]
  },
  {
   "cell_type": "code",
   "execution_count": 19,
   "metadata": {},
   "outputs": [],
   "source": [
    "my_list1 = [1, 2, 3, 4]\n",
    "my_list2 = [5, 5, 5, 5]"
   ]
  },
  {
   "cell_type": "code",
   "execution_count": 20,
   "metadata": {},
   "outputs": [
    {
     "data": {
      "text/plain": [
       "[1, 2, 3, 4, 5, 5, 5, 5]"
      ]
     },
     "execution_count": 20,
     "metadata": {},
     "output_type": "execute_result"
    }
   ],
   "source": [
    "my_list1 + my_list2"
   ]
  },
  {
   "cell_type": "code",
   "execution_count": 21,
   "metadata": {},
   "outputs": [],
   "source": [
    "my_list1.extend(my_list2)"
   ]
  },
  {
   "cell_type": "code",
   "execution_count": 22,
   "metadata": {},
   "outputs": [
    {
     "data": {
      "text/plain": [
       "[1, 2, 3, 4, 5, 5, 5, 5]"
      ]
     },
     "execution_count": 22,
     "metadata": {},
     "output_type": "execute_result"
    }
   ],
   "source": [
    "my_list1"
   ]
  },
  {
   "cell_type": "markdown",
   "metadata": {},
   "source": [
    "---"
   ]
  },
  {
   "cell_type": "markdown",
   "metadata": {},
   "source": [
    "## Exercise #9: Loop"
   ]
  },
  {
   "cell_type": "markdown",
   "metadata": {},
   "source": [
    "1) Create a list with 5 numerical elements, and print one element at the time."
   ]
  },
  {
   "cell_type": "code",
   "execution_count": 23,
   "metadata": {},
   "outputs": [
    {
     "name": "stdout",
     "output_type": "stream",
     "text": [
      "element 0\n",
      "1\n",
      "2\n",
      "element 3\n",
      "4\n"
     ]
    }
   ],
   "source": [
    "aa = [\"element 0\", 1, 2, 'element 3', 4]\n",
    "\n",
    "for a in aa:\n",
    "    print(a)"
   ]
  },
  {
   "cell_type": "markdown",
   "metadata": {},
   "source": [
    "2) Increase each element of the list below by 2 and save the values in a new list."
   ]
  },
  {
   "cell_type": "code",
   "execution_count": 24,
   "metadata": {},
   "outputs": [],
   "source": [
    "my_list = [1, 2, 3, 4]"
   ]
  },
  {
   "cell_type": "code",
   "execution_count": 25,
   "metadata": {},
   "outputs": [],
   "source": [
    "new_list = []\n",
    "for el in my_list:\n",
    "    new_list.append(el + 2)"
   ]
  },
  {
   "cell_type": "code",
   "execution_count": 26,
   "metadata": {},
   "outputs": [
    {
     "data": {
      "text/plain": [
       "[3, 4, 5, 6]"
      ]
     },
     "execution_count": 26,
     "metadata": {},
     "output_type": "execute_result"
    }
   ],
   "source": [
    "new_list"
   ]
  },
  {
   "cell_type": "markdown",
   "metadata": {},
   "source": [
    "---"
   ]
  },
  {
   "cell_type": "markdown",
   "metadata": {},
   "source": [
    "## Exercise #10: `enumerate()` and `zip()`"
   ]
  },
  {
   "cell_type": "markdown",
   "metadata": {},
   "source": [
    "1) Using the `enumerate()` method, iterate over the elements of the given list, and print the corresponding element as well as the indices."
   ]
  },
  {
   "cell_type": "code",
   "execution_count": 27,
   "metadata": {},
   "outputs": [],
   "source": [
    "a_list = [1, 2, 3, 4, 5]"
   ]
  },
  {
   "cell_type": "code",
   "execution_count": 28,
   "metadata": {},
   "outputs": [
    {
     "name": "stdout",
     "output_type": "stream",
     "text": [
      "0 1\n",
      "1 2\n",
      "2 3\n",
      "3 4\n",
      "4 5\n"
     ]
    }
   ],
   "source": [
    "for ind, el in enumerate(a_list):\n",
    "    print(ind, el)"
   ]
  },
  {
   "cell_type": "markdown",
   "metadata": {},
   "source": [
    "2) Create another list, and using the `zip()` method, iterate over both of them, and print their corresponding elements in each iteration."
   ]
  },
  {
   "cell_type": "code",
   "execution_count": 29,
   "metadata": {},
   "outputs": [],
   "source": [
    "aa = [10, 20, 30]\n",
    "bb = [100, 200, 300]"
   ]
  },
  {
   "cell_type": "code",
   "execution_count": 30,
   "metadata": {},
   "outputs": [
    {
     "name": "stdout",
     "output_type": "stream",
     "text": [
      "10 100\n",
      "20 200\n",
      "30 300\n"
     ]
    }
   ],
   "source": [
    "for a, b, in zip(aa, bb):\n",
    "    print(a, b)"
   ]
  },
  {
   "cell_type": "markdown",
   "metadata": {},
   "source": [
    "3) Do the same as (2) but this time also use the `enumerate()` method and add the iteration number to the printing."
   ]
  },
  {
   "cell_type": "code",
   "execution_count": 31,
   "metadata": {},
   "outputs": [
    {
     "name": "stdout",
     "output_type": "stream",
     "text": [
      "0 10 100\n",
      "1 20 200\n",
      "2 30 300\n"
     ]
    }
   ],
   "source": [
    "for ind, (a, b) in enumerate(zip(aa, bb)):\n",
    "    print(ind, a, b)"
   ]
  },
  {
   "cell_type": "markdown",
   "metadata": {},
   "source": [
    "4) Create a while loop which counts to 20, and prints the iteration number, and then it breaks out of the loop."
   ]
  },
  {
   "cell_type": "code",
   "execution_count": 32,
   "metadata": {},
   "outputs": [
    {
     "name": "stdout",
     "output_type": "stream",
     "text": [
      "0\n",
      "1\n",
      "2\n",
      "3\n",
      "4\n",
      "5\n",
      "6\n",
      "7\n",
      "8\n",
      "9\n",
      "10\n",
      "11\n",
      "12\n",
      "13\n",
      "14\n",
      "15\n",
      "16\n",
      "17\n",
      "18\n",
      "19\n",
      "20\n"
     ]
    }
   ],
   "source": [
    "counter = 0\n",
    "while counter < 21:\n",
    "    print(counter)\n",
    "    counter = counter + 1"
   ]
  }
 ],
 "metadata": {
  "kernelspec": {
   "display_name": "Python 3",
   "language": "python",
   "name": "python3"
  },
  "language_info": {
   "codemirror_mode": {
    "name": "ipython",
    "version": 3
   },
   "file_extension": ".py",
   "mimetype": "text/x-python",
   "name": "python",
   "nbconvert_exporter": "python",
   "pygments_lexer": "ipython3",
   "version": "3.7.1"
  }
 },
 "nbformat": 4,
 "nbformat_minor": 2
}
