{
 "cells": [
  {
   "cell_type": "markdown",
   "metadata": {},
   "source": [
    "# Day 1 Notes"
   ]
  },
  {
   "cell_type": "markdown",
   "metadata": {},
   "source": [
    "## Round of Introduction"
   ]
  },
  {
   "cell_type": "markdown",
   "metadata": {},
   "source": [
    "## Is everyone on Slack?\n",
    "\n",
    "Please join slack if you haven't. **Baucause I will share exercises and datasets there**."
   ]
  },
  {
   "cell_type": "markdown",
   "metadata": {},
   "source": [
    "---"
   ]
  },
  {
   "cell_type": "markdown",
   "metadata": {},
   "source": [
    "## Please fill up the survey\n",
    "Link: https://docs.google.com/forms/d/e/1FAIpQLSc67p4D64TF6ieH_V_WJA6x_efVvN_qH8EShHFpQApUGIFlHg/viewform?usp=sf_link"
   ]
  },
  {
   "cell_type": "markdown",
   "metadata": {},
   "source": [
    "## Results of the survey"
   ]
  },
  {
   "cell_type": "markdown",
   "metadata": {},
   "source": [
    "---"
   ]
  },
  {
   "cell_type": "markdown",
   "metadata": {},
   "source": [
    "## Course Structure\n",
    "\n",
    "### The whole workshop\n",
    "- **Day 1** (today) will be about basics of Python.\n",
    "- **Day 2** is about dealing with data as an abstract entity (regardless context) and visualizaton: Numpy and Matplotlib\n",
    "- **Day 3** is about dealing with data within a specific context (e.g., you have conditions/context and you want to do different things for different condition/context), as well as statistical visualization: Pandas and Seaborn\n",
    "- **Day 4** is about programming practices and we will be talking about how to improve our programming experience by doing some things in better ways\n",
    "\n",
    "### Timing\n",
    "- start at 9\n",
    "- lunch around 1230 - lunch break is 1 hour\n",
    "- we are gonna finish the main content around 1630\n",
    "- we are gonna finish with \n",
    "    - an open-ended exercises\n",
    "    - summary of the day\n",
    "    \n",
    "### Today\n",
    "- Shell application: Navigating through our file system\n",
    "- Python and Ipython Console\n",
    "- Installing and using Package Packages\n",
    "- Creating (and running) python scripts\n",
    "- Jupyter Notebook and Jupyter Lab\n",
    "- Python data structures\n",
    "- Indexing and slicing\n",
    "- Arithmetic operations (on data structures)\n",
    "- A glimps of Numpy (i.e., Numpy array)\n",
    "- A glimps of Matplotlib (i.e., plotting simple line/scatter plot)\n",
    "- Loops\n",
    "- Functions (maybe!!)\n",
    "\n",
    "### Exercises \n",
    "- short exercises during the day\n",
    "- long exercise (open-ended) at the end"
   ]
  },
  {
   "cell_type": "markdown",
   "metadata": {},
   "source": [
    "---"
   ]
  },
  {
   "cell_type": "markdown",
   "metadata": {},
   "source": [
    "<br><br><br><br><br><br><br>\n",
    "<center>\n",
    "    <font size=\"+1\">It's ok to not know, but NOT ok to be indifferent</font>\n",
    "    <br>\n",
    "    <font size=\"+1\">Please ask as many question as you feel like</font>\n",
    "    <br><br>\n",
    "    <font size=\"+1\">Failure and Feedback are essential for Learning</font>\n",
    "    <br><br>\n",
    "    <font size=\"+1\">Let's embrace the instant feedback, have fun and learn as much as possible</font>\n",
    "</center>\n",
    "<br><br><br><br><br><br><br>"
   ]
  },
  {
   "cell_type": "markdown",
   "metadata": {},
   "source": [
    "---"
   ]
  },
  {
   "cell_type": "markdown",
   "metadata": {},
   "source": [
    "<font size=\"+2\">Exercise #1 (10 min)</font>\n",
    "<br><br>\n",
    "<font size=\"+2\">Break (10 min)</font>\n",
    "<br><br>\n",
    "<font size=\"+1\">Start again at 10:15</font>"
   ]
  },
  {
   "cell_type": "markdown",
   "metadata": {},
   "source": [
    "---"
   ]
  },
  {
   "cell_type": "markdown",
   "metadata": {},
   "source": [
    "## Shell application (CMD/Terminal)"
   ]
  },
  {
   "cell_type": "markdown",
   "metadata": {},
   "source": [
    "**Shell (Linux) or CMD (windows)**: It's a program that takes commands from the keyboard and gives them to the operating system to perform:\n",
    "- creating or removing folders (directories)\n",
    "- creating or removing files\n",
    "- running applications\n",
    "- etc.\n",
    "\n",
    "#### We are gonna use this in the future (probably in the 4th day) so let's practice it a little bit.\n",
    "\n",
    "### Demo\n",
    "- open terminal\n",
    "- where am I? - pwd (cd)\n",
    "- What is here? - ls (dir)\n",
    "- Create a new folder - mkdir\n",
    "- Is it there? - ls\n",
    "- Enter it - cd\n",
    "- Create a txt file - touch (echo >)\n",
    "- Is it created? - ls\n",
    "- You can also remove things - rm\n",
    "- Is it removed? - ls\n",
    "\n",
    "Now let's practice this."
   ]
  },
  {
   "cell_type": "markdown",
   "metadata": {},
   "source": [
    "---"
   ]
  },
  {
   "cell_type": "markdown",
   "metadata": {},
   "source": [
    "<font size=\"+2\">Exercise #2 (10 min)</font>\n",
    "\n",
    "- Distribute the cheatsheet for Shell application\n",
    "\n",
    "<font size=\"+2\">Exercise #2 review (5 min)</font>"
   ]
  },
  {
   "cell_type": "markdown",
   "metadata": {},
   "source": [
    "---"
   ]
  },
  {
   "cell_type": "markdown",
   "metadata": {},
   "source": [
    "## Python\n",
    "\n",
    "Beside what we just did with the shell application (or cmd/terminal) to create files and folders, we can also run Python in it.\n",
    "\n",
    "We can think of it just as an application that can run python.\n",
    "\n",
    "### Demo\n",
    "\n",
    "- Open terminal again\n",
    "- And no matter which directory we are, we can run python by typing `python`\n",
    "- Now we entered something that is called Python console.\n",
    "- Within Python console we can write python code, press ENTER and see the result\n",
    "- **Cannot run shell commands**: Note that we are not in the shell environment anymore, this is a python environment now, so we cannot run shell commands\n",
    "\n",
    "## IPython\n",
    "\n",
    "In fact, this Python console has been around for quite a while. However, with the introduction of color into digital world and computer, Python also got a colorful verson!\n",
    "\n",
    "**It's promotes interaction**: Not only it's nicer, but it also comes with some extra features.. so it provides a more convinient interaction with Python for the user. so it's called **IPython** short for **Interactive Python**.\n",
    "\n",
    "And of course, then this is called **Ipython Console**.\n",
    "\n",
    "### Demo\n",
    "\n",
    "- Exit the Python console via `exit()`\n",
    "- Enter IPython console by typing `ipython`\n",
    "- And we can do eveything we did in Python\n",
    "- We can exit it the same way, or with Ctrl+D"
   ]
  },
  {
   "cell_type": "markdown",
   "metadata": {},
   "source": [
    "---"
   ]
  },
  {
   "cell_type": "markdown",
   "metadata": {},
   "source": [
    "## Built-in functions\n",
    "What is a function? - something that gets an input (maybe) and does something!\n",
    "\n",
    "### Demo\n",
    "\n",
    "There are some functions that are available in Python - these are called **built-in functions**. For example:\n",
    "- Introduce `print()` function\n",
    "- Introduce `len()` function\n",
    "\n",
    "#### What if we want to do more? - more tools are provided via Python Packages\n",
    "Python packages are extra Python files containing Python codes that provide more tools for Python users.\n",
    "\n",
    "### Demo\n",
    "- Let's use one of these libraries for math, and it is actually called math\n",
    "- So let's Open Ipython\n",
    "- In order to use a Python package, we need to import it\n",
    "- Once imported we can access its functions via the . operator. For example, math.sin() is a function that get a angle in radians and return the sin of it.\n",
    "- How can we see other functions that are available in this package? - . + TAB\n",
    "- How can we know what do they do? - ?\n",
    "\n",
    "Once you have a Python library, you can just import it, and using the tab completion and ? explore its functionality.\n",
    "\n",
    "#### Any questions so far?"
   ]
  },
  {
   "cell_type": "markdown",
   "metadata": {},
   "source": [
    "---"
   ]
  },
  {
   "cell_type": "markdown",
   "metadata": {},
   "source": [
    "<font size=\"+2\">Exercise #3 (10 min)</font>\n",
    "\n",
    "<font size=\"+2\">Exercise #3 review (5 min)</font>"
   ]
  },
  {
   "cell_type": "markdown",
   "metadata": {},
   "source": [
    "---"
   ]
  },
  {
   "cell_type": "markdown",
   "metadata": {},
   "source": [
    "## Third-party libraries\n",
    "\n",
    "the `math` library we just used, comes with Python. These libraris that come with Python are called **standard libraries**\n",
    "\n",
    "but there are thousands of python libraries developed by Python users - they developed some tools, maybe for what they do in their own lab and they shared it with others.. These are called **third-party libraries**\n",
    "\n",
    "How do we find these libraries? and how do we use them?\n",
    "\n",
    "### Demo\n",
    "- All of the third-party libraries are registered in **Python Packaging Index website**.\n",
    "- So let's open it\n",
    "- And you can really search for any keyword, and find something.. I am gonna try **word_cloud**\n",
    "- And we can install it by inserting the command in the shell application\n",
    "- Open IPython console\n",
    "- Import it\n",
    "- Explore"
   ]
  },
  {
   "cell_type": "markdown",
   "metadata": {},
   "source": [
    "---"
   ]
  },
  {
   "cell_type": "markdown",
   "metadata": {},
   "source": [
    "<font size=\"+2\">Exercise #4 (10 min)</font>\n",
    "<br>\n",
    "<font size=\"+2\">Break (5 min)</font>"
   ]
  },
  {
   "cell_type": "markdown",
   "metadata": {},
   "source": [
    "---"
   ]
  },
  {
   "cell_type": "markdown",
   "metadata": {},
   "source": [
    "## Python script\n",
    "\n",
    "So far we have been testing single lines of Python code. But you often write code that:\n",
    "- contain many lines, and \n",
    "- you want to reuse them\n",
    "\n",
    "So we need a Python file that contains our Python code (with many lines), and so we can run whenever we want.\n",
    "\n",
    "### Demo: create a Python file\n",
    "- Open terminal\n",
    "- Naviagate to the \n",
    "- A python file that contains python code has the **.py** extension\n",
    "- Create a python script\n",
    "\n",
    "### Demo: edit and run the python file\n",
    "- open atom\n",
    "- open the file in atom\n",
    "- print the length of a text\n",
    "- add a comment - using #\n",
    "- save it\n",
    "- run it in the terminal\n",
    "\n",
    "### Any questions?"
   ]
  },
  {
   "cell_type": "markdown",
   "metadata": {},
   "source": [
    "---"
   ]
  },
  {
   "cell_type": "markdown",
   "metadata": {},
   "source": [
    "<font size=\"+2\">Exercise #5 (10 min)</font>\n",
    "\n",
    "<font size=\"+2\">Exercise #5 Review (10 min)</font>"
   ]
  },
  {
   "cell_type": "markdown",
   "metadata": {},
   "source": [
    "---"
   ]
  },
  {
   "cell_type": "markdown",
   "metadata": {},
   "source": [
    "## Namespaces\n",
    "\n",
    "- **Definition**: a space where names are unique\n",
    "- **example**: Two families\n",
    "- **Family is the space, Bashiri is the name of the space**\n",
    "- **How to write it?**: Bashiri, Mohammad\n",
    "- **In Python**: Bashiri.Mohammad\n",
    "- **This says I am talking about the Mohammad from Bashiri family**\n",
    "- **The same thing happens in Python**: We can same functions or variables with the same name but attached to different namespaces.\n",
    "- **Example**: numpy.mean() vs statistics.mean()\n",
    "- **We can use . + Tab and ? to explore these functions and variables that are attached**\n",
    "- **It's not only about libraries, this is true for everything in python**. Eexample: a = 2\n",
    "- **So a also has functions and variables attaches to it**\n",
    "- **These \"things\" are also known as objects**, and **everything in Python is an object**\n",
    "- **Summary**: as soon as we create something is Python (import a library, or create a variable), that is an object and it has functions and variabels attached to it.\n",
    "- **We can display all the functions and variables attached to an object using dir()**"
   ]
  },
  {
   "cell_type": "markdown",
   "metadata": {},
   "source": [
    "---"
   ]
  },
  {
   "cell_type": "markdown",
   "metadata": {},
   "source": [
    "## Jupyter Notebook"
   ]
  },
  {
   "cell_type": "markdown",
   "metadata": {},
   "source": [
    "So far, we learnt \n",
    "- how to write python code in the Python or IPython console - creating Python scripts which contain multiple lines of code. \n",
    "\n",
    "Any of these tools provide different features to make programming more convenient:\n",
    "- [x] tab completion\n",
    "- [x] syntax corrections\n",
    "- [x] code suggestions\n",
    "\n",
    "What other features could be helpful in making coding experience more convenient?\n",
    "- [ ] being able to write either one or multiple lines of code, and have a track of all that we have written\n",
    "- [ ] being able to write nice comments and text within our code\n",
    "- [ ] being able to add pictures, math equation in our code to facilitate better understanding of the code\n",
    "\n",
    "In fact there is a tool that provides this: **Jupyter Notebook**. And it runs on you web browser.\n",
    "\n",
    "### Demo:\n",
    "- open terminal\n",
    "- run jupyter notebook\n",
    "- create a notebook\n",
    "- a cell can be in different modes: code and markdown\n",
    "- we can run a code by clicking on **run** button\n",
    "- we can see the output, and\n",
    "- a new cell is automatically created below\n",
    "- we can change the mode of the cell - to markdown\n",
    "- and write text - header and normal text\n",
    "- and run\n",
    "- delete cell using **cut**, create cell below and above, etc.\n",
    "- Keyboard shortcuts"
   ]
  },
  {
   "cell_type": "markdown",
   "metadata": {},
   "source": [
    "---"
   ]
  },
  {
   "cell_type": "markdown",
   "metadata": {},
   "source": [
    "## Jupyter Lab"
   ]
  },
  {
   "cell_type": "markdown",
   "metadata": {},
   "source": [
    "Now we got:\n",
    "- console (terminal or cmd), \n",
    "- text editor (Atom, Sublime, etc.), and \n",
    "- Jupyter Notebook. \n",
    "\n",
    "What if we had all of these at the same place?\n",
    "\n",
    "**Jupyter Lab** combines all of the topics of today into one environment in the browser: command line, python console, jupyter notebook: https://jupyterlab.readthedocs.io/en/latest/\n",
    "\n",
    "### Demo:\n",
    "- open terminal\n",
    "- run jupyter notebook\n",
    "- create a notebook\n",
    "- show that keyboard shortcuts work\n",
    "- open termina, and another notebook\n",
    "- move cells around, etc."
   ]
  },
  {
   "cell_type": "markdown",
   "metadata": {},
   "source": [
    "---"
   ]
  },
  {
   "cell_type": "markdown",
   "metadata": {},
   "source": [
    "<font size=\"+2\">Exercise #6 (10 min)</font>\n",
    "\n",
    "- Distribute the cheatsheet for Jupyter"
   ]
  },
  {
   "cell_type": "markdown",
   "metadata": {},
   "source": [
    "---"
   ]
  },
  {
   "cell_type": "markdown",
   "metadata": {},
   "source": [
    "<font size=\"+2\">Lunch (10 min)</font>\n",
    "<br>\n",
    "<font size=\"+1\">Start again at 13:30</font>"
   ]
  },
  {
   "cell_type": "markdown",
   "metadata": {},
   "source": [
    "---"
   ]
  },
  {
   "cell_type": "markdown",
   "metadata": {},
   "source": [
    "## Python Data Structures\n",
    "\n",
    "Different types of data can be defined in Python:\n",
    "- single values\n",
    "- many values (collections)\n",
    "\n",
    "### Single values\n",
    "- int\n",
    "- float\n",
    "\n",
    "#### How do we know their types?\n",
    "\n",
    "#### Boolean: represents True or False\n",
    "\n",
    "### collections\n",
    "- list\n",
    "- tuple\n",
    "- string\n",
    "\n",
    "#### List and tuples can hold anything as an element"
   ]
  },
  {
   "cell_type": "markdown",
   "metadata": {},
   "source": [
    "---"
   ]
  },
  {
   "cell_type": "markdown",
   "metadata": {},
   "source": [
    "## Indexing and Slicing\n",
    "\n",
    "Often we want to access a specific element of a collection of elements. How do we do that?\n",
    "\n",
    "### Exaplin On th board\n",
    "\n",
    "### Python is 0-indexed\n",
    "\n",
    "### What is the difference between List and Tuple?"
   ]
  },
  {
   "cell_type": "markdown",
   "metadata": {},
   "source": [
    "---"
   ]
  },
  {
   "cell_type": "code",
   "execution_count": null,
   "metadata": {},
   "outputs": [],
   "source": []
  }
 ],
 "metadata": {
  "kernelspec": {
   "display_name": "Python 3",
   "language": "python",
   "name": "python3"
  },
  "language_info": {
   "codemirror_mode": {
    "name": "ipython",
    "version": 3
   },
   "file_extension": ".py",
   "mimetype": "text/x-python",
   "name": "python",
   "nbconvert_exporter": "python",
   "pygments_lexer": "ipython3",
   "version": "3.6.8"
  }
 },
 "nbformat": 4,
 "nbformat_minor": 2
}
