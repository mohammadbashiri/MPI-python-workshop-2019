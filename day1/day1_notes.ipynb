{
 "cells": [
  {
   "cell_type": "markdown",
   "metadata": {},
   "source": [
    "<br><br><br><br><br><br><br>\n",
    "# Python Workshop - Day 1\n",
    "<br><br><br><br><br><br><br><br><br><br><br>"
   ]
  },
  {
   "cell_type": "markdown",
   "metadata": {},
   "source": [
    "---"
   ]
  },
  {
   "cell_type": "markdown",
   "metadata": {},
   "source": [
    "<br><br><br><br><br><br><br>\n",
    "## Is everyone on Slack?\n",
    "\n",
    "Please join slack if you haven't. **Baucause I will share exercises and datasets there**.\n",
    "<br><br><br><br><br><br><br><br><br><br><br>"
   ]
  },
  {
   "cell_type": "markdown",
   "metadata": {},
   "source": [
    "---"
   ]
  },
  {
   "cell_type": "markdown",
   "metadata": {},
   "source": [
    "## Please fill up the survey\n",
    "Link: https://docs.google.com/forms/d/e/1FAIpQLSc67p4D64TF6ieH_V_WJA6x_efVvN_qH8EShHFpQApUGIFlHg/viewform?usp=sf_link"
   ]
  },
  {
   "cell_type": "markdown",
   "metadata": {},
   "source": [
    "## Results of the survey"
   ]
  },
  {
   "cell_type": "code",
   "execution_count": null,
   "metadata": {},
   "outputs": [],
   "source": [
    "import numpy as np\n",
    "import pandas as pd\n",
    "import matplotlib.pyplot as plt\n",
    "import seaborn as sns\n",
    "import matplotlib.gridspec as gridspec\n",
    "\n",
    "import gspread\n",
    "from oauth2client.service_account import ServiceAccountCredentials\n",
    "\n",
    "# use creds to create a client to interact with the Google Drive API\n",
    "scope = ['https://spreadsheets.google.com/feeds',\n",
    "         'https://www.googleapis.com/auth/drive']\n",
    "credentials = ServiceAccountCredentials.from_json_keyfile_name('../secrets/client_secret.json', scope)\n",
    "client = gspread.authorize(credentials)\n",
    "\n",
    "sheet = client.open(\"pre-course (Responses)\").sheet1\n",
    "\n",
    "# Extract and save the result in a pandas DataFrame\n",
    "df = pd.DataFrame(sheet.get_all_records())\n",
    "df.drop(columns='Timestamp', inplace=True)\n",
    "\n",
    "for ind, el in enumerate(df.columns):\n",
    "    print(\"Question {}: {}\".format(ind+1, el))\n",
    "\n",
    "figure = plt.figure(figsize=(10, 11))\n",
    "\n",
    "gs = gridspec.GridSpec(2, 3)\n",
    "ax1 = plt.subplot(gs[0, :-1])\n",
    "ax2 = plt.subplot(gs[1, 0])\n",
    "ax3 = plt.subplot(gs[1, 1])\n",
    "ax4 = plt.subplot(gs[1, 2])\n",
    "ax5 = plt.subplot(gs[0, -1])\n",
    "\n",
    "ax1.hist(df[df.columns[2]], color='r')\n",
    "ax1.spines['top'].set_visible(False)\n",
    "ax1.spines['right'].set_visible(False)\n",
    "ax1.set_xlabel(\"Python skills rating\", fontsize=20)\n",
    "ax1.set_ylabel(\"Counts\", fontsize=20)\n",
    "ax1.tick_params(labelsize=20)\n",
    "ax1.set_title(\"Question 3\", fontsize=15)\n",
    "\n",
    "ax2.pie(df[df.columns[1]].value_counts(), \n",
    "        labels=round(df[df.columns[1]].value_counts() / sum(df[df.columns[1]].value_counts()), 2), labeldistance=.4,\n",
    "        colors=[(249/255, 0, 83/255), (0, 195/255, 130/255)],\n",
    "        textprops={'fontsize': 15});\n",
    "ax2.legend(df[df.columns[1]].value_counts().index, loc=(.85, .75), edgecolor='w', fontsize=12)\n",
    "ax2.set_title(\"Question 2\", fontsize=15)\n",
    "\n",
    "ax3.pie(df[df.columns[0]].value_counts(), \n",
    "        labels=round(df[df.columns[0]].value_counts() / sum(df[df.columns[0]].value_counts()), 2), labeldistance=.4,\n",
    "        colors=[(249/255, 0, 83/255), (0, 195/255, 130/255)],\n",
    "        textprops={'fontsize': 15});\n",
    "ax3.legend(df[df.columns[0]].value_counts().index, loc=(.85, .75), edgecolor='w', fontsize=12)\n",
    "ax3.set_title(\"Question 1\", fontsize=15)\n",
    "\n",
    "ax4.pie(df[df.columns[3]].value_counts(), \n",
    "        labels=round(df[df.columns[3]].value_counts() / sum(df[df.columns[3]].value_counts()), 2), labeldistance=.4, rotatelabels=True, \n",
    "        textprops={'fontsize': 15});\n",
    "ax4.legend(df[df.columns[3]].value_counts().index, loc=(1, .2), edgecolor='w', fontsize=12)\n",
    "ax4.set_title(\"Question 4\", fontsize=15)\n",
    "\n",
    "ax5.pie(df[df.columns[4]].value_counts(), \n",
    "        labels=round(df[df.columns[4]].value_counts() / sum(df[df.columns[4]].value_counts()), 2), labeldistance=.4, rotatelabels=True, \n",
    "        textprops={'fontsize': 15});\n",
    "ax5.legend(df[df.columns[4]].value_counts().index, loc=(1, .3), edgecolor='w', fontsize=12)\n",
    "ax5.set_title(\"Question 5\", fontsize=15)\n",
    "\n",
    "plt.show()"
   ]
  },
  {
   "cell_type": "markdown",
   "metadata": {},
   "source": [
    "---"
   ]
  },
  {
   "cell_type": "markdown",
   "metadata": {},
   "source": [
    "## Course Structure\n",
    "\n",
    "### The whole workshop\n",
    "- **Day 1** (today) will be about basics of Python.\n",
    "- **Day 2** is about dealing with data as an abstract entity (regardless context) and visualizaton: Numpy and Matplotlib\n",
    "- **Day 3** is about dealing with data within a specific context (e.g., you have conditions/context and you want to do different things for different condition/context), as well as statistical visualization: Pandas and Seaborn\n",
    "- **Day 4** is about programming practices and we will be talking about how to improve our programming experience by doing some things in better ways\n",
    "\n",
    "### Timing\n",
    "- start at 9\n",
    "- lunch around 1230 - lunch break is 1 hour\n",
    "- we are gonna finish the main content around 1630\n",
    "- we are gonna finish with \n",
    "    - an open-ended exercises\n",
    "    - summary of the day\n",
    "    \n",
    "### Today\n",
    "- Shell application: Navigating through our file system\n",
    "- Python and Ipython Console\n",
    "- Installing and using Package Packages\n",
    "- Creating (and running) python scripts\n",
    "- Jupyter Notebook and Jupyter Lab\n",
    "- Python data structures\n",
    "- Indexing and slicing\n",
    "- Arithmetic operations (on data structures)\n",
    "- A glimps of Numpy (i.e., Numpy array)\n",
    "- A glimps of Matplotlib (i.e., plotting simple line/scatter plot)\n",
    "- Loops\n",
    "- Functions (maybe!!)\n",
    "\n",
    "### Exercises \n",
    "- short exercises during the day\n",
    "- long exercise (open-ended) at the end"
   ]
  },
  {
   "cell_type": "markdown",
   "metadata": {},
   "source": [
    "---"
   ]
  }
 ],
 "metadata": {
  "kernelspec": {
   "display_name": "Python 3",
   "language": "python",
   "name": "python3"
  },
  "language_info": {
   "codemirror_mode": {
    "name": "ipython",
    "version": 3
   },
   "file_extension": ".py",
   "mimetype": "text/x-python",
   "name": "python",
   "nbconvert_exporter": "python",
   "pygments_lexer": "ipython3",
   "version": "3.6.8"
  }
 },
 "nbformat": 4,
 "nbformat_minor": 2
}
