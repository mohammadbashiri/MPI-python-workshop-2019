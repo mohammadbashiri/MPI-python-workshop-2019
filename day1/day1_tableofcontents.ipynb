{
 "cells": [
  {
   "cell_type": "markdown",
   "metadata": {},
   "source": [
    "# Day 1 Table of Content"
   ]
  },
  {
   "cell_type": "markdown",
   "metadata": {},
   "source": [
    "Here is what I want to cover in the whole first day.\n",
    "- ===================== time (start of the below content): 0900\n",
    "- [ ] [I] [20] Introduction round\n",
    "- [ ] [I] [10] Fill up the form\n",
    "- [ ] [I] [10] Has everyone joined slack?\n",
    "- [ ] [I] [5] Why are we here?\n",
    "- [ ] [I] [5] Course structure\n",
    "- [ ] [I] [5] How much are we willing to suffer?\n",
    "- [ ] [E] [10] Exercise #1: Python installation\n",
    "- [ ] [B] [10] Break\n",
    "- ===================== time (start of the below content): 1015\n",
    "- [ ] [C] [10] Shell application\n",
    "- [ ] [E] [10] Exercise #2\n",
    "- [ ] [E] [5] Exercise Review\n",
    "- [ ] [C] [10] Python and IPython console in the shell\n",
    "- [ ] [C] [10] Importing packages and using them\n",
    "- [ ] [E] [10] Exercise #3\n",
    "- [ ] [E] [5] Exercise Review\n",
    "- [ ] [C] [5] Third-party packages\n",
    "- [ ] [E] [10] Exercise #4\n",
    "- [ ] [E] [0] Exercise Review\n",
    "- [ ] [B] [5] Break\n",
    "- ===================== time (start of the below content): 1145\n",
    "- [ ] [C] [10] Creating and running Python script\n",
    "- [ ] [E] [10] Exercise #5\n",
    "- [ ] [E] [10] Exercise Review\n",
    "- [ ] [C] [15] Namespaces and Objects\n",
    "- [ ] [L] [60] Lunch\n",
    "- ===================== time (start of the below content): 1330\n",
    "- [ ] [C] [15] Jupyter Notebook and Jypyter Lab \n",
    "- [ ] [E] [10] Exercise #6\n",
    "- [ ] [E] [0] Exercise Review\n",
    "- [ ] [C] [20] Python data structures\n",
    "- [ ] [C] [10] Indexing and slicing\n",
    "- [ ] [E] [10] Exercise #7\n",
    "- [ ] [E] [5] Exercise Review\n",
    "- [ ] [E] [5] Break\n",
    "- ===================== time (start of the below content): 1445\n",
    "- [ ] [C] [10] Typecasting\n",
    "- [ ] [C] [10] Arithemtic operations\n",
    "- [ ] [E] [10] Exercise #8\n",
    "- [ ] [E] [10] Exercise Review\n",
    "- [ ] [C] [20] advances features and dictionaries\n",
    "- [ ] [B] [5] Break\n",
    "- ===================== time (start of the below content): 1550\n",
    "- [ ] [C] [20] Loops\n",
    "- [ ] [E] [20] Exercise #9 and #10\n",
    "- [ ] [E] [15] Exercise Review\n",
    "- [ ] [B] [5] Break\n",
    "- ===================== time (start of the below content): 1650\n",
    "- [ ] [C] [5] Numpy \n",
    "- [ ] [C] [5] Matplotlib\n",
    "- [ ] [E] [30] Long Exercise\n",
    "- [ ] [E] [15] Exercise Review\n",
    "- [ ] [S] [15] Summary, and plan for the next day\n",
    "- ===================== End of the day: 1800"
   ]
  },
  {
   "cell_type": "markdown",
   "metadata": {},
   "source": [
    "---"
   ]
  },
  {
   "cell_type": "markdown",
   "metadata": {},
   "source": [
    "## Summary"
   ]
  },
  {
   "cell_type": "markdown",
   "metadata": {},
   "source": [
    "Today we learnt about:\n",
    "- [ ] Navigating through our file system via shell application\n",
    "- [ ] Python and Ipython Console\n",
    "- [ ] Importing Package\n",
    "- [ ] Creating (and running) python scripts\n",
    "- [ ] Jupyter Notebook and Jupyter Lab\n",
    "- [ ] Python data structures: int, float, string, tuple, list, dictionaries, and boolean\n",
    "- [ ] Indexing and slicing\n",
    "- [ ] Arithmetic operations (on data structures)\n",
    "- [x] A glimps of Numpy (i.e., Numpy array)\n",
    "- [ ] A glimps of Matplotlib (i.e., plotting simple line/scatter plot)\n",
    "- [ ] Loops"
   ]
  },
  {
   "cell_type": "code",
   "execution_count": null,
   "metadata": {},
   "outputs": [],
   "source": []
  }
 ],
 "metadata": {
  "kernelspec": {
   "display_name": "Python 3",
   "language": "python",
   "name": "python3"
  },
  "language_info": {
   "codemirror_mode": {
    "name": "ipython",
    "version": 3
   },
   "file_extension": ".py",
   "mimetype": "text/x-python",
   "name": "python",
   "nbconvert_exporter": "python",
   "pygments_lexer": "ipython3",
   "version": "3.6.8"
  }
 },
 "nbformat": 4,
 "nbformat_minor": 2
}
