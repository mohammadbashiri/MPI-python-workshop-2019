{
 "cells": [
  {
   "cell_type": "markdown",
   "metadata": {},
   "source": [
    "# Exercise 2.5"
   ]
  },
  {
   "cell_type": "code",
   "execution_count": 1,
   "metadata": {},
   "outputs": [],
   "source": [
    "import numpy as np\n",
    "import matplotlib.pyplot as plt"
   ]
  },
  {
   "cell_type": "markdown",
   "metadata": {},
   "source": [
    "1) Create 4x4 numpy array ranging from 0 to 16. Name is `my_arr`"
   ]
  },
  {
   "cell_type": "code",
   "execution_count": 2,
   "metadata": {},
   "outputs": [],
   "source": [
    "my_arr = np.arange(16).reshape(4, 4)"
   ]
  },
  {
   "cell_type": "code",
   "execution_count": 3,
   "metadata": {},
   "outputs": [
    {
     "data": {
      "text/plain": [
       "array([[ 0,  1,  2,  3],\n",
       "       [ 4,  5,  6,  7],\n",
       "       [ 8,  9, 10, 11],\n",
       "       [12, 13, 14, 15]])"
      ]
     },
     "execution_count": 3,
     "metadata": {},
     "output_type": "execute_result"
    }
   ],
   "source": [
    "my_arr"
   ]
  },
  {
   "cell_type": "markdown",
   "metadata": {},
   "source": [
    "2) Extract the diagonal of this array. <br>\n",
    "**Hint**: use `np.eye()` and masking"
   ]
  },
  {
   "cell_type": "code",
   "execution_count": 4,
   "metadata": {},
   "outputs": [
    {
     "data": {
      "text/plain": [
       "array([ 0,  5, 10, 15])"
      ]
     },
     "execution_count": 4,
     "metadata": {},
     "output_type": "execute_result"
    }
   ],
   "source": [
    "my_arr[np.eye(*my_arr.shape) == 1]"
   ]
  },
  {
   "cell_type": "markdown",
   "metadata": {},
   "source": [
    "3) Make all the elements in `my_arr`, except the diagonal, zero."
   ]
  },
  {
   "cell_type": "code",
   "execution_count": 5,
   "metadata": {},
   "outputs": [],
   "source": [
    "my_arr[np.eye(*my_arr.shape) == 0] = 0"
   ]
  },
  {
   "cell_type": "code",
   "execution_count": 6,
   "metadata": {},
   "outputs": [
    {
     "data": {
      "text/plain": [
       "array([[ 0,  0,  0,  0],\n",
       "       [ 0,  5,  0,  0],\n",
       "       [ 0,  0, 10,  0],\n",
       "       [ 0,  0,  0, 15]])"
      ]
     },
     "execution_count": 6,
     "metadata": {},
     "output_type": "execute_result"
    }
   ],
   "source": [
    "my_arr"
   ]
  },
  {
   "cell_type": "markdown",
   "metadata": {},
   "source": [
    "4) Using a numpy function, find the index of the non-zero values in the given list. <br>\n",
    "**Hint**: Look into `np.nonzero()`"
   ]
  },
  {
   "cell_type": "code",
   "execution_count": 7,
   "metadata": {},
   "outputs": [],
   "source": [
    "my_list = [1, 0, 0, 10, 0, -3]"
   ]
  },
  {
   "cell_type": "code",
   "execution_count": 8,
   "metadata": {},
   "outputs": [
    {
     "data": {
      "text/plain": [
       "(array([0, 3, 5]),)"
      ]
     },
     "execution_count": 8,
     "metadata": {},
     "output_type": "execute_result"
    }
   ],
   "source": [
    "np.nonzero(my_list)"
   ]
  },
  {
   "cell_type": "markdown",
   "metadata": {},
   "source": [
    "5) Change `my list` to a numpy array and find the non-zero element of the resulting array."
   ]
  },
  {
   "cell_type": "code",
   "execution_count": 9,
   "metadata": {},
   "outputs": [],
   "source": [
    "my_arr = np.array(my_list)"
   ]
  },
  {
   "cell_type": "code",
   "execution_count": 10,
   "metadata": {},
   "outputs": [
    {
     "data": {
      "text/plain": [
       "array([ 1, 10, -3])"
      ]
     },
     "execution_count": 10,
     "metadata": {},
     "output_type": "execute_result"
    }
   ],
   "source": [
    "my_arr[my_arr != 0]"
   ]
  },
  {
   "cell_type": "markdown",
   "metadata": {},
   "source": [
    "6) Using the numpy function `np.where()` find the index of the non-zero element of the array from previous exercise."
   ]
  },
  {
   "cell_type": "code",
   "execution_count": 11,
   "metadata": {},
   "outputs": [
    {
     "data": {
      "text/plain": [
       "(array([0, 3, 5]),)"
      ]
     },
     "execution_count": 11,
     "metadata": {},
     "output_type": "execute_result"
    }
   ],
   "source": [
    "np.where(my_arr != 0)"
   ]
  },
  {
   "cell_type": "markdown",
   "metadata": {},
   "source": [
    "7) Given a 1D array, negate all elements which are between 3 and 8, in place."
   ]
  },
  {
   "cell_type": "code",
   "execution_count": 12,
   "metadata": {
    "collapsed": false
   },
   "outputs": [],
   "source": [
    "x = np.arange(11)"
   ]
  },
  {
   "cell_type": "markdown",
   "metadata": {},
   "source": [
    "8) Create a random 1D numpy array of size 10 and with integer values. Name it `int_arr`."
   ]
  },
  {
   "cell_type": "code",
   "execution_count": 13,
   "metadata": {},
   "outputs": [],
   "source": [
    "int_arr = np.random.randint(0, 10, size=(10))"
   ]
  },
  {
   "cell_type": "code",
   "execution_count": 14,
   "metadata": {},
   "outputs": [
    {
     "data": {
      "text/plain": [
       "array([5, 8, 1, 0, 7, 4, 1, 3, 7, 2])"
      ]
     },
     "execution_count": 14,
     "metadata": {},
     "output_type": "execute_result"
    }
   ],
   "source": [
    "int_arr"
   ]
  },
  {
   "cell_type": "markdown",
   "metadata": {},
   "source": [
    "9) Sort this array in descending order. <br>\n",
    "**Hint**: Look into `np.sort()`"
   ]
  },
  {
   "cell_type": "code",
   "execution_count": null,
   "metadata": {},
   "outputs": [],
   "source": []
  },
  {
   "cell_type": "markdown",
   "metadata": {},
   "source": [
    "10) Two arrays are given below, `a_arr` and `b_arr`. \n",
    "- Sort `a_arr` in descending\n",
    "- Sort `b_arr` with the same order of elements as `a_arr`\n",
    "\n",
    "**Hint**: Look into `np.argsort()`"
   ]
  },
  {
   "cell_type": "code",
   "execution_count": null,
   "metadata": {},
   "outputs": [],
   "source": []
  },
  {
   "cell_type": "markdown",
   "metadata": {},
   "source": [
    "11) Sort the following array by the 1st, 3rd, and last column?"
   ]
  },
  {
   "cell_type": "code",
   "execution_count": 15,
   "metadata": {},
   "outputs": [
    {
     "data": {
      "text/plain": [
       "array([[10,  9, 12,  5,  6,  4, 10, 13, 11,  7],\n",
       "       [19, 12,  8, 19,  9, 12, 17,  9, 16, 19],\n",
       "       [16, 18, 13, 19, 18,  5,  1,  5,  1,  9],\n",
       "       [10, 17, 14, 15,  1, 10,  7, 17, 15,  5],\n",
       "       [ 6, 18, 17, 18,  2,  1,  3, 16, 17, 19],\n",
       "       [14,  2, 19, 19,  0,  2,  1,  9, 18, 12],\n",
       "       [ 1,  1, 11,  4, 11,  0,  6, 17, 16, 12]])"
      ]
     },
     "execution_count": 15,
     "metadata": {},
     "output_type": "execute_result"
    }
   ],
   "source": [
    "my_arr = np.random.randint(0, 20, size=(7, 10))\n",
    "my_arr"
   ]
  },
  {
   "cell_type": "code",
   "execution_count": 16,
   "metadata": {},
   "outputs": [
    {
     "data": {
      "text/plain": [
       "array([[ 1,  1, 11,  4, 11,  0,  6, 17, 16, 12],\n",
       "       [ 6, 18, 17, 18,  2,  1,  3, 16, 17, 19],\n",
       "       [10,  9, 12,  5,  6,  4, 10, 13, 11,  7],\n",
       "       [10, 17, 14, 15,  1, 10,  7, 17, 15,  5],\n",
       "       [14,  2, 19, 19,  0,  2,  1,  9, 18, 12],\n",
       "       [16, 18, 13, 19, 18,  5,  1,  5,  1,  9],\n",
       "       [19, 12,  8, 19,  9, 12, 17,  9, 16, 19]])"
      ]
     },
     "execution_count": 16,
     "metadata": {},
     "output_type": "execute_result"
    }
   ],
   "source": [
    "my_arr[np.argsort(my_arr[:, 0]), :]"
   ]
  },
  {
   "cell_type": "code",
   "execution_count": 17,
   "metadata": {},
   "outputs": [
    {
     "data": {
      "text/plain": [
       "array([[19, 12,  8, 19,  9, 12, 17,  9, 16, 19],\n",
       "       [ 1,  1, 11,  4, 11,  0,  6, 17, 16, 12],\n",
       "       [10,  9, 12,  5,  6,  4, 10, 13, 11,  7],\n",
       "       [16, 18, 13, 19, 18,  5,  1,  5,  1,  9],\n",
       "       [10, 17, 14, 15,  1, 10,  7, 17, 15,  5],\n",
       "       [ 6, 18, 17, 18,  2,  1,  3, 16, 17, 19],\n",
       "       [14,  2, 19, 19,  0,  2,  1,  9, 18, 12]])"
      ]
     },
     "execution_count": 17,
     "metadata": {},
     "output_type": "execute_result"
    }
   ],
   "source": [
    "my_arr[np.argsort(my_arr[:, 2]), :]"
   ]
  },
  {
   "cell_type": "code",
   "execution_count": 18,
   "metadata": {},
   "outputs": [
    {
     "data": {
      "text/plain": [
       "array([[10, 17, 14, 15,  1, 10,  7, 17, 15,  5],\n",
       "       [10,  9, 12,  5,  6,  4, 10, 13, 11,  7],\n",
       "       [16, 18, 13, 19, 18,  5,  1,  5,  1,  9],\n",
       "       [14,  2, 19, 19,  0,  2,  1,  9, 18, 12],\n",
       "       [ 1,  1, 11,  4, 11,  0,  6, 17, 16, 12],\n",
       "       [19, 12,  8, 19,  9, 12, 17,  9, 16, 19],\n",
       "       [ 6, 18, 17, 18,  2,  1,  3, 16, 17, 19]])"
      ]
     },
     "execution_count": 18,
     "metadata": {},
     "output_type": "execute_result"
    }
   ],
   "source": [
    "my_arr[np.argsort(my_arr[:, -1]), :]"
   ]
  },
  {
   "cell_type": "markdown",
   "metadata": {},
   "source": [
    "12) For the given array:\n",
    "- subtract the mean of each column from the column\n",
    "- divide each column by the standard deviation of the column"
   ]
  },
  {
   "cell_type": "code",
   "execution_count": 19,
   "metadata": {},
   "outputs": [
    {
     "data": {
      "text/plain": [
       "array([[-1.08144607, -0.42301114,  0.16390189],\n",
       "       [ 0.85373504,  0.54158062,  2.05439089],\n",
       "       [ 0.83620628, -0.41361855, -1.08860768],\n",
       "       [ 0.66183286, -0.49120139,  0.62313381],\n",
       "       [-0.65438037,  0.50692074, -1.08159438],\n",
       "       [-1.84803186, -0.42263433,  1.25627827],\n",
       "       [-0.94764515, -0.0792668 , -0.83739885],\n",
       "       [-0.14243584, -1.43478202,  0.51912176],\n",
       "       [-1.02122493,  0.56328513, -0.49078743],\n",
       "       [ 0.49594401, -1.15515275, -1.45695819],\n",
       "       [-0.52223877, -1.4942978 , -0.8634776 ],\n",
       "       [-0.40505497,  0.5120621 , -0.08061885],\n",
       "       [ 0.66652204, -0.06520791, -1.15821545],\n",
       "       [ 1.11681731, -1.13167432, -0.62120896],\n",
       "       [ 0.47841866,  0.34872098,  0.43443681],\n",
       "       [-0.3595793 ,  1.13569063,  0.6340537 ],\n",
       "       [-0.51914486, -0.30889416, -0.34746028],\n",
       "       [ 0.54414523,  2.09308853, -2.0191055 ],\n",
       "       [-0.6744326 , -2.05771819, -1.02076346],\n",
       "       [ 0.85289586, -3.33422773, -0.94779233]])"
      ]
     },
     "execution_count": 19,
     "metadata": {},
     "output_type": "execute_result"
    }
   ],
   "source": [
    "my_arr = np.random.randn(20, 3)\n",
    "my_arr"
   ]
  },
  {
   "cell_type": "code",
   "execution_count": 20,
   "metadata": {},
   "outputs": [],
   "source": [
    "my_arr = my_arr - my_arr.mean(axis=0)"
   ]
  },
  {
   "cell_type": "code",
   "execution_count": 21,
   "metadata": {},
   "outputs": [],
   "source": [
    "my_arr = my_arr / my_arr.std(axis=0)"
   ]
  },
  {
   "cell_type": "code",
   "execution_count": 22,
   "metadata": {},
   "outputs": [
    {
     "data": {
      "text/plain": [
       "array([[-1.22930925, -0.05752989,  0.49141206],\n",
       "       [ 1.15441522,  0.76465697,  2.4254959 ],\n",
       "       [ 1.13282358, -0.04952396, -0.7899805 ],\n",
       "       [ 0.91803325, -0.11565306,  0.9612339 ],\n",
       "       [-0.70325669,  0.735114  , -0.78280546],\n",
       "       [-2.1735771 , -0.05720872,  1.60897874],\n",
       "       [-1.06449547,  0.23546668, -0.53297876],\n",
       "       [-0.07265179, -0.91993072,  0.85482333],\n",
       "       [-1.15512983,  0.78315719, -0.17837446],\n",
       "       [ 0.71369407, -0.68158376, -1.16682519],\n",
       "       [-0.54048684, -0.97066005, -0.55965889],\n",
       "       [-0.39614175,  0.73949633,  0.24125265],\n",
       "       [ 0.92380931,  0.24745002, -0.86119343],\n",
       "       [ 1.47847566, -0.6615715 , -0.31180352],\n",
       "       [ 0.69210664,  0.60026965,  0.76818554],\n",
       "       [-0.34012556,  1.27105715,  0.97240562],\n",
       "       [-0.53667581,  0.03973973, -0.03174217],\n",
       "       [ 0.77306755,  2.0871122 , -1.74193567],\n",
       "       [-0.72795671, -1.45090139, -0.72057178],\n",
       "       [ 1.15338153, -2.5389569 , -0.64591792]])"
      ]
     },
     "execution_count": 22,
     "metadata": {},
     "output_type": "execute_result"
    }
   ],
   "source": [
    "my_arr"
   ]
  },
  {
   "cell_type": "markdown",
   "metadata": {},
   "source": [
    "12) Using a the numpy function `mean()` and `std`, define a function that get a numpy array and returns a standardized version of it. This standardization must be perform for each column separately."
   ]
  },
  {
   "cell_type": "code",
   "execution_count": 23,
   "metadata": {},
   "outputs": [],
   "source": [
    "def standardize(x):\n",
    "    return (x - x.mean(axis=0)) / x.std(axis=0)"
   ]
  },
  {
   "cell_type": "markdown",
   "metadata": {},
   "source": [
    "13) Create a random array of size 50x4, scaled and offseted by some value. And\n",
    "- Using the function created in previous exercise, standardize each column\n",
    "- Plot the first column of the original array and the standardized version, using a line plot"
   ]
  },
  {
   "cell_type": "code",
   "execution_count": 24,
   "metadata": {},
   "outputs": [],
   "source": [
    "new_arr = np.random.randn(50, 4) * 5 + 10"
   ]
  },
  {
   "cell_type": "code",
   "execution_count": 25,
   "metadata": {},
   "outputs": [],
   "source": [
    "new_arr_std = standardize(new_arr)"
   ]
  },
  {
   "cell_type": "code",
   "execution_count": 26,
   "metadata": {},
   "outputs": [
    {
     "data": {
      "image/png": "[encoded data removed]",
      "text/plain": [
       "<Figure size 432x288 with 1 Axes>"
      ]
     },
     "metadata": {
      "needs_background": "light"
     },
     "output_type": "display_data"
    }
   ],
   "source": [
    "plt.plot(new_arr[:, 0])\n",
    "plt.plot(new_arr_std[:, 0]);"
   ]
  }
 ],
 "metadata": {
  "kernelspec": {
   "display_name": "Python 3",
   "language": "python",
   "name": "python3"
  },
  "language_info": {
   "codemirror_mode": {
    "name": "ipython",
    "version": 3
   },
   "file_extension": ".py",
   "mimetype": "text/x-python",
   "name": "python",
   "nbconvert_exporter": "python",
   "pygments_lexer": "ipython3",
   "version": "3.7.1"
  }
 },
 "nbformat": 4,
 "nbformat_minor": 2
}
