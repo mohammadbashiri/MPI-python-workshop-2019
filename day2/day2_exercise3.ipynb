{
 "cells": [
  {
   "cell_type": "markdown",
   "metadata": {},
   "source": [
    "- [ ] [C] Numpy (cont.)\n",
    "    - Masking\n",
    "    - Combining and Splitting\n",
    "    - Vectorization"
   ]
  },
  {
   "cell_type": "markdown",
   "metadata": {},
   "source": [
    "1) Create 4x4 numpy array ranging from 0 to 16. Name is `my_arr`"
   ]
  },
  {
   "cell_type": "code",
   "execution_count": 14,
   "metadata": {},
   "outputs": [],
   "source": [
    "import numpy as np"
   ]
  },
  {
   "cell_type": "code",
   "execution_count": 15,
   "metadata": {},
   "outputs": [],
   "source": [
    "my_arr = np.arange(16).reshape(4, 4)"
   ]
  },
  {
   "cell_type": "code",
   "execution_count": 16,
   "metadata": {},
   "outputs": [
    {
     "data": {
      "text/plain": [
       "array([[ 0,  1,  2,  3],\n",
       "       [ 4,  5,  6,  7],\n",
       "       [ 8,  9, 10, 11],\n",
       "       [12, 13, 14, 15]])"
      ]
     },
     "execution_count": 16,
     "metadata": {},
     "output_type": "execute_result"
    }
   ],
   "source": [
    "my_arr"
   ]
  },
  {
   "cell_type": "markdown",
   "metadata": {},
   "source": [
    "2) Extract the diagonal of this array. <br>\n",
    "**Hint**: use `np.eye()` and masking"
   ]
  },
  {
   "cell_type": "code",
   "execution_count": 22,
   "metadata": {},
   "outputs": [
    {
     "data": {
      "text/plain": [
       "array([ 0,  5, 10, 15])"
      ]
     },
     "execution_count": 22,
     "metadata": {},
     "output_type": "execute_result"
    }
   ],
   "source": [
    "my_arr[np.eye(*my_arr.shape) == 1]"
   ]
  },
  {
   "cell_type": "markdown",
   "metadata": {},
   "source": [
    "3) Make all the elements in `my_arr`, except the diagonal, zero."
   ]
  },
  {
   "cell_type": "code",
   "execution_count": 23,
   "metadata": {},
   "outputs": [],
   "source": [
    "my_arr[np.eye(*my_arr.shape) == 0] = 0"
   ]
  },
  {
   "cell_type": "code",
   "execution_count": 24,
   "metadata": {},
   "outputs": [
    {
     "data": {
      "text/plain": [
       "array([[ 0,  0,  0,  0],\n",
       "       [ 0,  5,  0,  0],\n",
       "       [ 0,  0, 10,  0],\n",
       "       [ 0,  0,  0, 15]])"
      ]
     },
     "execution_count": 24,
     "metadata": {},
     "output_type": "execute_result"
    }
   ],
   "source": [
    "my_arr"
   ]
  },
  {
   "cell_type": "markdown",
   "metadata": {},
   "source": [
    "4) Using a numpy function, find the index of the non-zero values in the given list. <br>\n",
    "**Hint**: Look into `np.nonzero()`"
   ]
  },
  {
   "cell_type": "code",
   "execution_count": 36,
   "metadata": {},
   "outputs": [],
   "source": [
    "my_list = [1, 0, 0, 10, 0, -3]"
   ]
  },
  {
   "cell_type": "code",
   "execution_count": 37,
   "metadata": {},
   "outputs": [
    {
     "data": {
      "text/plain": [
       "(array([0, 3, 5]),)"
      ]
     },
     "execution_count": 37,
     "metadata": {},
     "output_type": "execute_result"
    }
   ],
   "source": [
    "np.nonzero(my_list)"
   ]
  },
  {
   "cell_type": "markdown",
   "metadata": {},
   "source": [
    "5) Change `my list` to a numpy array and find the non-zero element of the resulting array."
   ]
  },
  {
   "cell_type": "code",
   "execution_count": 38,
   "metadata": {},
   "outputs": [],
   "source": [
    "my_arr = np.array(my_list)"
   ]
  },
  {
   "cell_type": "code",
   "execution_count": 39,
   "metadata": {},
   "outputs": [
    {
     "data": {
      "text/plain": [
       "array([ 1, 10, -3])"
      ]
     },
     "execution_count": 39,
     "metadata": {},
     "output_type": "execute_result"
    }
   ],
   "source": [
    "my_arr[my_arr != 0]"
   ]
  },
  {
   "cell_type": "markdown",
   "metadata": {},
   "source": [
    "6) Using the numpy function `np.where()` find the index of the non-zero element of the array from previous exercise."
   ]
  },
  {
   "cell_type": "code",
   "execution_count": 42,
   "metadata": {},
   "outputs": [
    {
     "data": {
      "text/plain": [
       "(array([0, 3, 5]),)"
      ]
     },
     "execution_count": 42,
     "metadata": {},
     "output_type": "execute_result"
    }
   ],
   "source": [
    "np.where(my_arr != 0)"
   ]
  },
  {
   "cell_type": "markdown",
   "metadata": {},
   "source": [
    "7) Given a 1D array, negate all elements which are between 3 and 8, in place."
   ]
  },
  {
   "cell_type": "code",
   "execution_count": 43,
   "metadata": {
    "collapsed": false
   },
   "outputs": [],
   "source": [
    "x = np.arange(11)"
   ]
  },
  {
   "cell_type": "markdown",
   "metadata": {},
   "source": [
    "8) Create a random 1D numpy array of size 10 and with integer values. Name it `int_arr`."
   ]
  },
  {
   "cell_type": "code",
   "execution_count": 44,
   "metadata": {},
   "outputs": [],
   "source": [
    "int_arr = np.random.randint(0, 10, size=(10))"
   ]
  },
  {
   "cell_type": "code",
   "execution_count": 45,
   "metadata": {},
   "outputs": [
    {
     "data": {
      "text/plain": [
       "array([4, 2, 8, 4, 0, 8, 4, 3, 7, 9])"
      ]
     },
     "execution_count": 45,
     "metadata": {},
     "output_type": "execute_result"
    }
   ],
   "source": [
    "int_arr"
   ]
  },
  {
   "cell_type": "markdown",
   "metadata": {},
   "source": [
    "9) Sort this array in descending order. <br>\n",
    "**Hint**: Look into `np.sort()`"
   ]
  },
  {
   "cell_type": "code",
   "execution_count": null,
   "metadata": {},
   "outputs": [],
   "source": []
  },
  {
   "cell_type": "markdown",
   "metadata": {},
   "source": [
    "10) Two arrays are given below, `a_arr` and `b_arr`. \n",
    "- Sort `a_arr` in descending\n",
    "- Sort `b_arr` with the same order of elements as `a_arr`\n",
    "\n",
    "**Hint**: Look into `np.argsort()`"
   ]
  },
  {
   "cell_type": "code",
   "execution_count": null,
   "metadata": {},
   "outputs": [],
   "source": []
  },
  {
   "cell_type": "markdown",
   "metadata": {},
   "source": [
    "11) Sort the following array by the 1st, 3rd, and last column?"
   ]
  },
  {
   "cell_type": "code",
   "execution_count": 54,
   "metadata": {},
   "outputs": [
    {
     "data": {
      "text/plain": [
       "array([[ 2, 14, 16,  4, 11,  6, 14, 19,  6, 12],\n",
       "       [15, 18,  9,  2,  7,  8, 19, 15, 17,  4],\n",
       "       [ 1, 18,  5,  1,  4,  7,  0,  5, 12, 11],\n",
       "       [ 4, 15,  5, 18, 17,  1,  7,  1,  0,  1],\n",
       "       [12, 19, 11, 15, 18, 16,  0, 11,  7,  0],\n",
       "       [ 9,  9, 15, 17, 12, 12,  6,  1, 15,  4],\n",
       "       [11, 17, 13,  0, 10,  8,  1, 11,  1, 15]])"
      ]
     },
     "execution_count": 54,
     "metadata": {},
     "output_type": "execute_result"
    }
   ],
   "source": [
    "my_arr = np.random.randint(0, 20, size=(7, 10))\n",
    "my_arr"
   ]
  },
  {
   "cell_type": "code",
   "execution_count": 57,
   "metadata": {},
   "outputs": [
    {
     "data": {
      "text/plain": [
       "array([[ 1, 18,  5,  1,  4,  7,  0,  5, 12, 11],\n",
       "       [ 2, 14, 16,  4, 11,  6, 14, 19,  6, 12],\n",
       "       [ 4, 15,  5, 18, 17,  1,  7,  1,  0,  1],\n",
       "       [ 9,  9, 15, 17, 12, 12,  6,  1, 15,  4],\n",
       "       [11, 17, 13,  0, 10,  8,  1, 11,  1, 15],\n",
       "       [12, 19, 11, 15, 18, 16,  0, 11,  7,  0],\n",
       "       [15, 18,  9,  2,  7,  8, 19, 15, 17,  4]])"
      ]
     },
     "execution_count": 57,
     "metadata": {},
     "output_type": "execute_result"
    }
   ],
   "source": [
    "my_arr[np.argsort(my_arr[:, 0]), :]"
   ]
  },
  {
   "cell_type": "code",
   "execution_count": 58,
   "metadata": {},
   "outputs": [
    {
     "data": {
      "text/plain": [
       "array([[ 1, 18,  5,  1,  4,  7,  0,  5, 12, 11],\n",
       "       [ 4, 15,  5, 18, 17,  1,  7,  1,  0,  1],\n",
       "       [15, 18,  9,  2,  7,  8, 19, 15, 17,  4],\n",
       "       [12, 19, 11, 15, 18, 16,  0, 11,  7,  0],\n",
       "       [11, 17, 13,  0, 10,  8,  1, 11,  1, 15],\n",
       "       [ 9,  9, 15, 17, 12, 12,  6,  1, 15,  4],\n",
       "       [ 2, 14, 16,  4, 11,  6, 14, 19,  6, 12]])"
      ]
     },
     "execution_count": 58,
     "metadata": {},
     "output_type": "execute_result"
    }
   ],
   "source": [
    "my_arr[np.argsort(my_arr[:, 2]), :]"
   ]
  },
  {
   "cell_type": "code",
   "execution_count": 59,
   "metadata": {},
   "outputs": [
    {
     "data": {
      "text/plain": [
       "array([[12, 19, 11, 15, 18, 16,  0, 11,  7,  0],\n",
       "       [ 4, 15,  5, 18, 17,  1,  7,  1,  0,  1],\n",
       "       [15, 18,  9,  2,  7,  8, 19, 15, 17,  4],\n",
       "       [ 9,  9, 15, 17, 12, 12,  6,  1, 15,  4],\n",
       "       [ 1, 18,  5,  1,  4,  7,  0,  5, 12, 11],\n",
       "       [ 2, 14, 16,  4, 11,  6, 14, 19,  6, 12],\n",
       "       [11, 17, 13,  0, 10,  8,  1, 11,  1, 15]])"
      ]
     },
     "execution_count": 59,
     "metadata": {},
     "output_type": "execute_result"
    }
   ],
   "source": [
    "my_arr[np.argsort(my_arr[:, -1]), :]"
   ]
  },
  {
   "cell_type": "markdown",
   "metadata": {},
   "source": [
    "12) For the given array:\n",
    "- subtract the mean of each column from the column\n",
    "- divide each column by the standard deviation of the column"
   ]
  },
  {
   "cell_type": "code",
   "execution_count": 62,
   "metadata": {},
   "outputs": [
    {
     "data": {
      "text/plain": [
       "array([[-0.42265228, -1.05683839, -1.52379009],\n",
       "       [ 1.42317119,  0.62008853, -0.44762063],\n",
       "       [ 2.04230403, -0.63899089, -1.80156999],\n",
       "       [-1.4219904 , -1.24063795, -0.12025273],\n",
       "       [-0.3313051 , -2.39351079,  0.08152036],\n",
       "       [-0.77257543,  1.56111785, -0.06391544],\n",
       "       [-0.18270055, -0.10021046, -0.93830607],\n",
       "       [-0.45790338, -1.0726902 ,  0.69006883],\n",
       "       [ 0.6104872 ,  0.88829542,  0.91071152],\n",
       "       [ 0.95378398,  0.97317826, -1.65970527],\n",
       "       [ 0.3484132 , -0.87474744, -0.10382639],\n",
       "       [-1.09594464, -1.23660486, -0.59471798],\n",
       "       [-1.70525379,  1.19542776,  0.0585976 ],\n",
       "       [ 0.21684956,  0.81006431, -1.29136043],\n",
       "       [ 1.95234957, -0.41771678,  0.27430331],\n",
       "       [ 0.37269018, -0.30099155, -1.81428155],\n",
       "       [-0.29725074, -0.41889692, -1.05517569],\n",
       "       [-0.33510575,  2.22009308, -0.05420652],\n",
       "       [-0.13628138,  1.01709479, -1.20087444],\n",
       "       [-1.28293284, -0.22017513,  1.45969825]])"
      ]
     },
     "execution_count": 62,
     "metadata": {},
     "output_type": "execute_result"
    }
   ],
   "source": [
    "my_arr = np.random.randn(20, 3)\n",
    "my_arr"
   ]
  },
  {
   "cell_type": "code",
   "execution_count": null,
   "metadata": {},
   "outputs": [],
   "source": []
  },
  {
   "cell_type": "markdown",
   "metadata": {},
   "source": [
    "12) Using a the numpy function `mean()` and `std`, define a function that get a numpy array and returns a standardized version of it. This standardization must be perform for each column separately."
   ]
  },
  {
   "cell_type": "code",
   "execution_count": null,
   "metadata": {},
   "outputs": [],
   "source": []
  },
  {
   "cell_type": "markdown",
   "metadata": {},
   "source": [
    "13) Create a random array of size 50x4. And\n",
    "- Using the function created in previous exercise, standardize each column\n",
    "- Plot the first column of the original array and the standardized version, using a line plot"
   ]
  },
  {
   "cell_type": "markdown",
   "metadata": {},
   "source": [
    "14) Perform the following task on the two given arrays\n",
    "- change the type of the array elements to `np.float`. **Hint**: `astype()`\n",
    "- stack the two arrays vetically\n",
    "- save the resulting stacked array\n",
    "- share your file via slack with me"
   ]
  },
  {
   "cell_type": "code",
   "execution_count": null,
   "metadata": {},
   "outputs": [],
   "source": []
  }
 ],
 "metadata": {
  "kernelspec": {
   "display_name": "Python 3",
   "language": "python",
   "name": "python3"
  },
  "language_info": {
   "codemirror_mode": {
    "name": "ipython",
    "version": 3
   },
   "file_extension": ".py",
   "mimetype": "text/x-python",
   "name": "python",
   "nbconvert_exporter": "python",
   "pygments_lexer": "ipython3",
   "version": "3.6.8"
  }
 },
 "nbformat": 4,
 "nbformat_minor": 2
}
