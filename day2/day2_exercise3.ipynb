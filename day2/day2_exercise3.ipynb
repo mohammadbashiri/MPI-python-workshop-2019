{
 "cells": [
  {
   "cell_type": "markdown",
   "metadata": {},
   "source": [
    "# Exercise 2.3"
   ]
  },
  {
   "cell_type": "markdown",
   "metadata": {},
   "source": [
    "1) Check the \"**truthness**\" of the following variables/values. (try to guess first)"
   ]
  },
  {
   "cell_type": "code",
   "execution_count": null,
   "metadata": {},
   "outputs": [],
   "source": [
    "a = \" \"\n",
    "b = 0\n",
    "c = []\n",
    "d = [0]"
   ]
  },
  {
   "cell_type": "markdown",
   "metadata": {},
   "source": [
    "2) What is the result of the following logical operation?\n",
    "``` python\n",
    ">>> True and False\n",
    ">>> True or False\n",
    ">>> bool(0) and bool(1)\n",
    ">>> bool(1) or bool(2)\n",
    ">>> bool(0) and bool([0])\n",
    ">>> bool([]) or bool([0])\n",
    "```"
   ]
  },
  {
   "cell_type": "code",
   "execution_count": null,
   "metadata": {},
   "outputs": [],
   "source": []
  },
  {
   "cell_type": "markdown",
   "metadata": {},
   "source": [
    "3) You are given two numerical variables, `a` and `b`. Write a code that prints `a is bigger` if a is bigger than b, otherwise prints `a is either equal to or less than b`."
   ]
  },
  {
   "cell_type": "code",
   "execution_count": null,
   "metadata": {},
   "outputs": [],
   "source": [
    "a = 4\n",
    "b = 4"
   ]
  },
  {
   "cell_type": "code",
   "execution_count": null,
   "metadata": {},
   "outputs": [],
   "source": []
  },
  {
   "cell_type": "markdown",
   "metadata": {},
   "source": [
    "4) Given the three variables a, b and c. Write a code that:\n",
    "- prints \"a is the biggest\" if a is bigger than both b and c\n",
    "- prints \"a is bigger than one of them\" if a is bigger than b or c\n",
    "- prints \"a is the smallest\" if a is smaller than both b and c"
   ]
  },
  {
   "cell_type": "code",
   "execution_count": null,
   "metadata": {},
   "outputs": [],
   "source": [
    "a = 10\n",
    "b = 9\n",
    "c = 18"
   ]
  },
  {
   "cell_type": "code",
   "execution_count": null,
   "metadata": {},
   "outputs": [],
   "source": []
  },
  {
   "cell_type": "markdown",
   "metadata": {},
   "source": [
    "5) Implement the following diagram.\n",
    "\n",
    "<center>\n",
    "    <img src=\"https://github.com/mohammadbashiri/MPI-python-workshop-2019/blob/master/images/flow_chart_1.png?raw=true\" width=\"50%\" height=\"50%\"/>\n",
    "</center> "
   ]
  },
  {
   "cell_type": "code",
   "execution_count": null,
   "metadata": {},
   "outputs": [],
   "source": []
  },
  {
   "cell_type": "markdown",
   "metadata": {},
   "source": [
    "6) Implement the following diagram.\n",
    "<center>\n",
    "    <img src=\"https://github.com/mohammadbashiri/MPI-python-workshop-2019/blob/master/images/flow_chart_2.png?raw=true\" width=\"60%\" height=\"60%\"/>\n",
    "</center> "
   ]
  },
  {
   "cell_type": "code",
   "execution_count": null,
   "metadata": {},
   "outputs": [],
   "source": []
  },
  {
   "cell_type": "markdown",
   "metadata": {},
   "source": [
    "7) In previous exercise (Exercise 6), we have if statement inside another if statement (two levels of conditions). Try to write a code with same functionality with one level of conditions."
   ]
  },
  {
   "cell_type": "code",
   "execution_count": null,
   "metadata": {},
   "outputs": [],
   "source": []
  },
  {
   "cell_type": "markdown",
   "metadata": {},
   "source": [
    "8) Create a dictionary in which the keys are the days of the week, and the values are number of hours that you work in that day."
   ]
  },
  {
   "cell_type": "code",
   "execution_count": null,
   "metadata": {},
   "outputs": [],
   "source": []
  },
  {
   "cell_type": "markdown",
   "metadata": {},
   "source": [
    "9) Define a function that get this dinctionary as input and returns two lists. One list contain the hours for the weekdays, and the other for the weekends."
   ]
  },
  {
   "cell_type": "code",
   "execution_count": null,
   "metadata": {},
   "outputs": [],
   "source": []
  },
  {
   "cell_type": "markdown",
   "metadata": {},
   "source": [
    "10) Implement a function which get this dictionary as input, and returns the mean number of hours we work. However, this function acccepts another input which specifies whether we want the mean number of hours for the weekdays, weekends, or whole week. Hence your function should accommodate these three different conditions for comptuting the mean value and returning it."
   ]
  },
  {
   "cell_type": "code",
   "execution_count": null,
   "metadata": {},
   "outputs": [],
   "source": [
    "aa = [1, 2, 3]"
   ]
  },
  {
   "cell_type": "code",
   "execution_count": null,
   "metadata": {},
   "outputs": [],
   "source": []
  }
 ],
 "metadata": {
  "kernelspec": {
   "display_name": "Python 3",
   "language": "python",
   "name": "python3"
  },
  "language_info": {
   "codemirror_mode": {
    "name": "ipython",
    "version": 3
   },
   "file_extension": ".py",
   "mimetype": "text/x-python",
   "name": "python",
   "nbconvert_exporter": "python",
   "pygments_lexer": "ipython3",
   "version": "3.7.1"
  }
 },
 "nbformat": 4,
 "nbformat_minor": 2
}
