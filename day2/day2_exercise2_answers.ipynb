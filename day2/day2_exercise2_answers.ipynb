{
 "cells": [
  {
   "cell_type": "markdown",
   "metadata": {},
   "source": [
    "# Exercise 2.2\n",
    "\n",
    "## Functions\n",
    "A function is a block of organized, reusable code that is used to perform a single, related action. Functions provide better modularity for your application and a high degree of code reusing. As you already know, Python gives you many built-in functions like `print()`, `len()`, etc. but you can also create your own functions. These functions are called **user-defined** functions.\n",
    "\n",
    "Here is how to define a function:\n",
    "\n",
    "Function block begins with the keyword `def` followed by the function name and parentheses, `( )`. Any input parameters or arguments should be placed within these parentheses. The code block within every function starts with a colon, `:`, and is indented. The statement `return [expression]` exits a function, optionally passing back a new (transformed) object.\n",
    "\n",
    "Here is an example of a function that get a value, increases it by 2, and returns the value.\n",
    "``` python\n",
    ">>> def add_two(val):\n",
    ">>>     new_val = val + 2\n",
    ">>>     return new_val\n",
    "```"
   ]
  },
  {
   "cell_type": "markdown",
   "metadata": {},
   "source": [
    "1) Define function that gets a single value as the input and returns a squared version of it. Name the function `square_it`."
   ]
  },
  {
   "cell_type": "code",
   "execution_count": 1,
   "metadata": {},
   "outputs": [],
   "source": [
    "def square_it(val):\n",
    "    return val ** 2"
   ]
  },
  {
   "cell_type": "code",
   "execution_count": 2,
   "metadata": {},
   "outputs": [
    {
     "data": {
      "text/plain": [
       "9"
      ]
     },
     "execution_count": 2,
     "metadata": {},
     "output_type": "execute_result"
    }
   ],
   "source": [
    "square_it(3)"
   ]
  },
  {
   "cell_type": "markdown",
   "metadata": {},
   "source": [
    "2) Define a function that accepts two values, and returns the sum of them. Name the function `add_them`."
   ]
  },
  {
   "cell_type": "code",
   "execution_count": 3,
   "metadata": {},
   "outputs": [],
   "source": [
    "def add_them(val1, val2):\n",
    "    return val1 + val2"
   ]
  },
  {
   "cell_type": "code",
   "execution_count": 4,
   "metadata": {},
   "outputs": [
    {
     "data": {
      "text/plain": [
       "3"
      ]
     },
     "execution_count": 4,
     "metadata": {},
     "output_type": "execute_result"
    }
   ],
   "source": [
    "add_them(1, 2)"
   ]
  },
  {
   "cell_type": "markdown",
   "metadata": {},
   "source": [
    "Python functions, in general, accept two types of inputs: **required** and **optional**. **Required** arguments are arguments that if they are not passed, the function won't work so an error will pop up asking for the missing input - the function defined above as example had a single requried argument. However, sometimes we might want to provide a default value for an input just in case if the user has no idea what value they should assign to this specific variable. This is called an **optional** argument. Providing such optional argument is also helpful in giving the user freedom to be able to make changes to the function, if necessary.\n",
    "\n",
    "Here is an example of a function the raise a given number to a given power. With one required argument (the value) and one optinal argument (the power).\n",
    "``` python\n",
    ">>> def exponent(val, power=2):\n",
    ">>>     new_val = val ** power\n",
    ">>>     return new_val\n",
    "```\n",
    "**Note**: Optional arguments are always placed after the required arguments when defining the function.\n",
    "\n",
    "3) Define a function that accepts two values each as a separate input arguments, one required and one optional. Set the default value of the second input to 1. The fucntion returns the result of the multiplication of the two inputs. Call the function `mult`."
   ]
  },
  {
   "cell_type": "code",
   "execution_count": 5,
   "metadata": {},
   "outputs": [],
   "source": [
    "def mult(val1, val2=1):\n",
    "    return val1 * val2"
   ]
  },
  {
   "cell_type": "code",
   "execution_count": 6,
   "metadata": {},
   "outputs": [
    {
     "data": {
      "text/plain": [
       "20"
      ]
     },
     "execution_count": 6,
     "metadata": {},
     "output_type": "execute_result"
    }
   ],
   "source": [
    "mult(10, 2)"
   ]
  },
  {
   "cell_type": "code",
   "execution_count": 7,
   "metadata": {},
   "outputs": [
    {
     "data": {
      "text/plain": [
       "10"
      ]
     },
     "execution_count": 7,
     "metadata": {},
     "output_type": "execute_result"
    }
   ],
   "source": [
    "mult(10)"
   ]
  },
  {
   "cell_type": "markdown",
   "metadata": {},
   "source": [
    "4) Define a function that gets a list and a value as inputs. And raise each element of the list to the power specified by the second input (set the default value of the second input to 2)."
   ]
  },
  {
   "cell_type": "code",
   "execution_count": 8,
   "metadata": {},
   "outputs": [],
   "source": [
    "def func(val1, val2):\n",
    "    new_list = []\n",
    "    for el in val1:\n",
    "        new_list.append(el**val2)\n",
    "    \n",
    "    return new_list"
   ]
  },
  {
   "cell_type": "code",
   "execution_count": 9,
   "metadata": {},
   "outputs": [
    {
     "data": {
      "text/plain": [
       "[9, 4, 1]"
      ]
     },
     "execution_count": 9,
     "metadata": {},
     "output_type": "execute_result"
    }
   ],
   "source": [
    "func([3, 2, 1], 2)"
   ]
  },
  {
   "cell_type": "markdown",
   "metadata": {},
   "source": [
    "5) Define a function that gets two lists as inputs, and returns a new list which is the element-wise summation of the other two lists."
   ]
  },
  {
   "cell_type": "code",
   "execution_count": 10,
   "metadata": {},
   "outputs": [],
   "source": [
    "def add_lists(list1, list2):\n",
    "    new_list = []\n",
    "    for val1, val2 in zip(list1, list2):\n",
    "        new_list.append()\n",
    "        \n",
    "    return new_list"
   ]
  },
  {
   "cell_type": "markdown",
   "metadata": {},
   "source": [
    "6) Define a function that gets a list and returns the mean value of the list. Call the function `get_mean`."
   ]
  },
  {
   "cell_type": "code",
   "execution_count": 11,
   "metadata": {},
   "outputs": [],
   "source": [
    "def get_mean(my_list):\n",
    "    return sum(my_list) / len(my_list)"
   ]
  },
  {
   "cell_type": "code",
   "execution_count": 12,
   "metadata": {},
   "outputs": [
    {
     "data": {
      "text/plain": [
       "2.0"
      ]
     },
     "execution_count": 12,
     "metadata": {},
     "output_type": "execute_result"
    }
   ],
   "source": [
    "get_mean([1, 2, 3])"
   ]
  },
  {
   "cell_type": "markdown",
   "metadata": {},
   "source": [
    "7) Define a function that gets a list, and subtracts the mean of the list from each element of the list and returns those values in a new list. "
   ]
  },
  {
   "cell_type": "code",
   "execution_count": 13,
   "metadata": {},
   "outputs": [],
   "source": [
    "def subtract_mean(my_list):\n",
    "    mean = get_mean(my_list)\n",
    "    new_list = []\n",
    "    for el in my_list:\n",
    "        new_list.append(el - mean)\n",
    "        \n",
    "    return new_list"
   ]
  },
  {
   "cell_type": "code",
   "execution_count": 14,
   "metadata": {},
   "outputs": [
    {
     "data": {
      "text/plain": [
       "[-1.0, 0.0, 1.0]"
      ]
     },
     "execution_count": 14,
     "metadata": {},
     "output_type": "execute_result"
    }
   ],
   "source": [
    "subtract_mean([1, 2, 3])"
   ]
  },
  {
   "cell_type": "markdown",
   "metadata": {},
   "source": [
    "8) Define a function that returns the standard deviation of a given list."
   ]
  },
  {
   "cell_type": "code",
   "execution_count": 15,
   "metadata": {},
   "outputs": [],
   "source": [
    "def get_std(my_list):\n",
    "    mean_val = get_mean(my_list)\n",
    "    std = 0\n",
    "    for el in my_list:\n",
    "        std += (mean_val - el) ** 2\n",
    "    \n",
    "    return std / (len(my_list) - 1)"
   ]
  },
  {
   "cell_type": "code",
   "execution_count": 16,
   "metadata": {},
   "outputs": [
    {
     "data": {
      "text/plain": [
       "1.0"
      ]
     },
     "execution_count": 16,
     "metadata": {},
     "output_type": "execute_result"
    }
   ],
   "source": [
    "get_std([1, 2, 3])"
   ]
  },
  {
   "cell_type": "markdown",
   "metadata": {},
   "source": [
    "9) Define a function that standardizes a given list. Standardization is subtracting the mean and dividing by the standard deviation."
   ]
  },
  {
   "cell_type": "code",
   "execution_count": 17,
   "metadata": {},
   "outputs": [],
   "source": [
    "def standardize(my_list):\n",
    "    subtracted_mean = subtract_mean(my_list)\n",
    "    std = get_std(my_list)\n",
    "    new_list = []\n",
    "    for el in subtracted_mean:\n",
    "        new_list.append(el / std)\n",
    "        \n",
    "    return new_list"
   ]
  },
  {
   "cell_type": "code",
   "execution_count": 18,
   "metadata": {},
   "outputs": [
    {
     "data": {
      "text/plain": [
       "[-1.0, 0.0, 1.0]"
      ]
     },
     "execution_count": 18,
     "metadata": {},
     "output_type": "execute_result"
    }
   ],
   "source": [
    "new_list = standardize([1, 2, 3])\n",
    "new_list"
   ]
  },
  {
   "cell_type": "markdown",
   "metadata": {},
   "source": [
    "10) Let's check and see if the function works fine.\n",
    "- the mean of the returned list should be 0, and\n",
    "- the standard deviation of the list should be 1"
   ]
  },
  {
   "cell_type": "code",
   "execution_count": 19,
   "metadata": {},
   "outputs": [
    {
     "data": {
      "text/plain": [
       "0.0"
      ]
     },
     "execution_count": 19,
     "metadata": {},
     "output_type": "execute_result"
    }
   ],
   "source": [
    "get_mean(new_list)"
   ]
  },
  {
   "cell_type": "code",
   "execution_count": 20,
   "metadata": {},
   "outputs": [
    {
     "data": {
      "text/plain": [
       "1.0"
      ]
     },
     "execution_count": 20,
     "metadata": {},
     "output_type": "execute_result"
    }
   ],
   "source": [
    "get_std(new_list)"
   ]
  }
 ],
 "metadata": {
  "kernelspec": {
   "display_name": "Python 3",
   "language": "python",
   "name": "python3"
  },
  "language_info": {
   "codemirror_mode": {
    "name": "ipython",
    "version": 3
   },
   "file_extension": ".py",
   "mimetype": "text/x-python",
   "name": "python",
   "nbconvert_exporter": "python",
   "pygments_lexer": "ipython3",
   "version": "3.7.1"
  }
 },
 "nbformat": 4,
 "nbformat_minor": 2
}
