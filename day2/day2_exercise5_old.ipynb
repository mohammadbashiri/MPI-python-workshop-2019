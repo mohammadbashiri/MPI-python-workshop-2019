{
 "cells": [
  {
   "cell_type": "markdown",
   "metadata": {},
   "source": [
    "This exercise is concerned with practicing Numpy and matplotlib (once they are both finished)\n",
    "- Make group of two people\n",
    "- work on the data alone and together\n",
    "- answer the following questions\n",
    "- send you figures to me"
   ]
  },
  {
   "cell_type": "markdown",
   "metadata": {},
   "source": [
    "1) Download the zip file I have shared with you on Slack. Unzip the file, and every file as a separate variable"
   ]
  },
  {
   "cell_type": "code",
   "execution_count": 2,
   "metadata": {},
   "outputs": [],
   "source": [
    "import numpy as np\n",
    "import matplotlib.pyplot as plt"
   ]
  },
  {
   "cell_type": "code",
   "execution_count": 3,
   "metadata": {},
   "outputs": [],
   "source": [
    "alcohol = np.load(\"data/alcohol.npy\")\n",
    "alcohol = np.load(\"data/alcohol.npy\")\n",
    "alcohol = np.load(\"data/alcohol.npy\")\n",
    "alcohol = np.load(\"data/alcohol.npy\")\n",
    "alcohol = np.load(\"data/alcohol.npy\")\n",
    "alcohol = np.load(\"data/alcohol.npy\")\n",
    "alcohol = np.load(\"data/alcohol.npy\")\n",
    "alcohol = np.load(\"data/alcohol.npy\")\n",
    "alcohol = np.load(\"data/alcohol.npy\")\n",
    "alcohol = np.load(\"data/alcohol.npy\")"
   ]
  },
  {
   "cell_type": "markdown",
   "metadata": {},
   "source": [
    "2) Create a new variable called `quality_range`. This variable:\n",
    "- has the same size as the `quality` array\n",
    "- takes a value of 0 for the quality values less or equal to 3 - we will refer to this as low quality.\n",
    "- takes a value of 1 for the quality values greater than 3 and less than 7 - we will refer to this as the medium quality.\n",
    "- takes a value of 2 for the quality values greater or equal "
   ]
  },
  {
   "cell_type": "code",
   "execution_count": null,
   "metadata": {},
   "outputs": [],
   "source": []
  },
  {
   "cell_type": "markdown",
   "metadata": {},
   "source": [
    "3) Plot scatter plots of every possible pair of features"
   ]
  },
  {
   "cell_type": "code",
   "execution_count": null,
   "metadata": {},
   "outputs": [],
   "source": []
  },
  {
   "cell_type": "markdown",
   "metadata": {},
   "source": [
    "4) Pick the top 2 pair of features with the highest. right those pairs in the markdown cell below.\n",
    "\n",
    "Example: density-pH"
   ]
  },
  {
   "cell_type": "code",
   "execution_count": 1,
   "metadata": {},
   "outputs": [],
   "source": [
    "import numpy as np"
   ]
  },
  {
   "cell_type": "code",
   "execution_count": 3,
   "metadata": {},
   "outputs": [
    {
     "data": {
      "text/plain": [
       "-1.0"
      ]
     },
     "execution_count": 3,
     "metadata": {},
     "output_type": "execute_result"
    }
   ],
   "source": [
    "np.corrcoef([1, 2, 3], [-1, -2, -3])[0, 1]"
   ]
  },
  {
   "cell_type": "markdown",
   "metadata": {},
   "source": [
    "5) Using the numpy method `np.corrcoef()` evaluate your choice of pairs in the previous exercise - whether actually the paired that you guessed have the highest correlations."
   ]
  },
  {
   "cell_type": "code",
   "execution_count": null,
   "metadata": {},
   "outputs": [],
   "source": []
  },
  {
   "cell_type": "markdown",
   "metadata": {},
   "source": [
    "6) For the scatter plots in (3) color code the points depending on the values of the `quality_range`"
   ]
  },
  {
   "cell_type": "code",
   "execution_count": null,
   "metadata": {},
   "outputs": [],
   "source": []
  },
  {
   "cell_type": "markdown",
   "metadata": {},
   "source": [
    "7) Does the correlation for pairs of features changes for different quality range?"
   ]
  },
  {
   "cell_type": "code",
   "execution_count": null,
   "metadata": {},
   "outputs": [],
   "source": []
  },
  {
   "cell_type": "markdown",
   "metadata": {},
   "source": [
    "8) For each feature, plot three histogram on the same plot. Each histogram is for one quality range."
   ]
  },
  {
   "cell_type": "code",
   "execution_count": null,
   "metadata": {},
   "outputs": [],
   "source": []
  },
  {
   "cell_type": "markdown",
   "metadata": {},
   "source": [
    "9) Is there any feature where you think one can see a clear separation between low and high wine quality? Name the top 2."
   ]
  },
  {
   "cell_type": "code",
   "execution_count": null,
   "metadata": {},
   "outputs": [],
   "source": []
  },
  {
   "cell_type": "markdown",
   "metadata": {},
   "source": [
    "10) Create a 4x4 subplot. Where the diagonals are the histograms (three histograms per plot for three quality ranges) of each feature. and other subplots are the scatter plots of the features plotted versus each other."
   ]
  },
  {
   "cell_type": "code",
   "execution_count": null,
   "metadata": {},
   "outputs": [],
   "source": []
  }
 ],
 "metadata": {
  "kernelspec": {
   "display_name": "Python 3",
   "language": "python",
   "name": "python3"
  },
  "language_info": {
   "codemirror_mode": {
    "name": "ipython",
    "version": 3
   },
   "file_extension": ".py",
   "mimetype": "text/x-python",
   "name": "python",
   "nbconvert_exporter": "python",
   "pygments_lexer": "ipython3",
   "version": "3.6.8"
  }
 },
 "nbformat": 4,
 "nbformat_minor": 2
}
