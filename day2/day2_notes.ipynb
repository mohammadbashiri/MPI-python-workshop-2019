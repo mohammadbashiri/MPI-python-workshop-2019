{
 "cells": [
  {
   "cell_type": "markdown",
   "metadata": {},
   "source": [
    "## [C] [0900] [15] Recap of day 1\n",
    "- Different tools to run Python code.\n",
    "- Standard and third-party libraries, and how to install and use them.\n",
    "- Different Data types: \n",
    "    - single-value: int, float, bool \n",
    "    - collections: str, list, tuple\n",
    "- As we create any of these, we have an object which has some functions or values attached to it. We can access them via (. + TAB) --or-- `dir()`.\n",
    "- Indexing and slicing of collections.\n",
    "- Changing objects' type (example list to bool).\n",
    "- Tuple unpacking.\n",
    "- Loops: enumerate and zip.\n",
    "\n",
    "### Request\n",
    "yesterday I notices everyone is eager to try what I am showing, and that's awesome, but it results in:\n",
    "- you missing some stuff that I say, and\n",
    "- me repeating what I already said, and so\n",
    "- we loose time\n",
    "\n",
    "I have a suggestion:\n",
    "- We'll have plenty of exercises, and\n",
    "- I find our discussion over the exercise most useful\n",
    "- So let's divide the order of action in three parts:\n",
    "    - me explaining\n",
    "    - me showing a demo\n",
    "    - you do an exercise and try things by yourself\n",
    "    - and we all discuss"
   ]
  },
  {
   "cell_type": "markdown",
   "metadata": {},
   "source": [
    "---"
   ]
  },
  {
   "cell_type": "markdown",
   "metadata": {},
   "source": [
    "## [C] [0915] [10] Dictionary"
   ]
  },
  {
   "cell_type": "markdown",
   "metadata": {},
   "source": [
    "---"
   ]
  },
  {
   "cell_type": "markdown",
   "metadata": {},
   "source": [
    "## [E] [0925] [15] Exercices #1"
   ]
  },
  {
   "cell_type": "markdown",
   "metadata": {},
   "source": [
    "---"
   ]
  },
  {
   "cell_type": "markdown",
   "metadata": {},
   "source": [
    "## [E] [0940] [10] Exercise Review"
   ]
  },
  {
   "cell_type": "markdown",
   "metadata": {},
   "source": [
    "---"
   ]
  },
  {
   "cell_type": "markdown",
   "metadata": {},
   "source": [
    "## [C] [0950] [15] Functions"
   ]
  },
  {
   "cell_type": "markdown",
   "metadata": {},
   "source": [
    "---"
   ]
  },
  {
   "cell_type": "markdown",
   "metadata": {},
   "source": [
    "## [E] [1000] [10] Exercises #2"
   ]
  },
  {
   "cell_type": "markdown",
   "metadata": {},
   "source": [
    "---"
   ]
  },
  {
   "cell_type": "markdown",
   "metadata": {},
   "source": [
    "## [B] [1010] [05] Break"
   ]
  },
  {
   "cell_type": "markdown",
   "metadata": {},
   "source": [
    "---"
   ]
  },
  {
   "cell_type": "markdown",
   "metadata": {},
   "source": [
    "## [C] [1015] [15] Logical Operations and flow control"
   ]
  },
  {
   "cell_type": "markdown",
   "metadata": {},
   "source": [
    "### Inequality operation (>, >=, ==, !=, <=, <)\n",
    "Also mention:\n",
    "``` python\n",
    "5 < a < 10\n",
    "5 <= a < 10\n",
    "4 == a < 10\n",
    "```"
   ]
  },
  {
   "cell_type": "markdown",
   "metadata": {},
   "source": [
    "### Boolean operations"
   ]
  },
  {
   "cell_type": "code",
   "execution_count": 8,
   "metadata": {},
   "outputs": [
    {
     "data": {
      "text/plain": [
       "False"
      ]
     },
     "execution_count": 8,
     "metadata": {},
     "output_type": "execute_result"
    }
   ],
   "source": [
    "False and False"
   ]
  },
  {
   "cell_type": "code",
   "execution_count": 9,
   "metadata": {},
   "outputs": [
    {
     "data": {
      "text/plain": [
       "False"
      ]
     },
     "execution_count": 9,
     "metadata": {},
     "output_type": "execute_result"
    }
   ],
   "source": [
    "True and False"
   ]
  },
  {
   "cell_type": "code",
   "execution_count": 10,
   "metadata": {},
   "outputs": [
    {
     "data": {
      "text/plain": [
       "True"
      ]
     },
     "execution_count": 10,
     "metadata": {},
     "output_type": "execute_result"
    }
   ],
   "source": [
    "True and True"
   ]
  },
  {
   "cell_type": "code",
   "execution_count": 11,
   "metadata": {},
   "outputs": [
    {
     "data": {
      "text/plain": [
       "False"
      ]
     },
     "execution_count": 11,
     "metadata": {},
     "output_type": "execute_result"
    }
   ],
   "source": [
    "False or False"
   ]
  },
  {
   "cell_type": "code",
   "execution_count": 12,
   "metadata": {},
   "outputs": [
    {
     "data": {
      "text/plain": [
       "True"
      ]
     },
     "execution_count": 12,
     "metadata": {},
     "output_type": "execute_result"
    }
   ],
   "source": [
    "True or False"
   ]
  },
  {
   "cell_type": "code",
   "execution_count": 13,
   "metadata": {},
   "outputs": [
    {
     "data": {
      "text/plain": [
       "True"
      ]
     },
     "execution_count": 13,
     "metadata": {},
     "output_type": "execute_result"
    }
   ],
   "source": [
    "True or True"
   ]
  },
  {
   "cell_type": "markdown",
   "metadata": {},
   "source": [
    "### Control Flow\n",
    "\n",
    "**if statements** run if their arguments is `True`, which is a boolean. So we can control the flow by performing operations that output boolean states.\n",
    "\n",
    "```python\n",
    "if condition:\n",
    "    do_something\n",
    "    \n",
    "if a > 2:\n",
    "    print('Argument of \"if\" evaluated to True')\n",
    "```"
   ]
  },
  {
   "cell_type": "markdown",
   "metadata": {},
   "source": [
    "---"
   ]
  },
  {
   "cell_type": "markdown",
   "metadata": {},
   "source": [
    "## [E] [1030] [20] Exercise #3"
   ]
  },
  {
   "cell_type": "markdown",
   "metadata": {},
   "source": [
    "---"
   ]
  },
  {
   "cell_type": "markdown",
   "metadata": {},
   "source": [
    "## [E] [1050] [15] Exercise Review"
   ]
  },
  {
   "cell_type": "markdown",
   "metadata": {},
   "source": [
    "---"
   ]
  },
  {
   "cell_type": "markdown",
   "metadata": {},
   "source": [
    "## [B] [1105] [10] Break"
   ]
  },
  {
   "cell_type": "markdown",
   "metadata": {},
   "source": [
    "---"
   ]
  },
  {
   "cell_type": "markdown",
   "metadata": {},
   "source": [
    "## [C] [1115] [45] Numpy\n",
    "### What is Numpy? and Why?\n",
    "### Creating Numpy arrays from lists\n",
    "    - np.array()\n",
    "### 2D arrays and lists + indexing\n",
    "### Other ways to generate Numpy arrays:\n",
    "    - np.zeros()\n",
    "    - np.ones()\n",
    "    - np.arange()\n",
    "    - np.linspace()\n",
    "    - np.random()\n",
    "### Data inpection\n",
    "    - data.shape\n",
    "    - data.ndim\n",
    "    - data.dtype\n",
    "### Saving and importing Numpy arrays\n",
    "\n",
    "### Data Aggregation\n",
    "    - data.sum(axis=0)\n",
    "    - data.min(axis=1)\n",
    "    - data.max()\n",
    "    - data.mean()\n",
    "    - data.std()\n",
    "### Data Transformation\n",
    "    - data.T\n",
    "    - data.reshape\n",
    "    - np.flatten()\n",
    "    - np.add()\n",
    "    - np.subtract()\n",
    "    - np.multiply()\n",
    "    - np.divide()\n",
    "    - np.remainder()\n",
    "    - np.exp() or np.log()"
   ]
  },
  {
   "cell_type": "markdown",
   "metadata": {},
   "source": [
    "## [E] [1200] [30] Exercise #4"
   ]
  },
  {
   "cell_type": "markdown",
   "metadata": {},
   "source": [
    "---"
   ]
  },
  {
   "cell_type": "markdown",
   "metadata": {},
   "source": [
    "## [L] [1230] [60] Lunch"
   ]
  },
  {
   "cell_type": "markdown",
   "metadata": {},
   "source": [
    "---"
   ]
  },
  {
   "cell_type": "markdown",
   "metadata": {},
   "source": [
    "## [E] [1330] [15] Exercise Review "
   ]
  },
  {
   "cell_type": "markdown",
   "metadata": {},
   "source": [
    "---"
   ]
  },
  {
   "cell_type": "markdown",
   "metadata": {},
   "source": [
    "## [C] [1345] [20] Numpy (cont.)\n",
    "### Masking\n",
    "``` python\n",
    ">>> a[[True, False, False, False, False, False, False]]\n",
    ">>> a > 5\n",
    ">>> a[a > 5]\n",
    "\n",
    "# mor than one condition\n",
    ">>> a[(a > 14) & (a < 25)]\n",
    "```\n",
    "\n",
    "### Combining and Splitting"
   ]
  },
  {
   "cell_type": "markdown",
   "metadata": {},
   "source": [
    "---"
   ]
  },
  {
   "cell_type": "markdown",
   "metadata": {},
   "source": [
    "## [E] [1405] [20] Exercise #5"
   ]
  },
  {
   "cell_type": "markdown",
   "metadata": {},
   "source": [
    "---"
   ]
  },
  {
   "cell_type": "markdown",
   "metadata": {},
   "source": [
    "## [E] [1425] [10] Exercise Review"
   ]
  },
  {
   "cell_type": "markdown",
   "metadata": {},
   "source": [
    "---"
   ]
  },
  {
   "cell_type": "markdown",
   "metadata": {},
   "source": [
    "## [B] [1435] [10] Break"
   ]
  },
  {
   "cell_type": "markdown",
   "metadata": {},
   "source": [
    "---"
   ]
  },
  {
   "cell_type": "markdown",
   "metadata": {},
   "source": [
    "## [C] [1445] [15] Matplotlib\n",
    "Different types of figures:\n",
    "- line\n",
    "- scatter\n",
    "- histogram\n",
    "- imshow"
   ]
  },
  {
   "cell_type": "markdown",
   "metadata": {},
   "source": [
    "---"
   ]
  },
  {
   "cell_type": "markdown",
   "metadata": {},
   "source": [
    "## [E] [1500] [15] Exercise #6"
   ]
  },
  {
   "cell_type": "markdown",
   "metadata": {},
   "source": [
    "---"
   ]
  },
  {
   "cell_type": "markdown",
   "metadata": {},
   "source": [
    "## [C] [1515] [20] Matplotlib\n",
    "    - Customizing figures"
   ]
  },
  {
   "cell_type": "markdown",
   "metadata": {},
   "source": [
    "---"
   ]
  },
  {
   "cell_type": "markdown",
   "metadata": {},
   "source": [
    "## [E] [1535] [15] Exercise #7"
   ]
  },
  {
   "cell_type": "markdown",
   "metadata": {},
   "source": [
    "---"
   ]
  },
  {
   "cell_type": "markdown",
   "metadata": {},
   "source": [
    "## [E] [1550] [10] Exercise Review"
   ]
  },
  {
   "cell_type": "markdown",
   "metadata": {},
   "source": [
    "---"
   ]
  },
  {
   "cell_type": "markdown",
   "metadata": {},
   "source": [
    "## [B] [1600] [05] Break"
   ]
  },
  {
   "cell_type": "markdown",
   "metadata": {},
   "source": [
    "---"
   ]
  },
  {
   "cell_type": "markdown",
   "metadata": {},
   "source": [
    "## [C] [1605] [20] Matplotlib (cont.)\n",
    "    - Subplots\n",
    "    - Saving figures"
   ]
  },
  {
   "cell_type": "markdown",
   "metadata": {},
   "source": [
    "---"
   ]
  },
  {
   "cell_type": "markdown",
   "metadata": {},
   "source": [
    "## [E] [1625] [30] Exercise #8"
   ]
  },
  {
   "cell_type": "markdown",
   "metadata": {},
   "source": [
    "---"
   ]
  },
  {
   "cell_type": "markdown",
   "metadata": {},
   "source": [
    "## [E] [1655] [20] Exercise Review"
   ]
  },
  {
   "cell_type": "markdown",
   "metadata": {},
   "source": [
    "---"
   ]
  },
  {
   "cell_type": "markdown",
   "metadata": {},
   "source": [
    "## [B] [1715] [10] Break"
   ]
  },
  {
   "cell_type": "markdown",
   "metadata": {},
   "source": [
    "---"
   ]
  }
 ],
 "metadata": {
  "kernelspec": {
   "display_name": "Python 3",
   "language": "python",
   "name": "python3"
  },
  "language_info": {
   "codemirror_mode": {
    "name": "ipython",
    "version": 3
   },
   "file_extension": ".py",
   "mimetype": "text/x-python",
   "name": "python",
   "nbconvert_exporter": "python",
   "pygments_lexer": "ipython3",
   "version": "3.6.8"
  }
 },
 "nbformat": 4,
 "nbformat_minor": 2
}
