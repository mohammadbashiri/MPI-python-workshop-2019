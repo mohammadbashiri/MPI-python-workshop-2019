{
 "cells": [
  {
   "cell_type": "markdown",
   "metadata": {},
   "source": [
    "Here is what I want to cover in the whole first day.\n",
    "- = [type] [start] [duration] [topic]\n",
    "- [ ] [C] [0900] [15] Recap of day 1\n",
    "- [ ] [C] [0915] [10] Dictionary\n",
    "- [ ] [E] [0925] [15] Exercices (yesterday + dictionaries)\n",
    "- [ ] [E] [0940] [10] Exercise Review\n",
    "- [ ] [C] [0950] [15] Functions\n",
    "- [ ] [E] [1000] [10] Exercises #1\n",
    "- [ ] [B] [1010] [05] Break ==========================\n",
    "- [ ] [C] [1015] [15] Logical Operations and flow control\n",
    "- [ ] [E] [1030] [20] Exercise #1\n",
    "- [ ] [E] [1050] [15] Exercise Review\n",
    "- [ ] [B] [1105] [10] Break ==========================\n",
    "- [ ] [C] [1115] [45] Numpy\n",
    "    - What is Numpy? and Why?\n",
    "    - Creating Numpy arrays from lists\n",
    "    - 2D arrays and lists + indexing\n",
    "    - Generating Numpy arrays\n",
    "    - Saving and importing Numpy arrays\n",
    "    - Data Inspection\n",
    "    - Manipulating Numpy array\n",
    "- [ ] [E] [1200] [30] Exercise #2\n",
    "- [ ] [L] [1230] [60] Lunch ==========================\n",
    "- [ ] [E] [1330] [15] Exercise Review \n",
    "- [ ] [C] [1345] [20] Numpy (cont.)\n",
    "    - Masking\n",
    "    - Combining and Splitting\n",
    "- [ ] [E] [1405] [20] Exercise #3\n",
    "- [ ] [E] [1425] [10] Exercise Review\n",
    "- [ ] [B] [1435] [10] Break ==========================\n",
    "- [ ] [C] [1445] [15] Matplotlib\n",
    "    - Different types of figures\n",
    "- [ ] [E] [1500] [15] Exercise #??\n",
    "- [ ] [C] [1515] [20] Matplotlib\n",
    "    - Customizing figures\n",
    "- [ ] [E] [1535] [15] Exercise #4\n",
    "- [ ] [E] [1550] [10] Exercise Review\n",
    "- [ ] [B] [1600] [05] Break ==========================\n",
    "- [ ] [C] [1605] [20] Matplotlib (cont.)\n",
    "    - Subplots\n",
    "    - Saving figures\n",
    "- [ ] [E] [1625] [30] Exercise #5\n",
    "- [ ] [E] [1655] [20] Exercise Review\n",
    "- [ ] [B] [1715] [10] Break ==========================\n",
    "\n",
    "### Pandas goes to the third day!\n",
    "- [ ] [C] [1725] [30] Pandas\n",
    "    - What is Pandas? and Why? (labelled and inhomogenous data)\n",
    "    - Pandas Series and DataFrames\n",
    "    - Read from external files (and URLs)\n",
    "    - Save DataFrames\n",
    "    - Data Inspection\n",
    "    - How to get Numpy array from Pandas DataFrame\n",
    "- [ ] [E] [20] Exercise #6\n",
    "- [ ] [E] [10] Exercise Review\n",
    "- [ ] [S] [15] Summary, and plan for the next day\n",
    "- ===================== End of the day: 1745"
   ]
  },
  {
   "cell_type": "markdown",
   "metadata": {},
   "source": [
    "---"
   ]
  }
 ],
 "metadata": {
  "kernelspec": {
   "display_name": "Python 3",
   "language": "python",
   "name": "python3"
  },
  "language_info": {
   "codemirror_mode": {
    "name": "ipython",
    "version": 3
   },
   "file_extension": ".py",
   "mimetype": "text/x-python",
   "name": "python",
   "nbconvert_exporter": "python",
   "pygments_lexer": "ipython3",
   "version": "3.6.8"
  }
 },
 "nbformat": 4,
 "nbformat_minor": 2
}
