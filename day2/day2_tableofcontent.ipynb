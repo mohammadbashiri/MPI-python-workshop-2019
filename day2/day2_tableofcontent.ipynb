{
 "cells": [
  {
   "cell_type": "markdown",
   "metadata": {},
   "source": [
    "Here is what I want to cover in the whole first day.\n",
    "- ===================== time (start of the below content): 0900\n",
    "- [ ] [C] [30] Recap of day 1\n",
    "- [ ] [C] [15] Functions\n",
    "- [ ] [C] [15] Logical Operations and flow control\n",
    "- [ ] [E] [20] Exercise #1\n",
    "- [ ] [E] [15] Exercise Review\n",
    "- [ ] [B] [10] Break\n",
    "- ===================== time (start of the below content): 1045\n",
    "- [ ] [C] [45] Numpy\n",
    "    - What is Numpy? and Why?\n",
    "    - Creating Numpy arrays from lists\n",
    "    - 2D arrays and lists + indexing\n",
    "    - Generating Numpy arrays\n",
    "    - Saving and importing Numpy arrays\n",
    "    - Data Inspection\n",
    "    - Manipulating Numpy array\n",
    "- [ ] [E] [30] Exercise #2\n",
    "- [ ] [E] [15] Exercise Review \n",
    "- [ ] [L] [60] Lunch\n",
    "- ===================== time (start of the below content): 1315\n",
    "- [ ] [C] [20] Numpy (cont.)\n",
    "    - Masking\n",
    "    - Combining and Splitting\n",
    "- [ ] [E] [20] Exercise #3\n",
    "- [ ] [E] [10] Exercise Review\n",
    "- [ ] [C] [40] Matplotlib\n",
    "    - Different types of figures\n",
    "    - Customizing figures\n",
    "- [ ] [B] [10] Break\n",
    "- ===================== time (start of the below content): 1430\n",
    "- [ ] [E] [20] Exercise #4\n",
    "- [ ] [E] [10] Exercise Review\n",
    "- [ ] [C] [30] Matplotlib (cont.)\n",
    "    - Subplots\n",
    "    - Saving figures\n",
    "    - Animation (maybe)\n",
    "- [ ] [E] [30] Exercise #5\n",
    "- [ ] [E] [20] Exercise Review\n",
    "- [ ] [B] [10] Break\n",
    "- ===================== time (start of the below content): 1630\n",
    "- [ ] [C] [30] Pandas\n",
    "    - What is Pandas? and Why? (labelled and inhomogenous data)\n",
    "    - Pandas Series and DataFrames\n",
    "    - Read from external files (and URLs)\n",
    "    - Save DataFrames\n",
    "    - Data Inspection\n",
    "    - How to get Numpy array from Pandas DataFrame\n",
    "- [ ] [E] [20] Exercise #6\n",
    "- [ ] [E] [10] Exercise Review\n",
    "- [ ] [S] [15] Summary, and plan for the next day\n",
    "- ===================== End of the day: 1745"
   ]
  },
  {
   "cell_type": "code",
   "execution_count": null,
   "metadata": {},
   "outputs": [],
   "source": []
  }
 ],
 "metadata": {
  "kernelspec": {
   "display_name": "Python 3",
   "language": "python",
   "name": "python3"
  },
  "language_info": {
   "codemirror_mode": {
    "name": "ipython",
    "version": 3
   },
   "file_extension": ".py",
   "mimetype": "text/x-python",
   "name": "python",
   "nbconvert_exporter": "python",
   "pygments_lexer": "ipython3",
   "version": "3.6.8"
  }
 },
 "nbformat": 4,
 "nbformat_minor": 2
}
