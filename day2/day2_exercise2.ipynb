{
 "cells": [
  {
   "cell_type": "markdown",
   "metadata": {},
   "source": [
    "# Exercise 2.2\n",
    "\n",
    "## Functions\n",
    "A function is a block of organized, reusable code that is used to perform a single, related action. Functions provide better modularity for your application and a high degree of code reusing. As you already know, Python gives you many built-in functions like `print()`, `len()`, etc. but you can also create your own functions. These functions are called **user-defined** functions.\n",
    "\n",
    "Here is how to define a function:\n",
    "\n",
    "Function block begins with the keyword `def` followed by the function name and parentheses, `( )`. Any input parameters or arguments should be placed within these parentheses. The code block within every function starts with a colon, `:`, and is indented. The statement `return [expression]` exits a function, optionally passing back a new (transformed) object.\n",
    "\n",
    "Here is an example of a function that get a value, increases it by 2, and returns the value.\n",
    "``` python\n",
    ">>> def add_two(val):\n",
    ">>>     new_val = val + 2\n",
    ">>>     return new_val\n",
    "```"
   ]
  },
  {
   "cell_type": "markdown",
   "metadata": {},
   "source": [
    "1) Define function that gets a single value as the input and returns a squared version of it. Name the function `square_it`."
   ]
  },
  {
   "cell_type": "code",
   "execution_count": null,
   "metadata": {},
   "outputs": [],
   "source": []
  },
  {
   "cell_type": "markdown",
   "metadata": {},
   "source": [
    "2) Define a function that accepts two values, and returns the sum of them. Name the function `add_them`."
   ]
  },
  {
   "cell_type": "code",
   "execution_count": null,
   "metadata": {},
   "outputs": [],
   "source": []
  },
  {
   "cell_type": "markdown",
   "metadata": {},
   "source": [
    "Python functions, in general, accept two types of inputs: **required** and **optional**. **Required** arguments are arguments that if they are not passed, the function won't work so an error will pop up asking for the missing input - the function defined above as example had a single requried argument. However, sometimes we might want to provide a default value for an input just in case if the user has no idea what value they should assign to this specific variable. This is called an **optional** argument. Providing such optional argument is also helpful in giving the user freedom to be able to make changes to the function, if necessary.\n",
    "\n",
    "Here is an example of a function the raise a given number to a given power. With one required argument (the value) and one optinal argument (the power).\n",
    "``` python\n",
    ">>> def exponent(val, power=2):\n",
    ">>>     new_val = val ** power\n",
    ">>>     return new_val\n",
    "```\n",
    "**Note**: Optional arguments are always placed after the required arguments when defining the function.\n",
    "\n",
    "3) Define a function that accepts two values each as a separate input arguments, one required and one optional. Set the default value of the second input to 1. The fucntion returns the result of the multiplication of the two inputs. Call the function `mult`."
   ]
  },
  {
   "cell_type": "code",
   "execution_count": null,
   "metadata": {},
   "outputs": [],
   "source": []
  },
  {
   "cell_type": "markdown",
   "metadata": {},
   "source": [
    "4) Define a function that gets a list and a value as inputs. And raise each element of the list to the power specified by the second input (set the default value of the second input to 2)."
   ]
  },
  {
   "cell_type": "code",
   "execution_count": null,
   "metadata": {},
   "outputs": [],
   "source": []
  },
  {
   "cell_type": "markdown",
   "metadata": {},
   "source": [
    "5) Define a function that gets two lists as inputs, and returns a new list which is the element-wise summation of the other two lists."
   ]
  },
  {
   "cell_type": "code",
   "execution_count": null,
   "metadata": {},
   "outputs": [],
   "source": []
  },
  {
   "cell_type": "markdown",
   "metadata": {},
   "source": [
    "6) Define a function that gets a list and returns the mean value of the list. Call the function `get_mean`."
   ]
  },
  {
   "cell_type": "code",
   "execution_count": null,
   "metadata": {},
   "outputs": [],
   "source": []
  },
  {
   "cell_type": "markdown",
   "metadata": {},
   "source": [
    "7) Define a function that gets a list, and subtracts the mean of the list from each element of the list and returns those values in a new list. "
   ]
  },
  {
   "cell_type": "code",
   "execution_count": null,
   "metadata": {},
   "outputs": [],
   "source": []
  },
  {
   "cell_type": "markdown",
   "metadata": {},
   "source": [
    "8) Define a function that returns the standard deviation of a given list."
   ]
  },
  {
   "cell_type": "code",
   "execution_count": null,
   "metadata": {},
   "outputs": [],
   "source": []
  },
  {
   "cell_type": "markdown",
   "metadata": {},
   "source": [
    "9) Define a function that standardizes a given list. Standardization is subtracting the mean and dividing by the standard deviation."
   ]
  },
  {
   "cell_type": "code",
   "execution_count": null,
   "metadata": {},
   "outputs": [],
   "source": []
  },
  {
   "cell_type": "markdown",
   "metadata": {},
   "source": [
    "10) Let's check and see if the function works fine.\n",
    "- the mean of the returned list should be 0, and\n",
    "- the standard deviation of the list should be 1"
   ]
  },
  {
   "cell_type": "code",
   "execution_count": null,
   "metadata": {},
   "outputs": [],
   "source": []
  }
 ],
 "metadata": {
  "kernelspec": {
   "display_name": "Python 3",
   "language": "python",
   "name": "python3"
  },
  "language_info": {
   "codemirror_mode": {
    "name": "ipython",
    "version": 3
   },
   "file_extension": ".py",
   "mimetype": "text/x-python",
   "name": "python",
   "nbconvert_exporter": "python",
   "pygments_lexer": "ipython3",
   "version": "3.7.1"
  }
 },
 "nbformat": 4,
 "nbformat_minor": 2
}
