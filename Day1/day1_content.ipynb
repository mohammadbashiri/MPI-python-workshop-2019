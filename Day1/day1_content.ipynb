{
 "cells": [
  {
   "cell_type": "markdown",
   "metadata": {},
   "source": [
    "# Python beginner workshop - Day1"
   ]
  },
  {
   "cell_type": "markdown",
   "metadata": {},
   "source": [
    "This notebook includes every action or content I am planning to do or present."
   ]
  },
  {
   "cell_type": "markdown",
   "metadata": {},
   "source": [
    "Here is what should be ready (pre-course preparation):\n",
    "- [ ] A Slack group for communication\n",
    "- [ ] Exercise Notebooks"
   ]
  },
  {
   "cell_type": "markdown",
   "metadata": {},
   "source": [
    "Here is what I want to cover in the whole first day.\n",
    "- [ ] [I] Introduction round\n",
    "- [ ] [I] Why are we here?\n",
    "- [ ] [I] Course structure\n",
    "- [ ] [I] How much are we willing to suffer?\n",
    "- [ ] [E] Python installation\n",
    "- [ ] [C] Navigation thorugh file system via shell application\n",
    "- [ ] [E] Create a `workshop` folder + subfolder(s) + README.txt file\n",
    "- [ ] [C] Python and IPython console in the shell\n",
    "- [ ] [C] Importing packages and using them\n",
    "- [ ] [C] Objects and namespaces \n",
    "- [ ] [E] Turtle\n",
    "- [ ] [C] Creating and running Python scripts\n",
    "- [ ] [E] Create Python scrip in `workshop > exercises > day1 >` called `exercise3.py` and use the math library to do .. (??) \n",
    "- [ ] [C] Jupyter Notebook and Jypyter Lab \n",
    "- [ ] [E] Create a Jupyter Notebook in `workshop > exercises > day1 >` called `exercise4.ipynb` and embed a python cheasheet in it!\n",
    "- [ ] [C] Python data structures: int, float, string, tuple, list, dictionaries + boolean\n",
    "- [ ] [C] eindexing and slicing\n",
    "- [ ] [C] arithemtic operations\n",
    "- [ ] [E] (??) \n",
    "- [ ] [C] Numpy \n",
    "- [ ] [C] Matplotlib\n",
    "- [ ] [C] Loops\n",
    "- [ ] [E] (??)\n",
    "- [ ] [C] Functions\n",
    "- [ ] [E] Long Exercise\n",
    "- [ ] [S] Review and summary "
   ]
  },
  {
   "cell_type": "markdown",
   "metadata": {},
   "source": [
    "## Introduction round\n",
    "- [ ] So let's start by getting to know each other, we'll go around and everyone introduces himself/herself by saying their names and their background.\n",
    "- [ ] Now, I would like you to fill up a quick survey, so we can know the level of the class in programming\n",
    "- [ ] Share the link with them (in Slack)\n",
    "- [ ] Display the results\n",
    "\n",
    "Here is the result"
   ]
  },
  {
   "cell_type": "code",
   "execution_count": 10,
   "metadata": {},
   "outputs": [],
   "source": [
    "import gspread\n",
    "from oauth2client.service_account import ServiceAccountCredentials\n",
    "import pandas as pd\n",
    "\n",
    "# use creds to create a client to interact with the Google Drive API\n",
    "scope = ['https://spreadsheets.google.com/feeds',\n",
    "         'https://www.googleapis.com/auth/drive']\n",
    "credentials = ServiceAccountCredentials.from_json_keyfile_name('../secrets/client_secret.json', scope)\n",
    "client = gspread.authorize(credentials)\n",
    "\n",
    "sheet = client.open(\"pre-course (Responses)\").sheet1\n",
    "\n",
    "# Extract and save the result in a pandas DataFrame\n",
    "df = pd.DataFrame(sheet.get_all_records())"
   ]
  },
  {
   "cell_type": "code",
   "execution_count": 11,
   "metadata": {},
   "outputs": [
    {
     "data": {
      "text/html": [
       "<div>\n",
       "<style scoped>\n",
       "    .dataframe tbody tr th:only-of-type {\n",
       "        vertical-align: middle;\n",
       "    }\n",
       "\n",
       "    .dataframe tbody tr th {\n",
       "        vertical-align: top;\n",
       "    }\n",
       "\n",
       "    .dataframe thead th {\n",
       "        text-align: right;\n",
       "    }\n",
       "</style>\n",
       "<table border=\"1\" class=\"dataframe\">\n",
       "  <thead>\n",
       "    <tr style=\"text-align: right;\">\n",
       "      <th></th>\n",
       "    </tr>\n",
       "  </thead>\n",
       "  <tbody>\n",
       "  </tbody>\n",
       "</table>\n",
       "</div>"
      ],
      "text/plain": [
       "Empty DataFrame\n",
       "Columns: []\n",
       "Index: []"
      ]
     },
     "execution_count": 11,
     "metadata": {},
     "output_type": "execute_result"
    }
   ],
   "source": [
    "df"
   ]
  },
  {
   "cell_type": "markdown",
   "metadata": {},
   "source": [
    "## Why are we here?\n",
    "\n",
    "Alright, before we dive into the content, and me talking about what this course has to offer to you in more detail, let us discuss about \"why are we here?\". Basically, I would like to know:\n",
    "- [ ] Why everyone here in this class wants to learn a programming language? and\n",
    "- [ ] How everyone is using or going to use Python?"
   ]
  },
  {
   "cell_type": "markdown",
   "metadata": {},
   "source": [
    "## Course Structure\n",
    "\n",
    "- [ ] **Day 1** (today) will be about basics of Python.\n",
    "- [ ] **Day 2** is about dealing with data as an abstract entity (regardless context) and visualizaton: Numpy and Matplotlib\n",
    "- [ ] **Day 3** is about dealing with data within a specific context (e.g., you have conditions/context and you want to do different things for different condition/context), as well as statistical visualization: Pandas and Seaborn\n",
    "- [ ] **Day 4** is about programming practices and we will be talking about how to improve our programming experience by doing some things in better ways"
   ]
  },
  {
   "cell_type": "markdown",
   "metadata": {},
   "source": [
    "## How much are we willing to suffer?\n",
    "\n",
    "I want everyone, regardless of their background or how much programming experience they have, know that it is completely OK not to know things, to make mistakes - to fail!\n",
    "\n",
    "It's OK to fail... What is not OK, is to be indifferent to failure\n",
    "\n",
    "Failure and Feedback are essential parts of any learning process, and programming is great for that.. because you get instant feedback (i.e., you write something wrong and you instantly get an error). That's awesome, we should love having errors, and have them as fast as possible, because what comes with that is learning.\n",
    "\n",
    "So let us all together leverage that aspect of programming, take advantage of these 4 days that we are gonna be spending together, learn as much as possible by trying things, asking each other, and helping each other."
   ]
  },
  {
   "cell_type": "markdown",
   "metadata": {},
   "source": [
    "## Python installation\n",
    "\n",
    "Who has already installed Python? - show hands\n",
    "\n",
    "For those who did not install Python yet:\n",
    "- who has a windows?\n",
    "- who has linux?\n",
    "- who has MacOS?\n",
    "\n",
    "Alright, here comes our first exercise: let us all help each other to install Python. It's probably best, if everyone help their peers with the same OS.\n",
    "\n",
    "Also, feel free to grab a coffee, take a break. We will start again at 09:30"
   ]
  },
  {
   "cell_type": "markdown",
   "metadata": {},
   "source": [
    "---\n",
    "---\n",
    "\n",
    "<center>\n",
    "    <font size=\"+2\">Time: 09:00</font>\n",
    "</center>\n",
    "\n",
    "---"
   ]
  },
  {
   "cell_type": "markdown",
   "metadata": {},
   "source": [
    "<center>\n",
    "    <img src=\"https://github.com/mohammadbashiri/MPI-python-workshop-2019/blob/master/images/breaktime.jpg?raw=true\" width=\"50%\" height=\"50%\"/>\n",
    "</center>"
   ]
  },
  {
   "cell_type": "markdown",
   "metadata": {},
   "source": [
    "---\n",
    "---\n",
    "\n",
    "<center>\n",
    "    <font size=\"+2\">Time: 09:30</font>\n",
    "</center>"
   ]
  },
  {
   "cell_type": "markdown",
   "metadata": {},
   "source": [
    "---\n",
    "## Shell application (CMD/Terminal)"
   ]
  },
  {
   "cell_type": "markdown",
   "metadata": {},
   "source": [
    "- [ ] Talk about the following denitions"
   ]
  },
  {
   "cell_type": "markdown",
   "metadata": {},
   "source": [
    "**Shell (Linux)**: Simply put, the shell is a program that takes commands from the keyboard and gives them to the operating system to perform. On most Linux systems a program called bash acts as the shell program.\n",
    "\n",
    "**CMD (windows)**: Command Prompt is a command line interpreter application used to execute entered commands. Most of those commands automate tasks via scripts and batch files (a file with the .BAT file extension), perform advanced administrative functions, and troubleshoot or solve certain kinds of Windows issues. <br>\n",
    "Command Prompt is officially called Windows Command Processor, but it is also sometimes referred to as the command shell or cmd prompt, or even by its filename, cmd.exe. Sometimes, incorrectly, it is referred to as \"the DOS prompt\" or as MS-DOS itself. Command Prompt is a Windows program that emulates many of the command line abilities available in MS-DOS, but it's not MS-DOS.\n"
   ]
  },
  {
   "cell_type": "markdown",
   "metadata": {},
   "source": [
    "## List of Commands"
   ]
  },
  {
   "cell_type": "markdown",
   "metadata": {},
   "source": [
    "<center>\n",
    "    <img src=\"https://github.com/mohammadbashiri/MPI-python-workshop-2019/blob/master/images/ShellCommands.jpg?raw=true\" />\n",
    "</center>"
   ]
  },
  {
   "cell_type": "markdown",
   "metadata": {},
   "source": [
    "- [ ] Show them an example (maybe exactly what you are asking below)\n",
    "- [ ] Now let's do the following exercise"
   ]
  },
  {
   "cell_type": "markdown",
   "metadata": {},
   "source": [
    "## Exercise\n",
    "1. Create directory called `Workshop`\n",
    "2. Create a file in it called `README.md`\n",
    "3. Create two more directories in `Workshop`, called `notebooks` and `scripts`\n",
    "\n",
    "the directory tree looks like this:\n",
    "```\n",
    "workshop/\n",
    "   |----- notebooks\n",
    "   |----- scripts\n",
    "   |----- README.md\n",
    "```\n",
    "\n",
    "---"
   ]
  },
  {
   "cell_type": "markdown",
   "metadata": {
    "slideshow": {
     "slide_type": "slide"
    }
   },
   "source": [
    "## Getting started with Python\n",
    "**Python** is a high-level and powerful object-oriented **programming language** designed to be used for writing software in the widest variety of application domains (a general-purpose language). It takes text that you’ve written (usually referred to as code), turns it into instructions for your computer, and runs those instructions.\n",
    "\n",
    "Practically, Python is just another program on your computer. The first thing to learn is how to use and interact with it. There are in fact many ways to do this; the first one to learn is to interact with python’s interpreter, using your operating system’s (OS) console. A **console** (or ‘terminal’, or ‘command prompt’) is a textual way to interact with your OS."
   ]
  },
  {
   "cell_type": "markdown",
   "metadata": {},
   "source": [
    "The python program that you have installed will by default act as something called an interpreter. An interpreter takes text commands and runs them as you enter them - very handy for trying things out. Just type `python` in your console, hit Enter, and you should enter Python’s Interpreter, which looks something like this:"
   ]
  },
  {
   "cell_type": "markdown",
   "metadata": {},
   "source": [
    "```\n",
    "Python 3.6.8 |Anaconda, Inc.| (default, Dec 30 2018, 01:22:34) \n",
    "[GCC 7.3.0] on linux\n",
    "Type \"help\", \"copyright\", \"credits\" or \"license\" for more information.\n",
    ">>> \n",
    "```"
   ]
  },
  {
   "cell_type": "markdown",
   "metadata": {},
   "source": [
    "You can now enter some code for python to run:\n",
    "\n",
    "```\n",
    ">>> print(\"Hello world\")\n",
    "```\n",
    "or\n",
    "```\n",
    ">>> (4 + 2) * 5\n",
    "```"
   ]
  },
  {
   "cell_type": "markdown",
   "metadata": {},
   "source": [
    "What are the output?"
   ]
  },
  {
   "cell_type": "markdown",
   "metadata": {},
   "source": [
    "You can **exit** the Python interpreter by typing `exit()` or `Ctrl + d`."
   ]
  },
  {
   "cell_type": "markdown",
   "metadata": {},
   "source": [
    "---"
   ]
  },
  {
   "cell_type": "markdown",
   "metadata": {},
   "source": [
    "## IPython"
   ]
  },
  {
   "cell_type": "markdown",
   "metadata": {},
   "source": [
    "IPython is an interactive shell for the Python programming language that offers enhanced introspection, additional shell syntax, tab completion and rich history.\n",
    "\n",
    "Similar to Python, you can enter **IPython** by simply typing `ipython` in your console and pressing enter. It also looks very similar to Python interpreter, but its **<font color=\"red\">c</font><font color=\"orange\">o</font><font color=\"green\">l</font><font color=\"cyan\">o</font><font color=\"blue\">r</font>ful**.\n",
    "\n",
    "```\n",
    "Python 3.6.8 |Anaconda, Inc.| (default, Dec 30 2018, 01:22:34) \n",
    "Type 'copyright', 'credits' or 'license' for more information\n",
    "IPython 7.2.0 -- An enhanced Interactive Python. Type '?' for help.\n",
    "\n",
    "In [1]:\n",
    "\n",
    "```"
   ]
  },
  {
   "cell_type": "markdown",
   "metadata": {},
   "source": [
    "You can **exit** the IPython console by typing `exit()` or `Ctrl + d`."
   ]
  },
  {
   "cell_type": "markdown",
   "metadata": {},
   "source": [
    "---"
   ]
  },
  {
   "cell_type": "markdown",
   "metadata": {},
   "source": [
    "## Import libraries"
   ]
  },
  {
   "cell_type": "markdown",
   "metadata": {},
   "source": [
    "- [ ] So.. now, let's learn our first function: the `print()` function. What does the print function do? it takes a text (aka String) as an input, and it prints it. The green color means, it is a default function provided by Python.\n",
    "- [ ] **Standard Library**: but what if we want more functions that is not inside Python? This is where Python libraries or packages come in. These are simply a collection of functions, sitting in a file (aka module). To be able to use the functions provided by a library, we need to import the library.. so let's try a Python library used for math functions: `math` library\n",
    "\n",
    "Let's try one of these standard libraries:\n",
    "```\n",
    "import math\n",
    "\n",
    "```\n",
    "\n",
    "Now, we just imported the library, and based on the definition, it should provide some functionality to us. How do we know what kind of functions it has? There are several ways to do that: My favorite way, and probably the fastest way is **tab completion**. Type `math.` and press TAB.\n",
    "\n",
    "Let's choose one of them (e.g., `math.degrees`). Can you tell me what does it do? **- give them time to discuss this**\n",
    "\n",
    "There is an easy way to actually figure out what it does: <br>\n",
    "Using the **question mark, ?**. Type the following and press ENTER.\n",
    "```\n",
    "math.degrees?\n",
    "```"
   ]
  },
  {
   "cell_type": "markdown",
   "metadata": {},
   "source": [
    "Note that it is not only about the functions it provides, libraries can also provide values.. for instance, in the context of the math library, one could expect to also see a `math.pi`.. do we? Yes!"
   ]
  },
  {
   "cell_type": "markdown",
   "metadata": {},
   "source": [
    "## Exercise\n",
    "\n",
    "Using the methods and attributes provided by the `math` module, checkout the following Machin-like formulae, and see what value they return.\n",
    "\n",
    "$tan^{-1}(\\frac{1}{2}) + tan^{-1}(\\frac{1}{3})$\n",
    "\n",
    "$4tan^{-1}(\\frac{1}{5}) - tan^{-1}(\\frac{1}{239})$\n",
    "\n",
    "are they equal to $\\frac{\\pi}{4}$ ?"
   ]
  },
  {
   "cell_type": "markdown",
   "metadata": {},
   "source": [
    "- [ ] **Third-party Library**: Now there are two different kinds of libraries: there are libraries that are shipped with Python. That is, as soons as you install Python, you have them and you can import them - these are called the Python Standard Library. But there are some other libraries that are not shipped with Python and we have to install them - these are called third-party packages. And there is a growing collection of several thousand of them, available from the [Python Package Index](https://pypi.org/).\n",
    "\n",
    "So.. how do we use these python packages? This basically requires two steps:\n",
    "1. install the packages\n",
    "2. as before, import the package\n",
    "\n",
    "Let's go try a packages:\n",
    "- [ ] let's open PyPI. Here we can see every Python packages that exist out there!\n",
    "- [ ] Let's search for something...\n",
    "- [ ] Now we have the name of the package we want to use.. let's install it\n",
    "- [ ] installing a Python package is as easy as typing `pip install <name of the package>`  \n",
    "- [ ] and now we can use the package as we did use `math` package\n",
    "\n",
    "## Exercise\n",
    "\n",
    "So, how about you guys try some packages of your own:\n",
    "- go to PyPI, search for some weird names\n",
    "- choose a library\n",
    "- install it\n",
    "- try it, and tell me what it does"
   ]
  },
  {
   "cell_type": "markdown",
   "metadata": {},
   "source": [
    "---\n",
    "## Python script"
   ]
  },
  {
   "cell_type": "markdown",
   "metadata": {},
   "source": [
    "When you have a lot of python code to run, you will want to save it into a file. Instead of typing commands in one-by-one, you can save your code to a file and pass the file name to the python program. It will execute that file’s code instead of launching its interactive interpreter. This is called a **Python script** - a python file which includes python code. Python files have the **.py** extention, and you can run them in your console using the following command:\n",
    "```\n",
    "python your_file.py\n",
    "```\n",
    "\n",
    "Here is a small demo:\n",
    "- [ ] Let me close and reopen the shell application\n",
    "- [ ] I naviagte to the directory where I want to create my python script\n",
    "- [ ] I am gonna name my Python script `script1.py`. Note that the extension for a Python script is `.py`\n",
    "- [ ] Now I am gonna open Atom, and then open my project directory, and then open the script I just created\n",
    "- [ ] Then I am just gonna define a variable, and print it\n",
    "- [ ] And now I can run the content of my script from the Shell application"
   ]
  },
  {
   "cell_type": "markdown",
   "metadata": {},
   "source": [
    "## Exercise\n",
    "Remember the workshop directory we created? <br>\n",
    "- let's enter the `scripts` directory and create a file called `script1.py`\n",
    "- open Atom (or sublime)\n",
    "- open workshop directory, and open the `script1.py` file\n",
    "- implement the previous exercise in the script:\n",
    "    - save the result of each equation in a variable (e.g., result1, result2, etc.)\n",
    "    - print the results. The printed command looks something like below:\n",
    "        ```\n",
    "        the result of the first equation is ....\n",
    "        the result of the seconf equation is ....\n",
    "        the result fo the third equation is ....\n",
    "```\n",
    "- run the file in the Shell application\n",
    "\n",
    "After this, the directorly looks like below:\n",
    "```\n",
    "workshop/\n",
    "   |----- notebooks\n",
    "   |----- scripts\n",
    "             |----- script1.py\n",
    "   |----- README.md\n",
    "```"
   ]
  },
  {
   "cell_type": "markdown",
   "metadata": {},
   "source": [
    "---\n",
    "---\n",
    "\n",
    "<center>\n",
    "    <font size=\"+2\">Time: 10:45</font>\n",
    "</center>\n",
    "\n",
    "---"
   ]
  },
  {
   "cell_type": "markdown",
   "metadata": {},
   "source": [
    "<center>\n",
    "    <img src=\"https://github.com/mohammadbashiri/MPI-python-workshop-2019/blob/master/images/breaktime.jpg?raw=true\" width=\"50%\" height=\"50%\"/>\n",
    "</center>"
   ]
  },
  {
   "cell_type": "markdown",
   "metadata": {},
   "source": [
    "---\n",
    "---\n",
    "\n",
    "<center>\n",
    "    <font size=\"+2\">Time: 11:00</font>\n",
    "</center>"
   ]
  },
  {
   "cell_type": "markdown",
   "metadata": {},
   "source": [
    "---\n",
    "\n",
    "## Namespaces and Objects\n",
    "\n",
    "Alright, so before we proceed I want to talk about two concepts: **Namespaces** and **Objects**.\n",
    "\n",
    "### Namespaces\n",
    "\n",
    "This is something I struggled with in the beginning days, but it turned out that it is embrassingly simple! <br>\n",
    "**Namespace** is a space where names are unique.\n",
    "\n",
    "For instance, let's think about a household: a family with bunch of people. In a family, usually the kids are named uniquely: \n",
    "- **Family 1**: Sara, <font color=\"red\">Daniel</font>, and Elisabeth\n",
    "- **Family 2**: Jonas, Ali, and <font color=\"red\">Daniel</font>\n",
    "\n",
    "What makes the two <font color=\"red\">Daniel</font>s unique? - the family name.. \n",
    "- space -> family, and \n",
    "- the name of the namespace -> family name\n",
    "\n",
    "But, in the context of porgamming, \n",
    "- what kind of space are we talking about? **Memory space**... \n",
    "- what do we do within this space? **define variables, functions, etc** with unique names\n",
    "\n",
    "Now,\n",
    "- [ ] first, let me show this to you in practice. I am gonna create a Python script called `script1.py`. This script occupies a certain amount of memory space, and within this space (i.e., the script) we can define variable and functions (since we did not talk about functions yet, we will sctick to variables for now, but the same thing is true for anything that we define within the script).\n",
    "- [ ] now, instead of running the script, what we can do is to use the variables we defined inside the script. For that we need to import the script, and then we can use the variables we defined inside this script\n",
    "- [ ] so I am gonna make a variable called `x` in the script, whih is euqal to 10\n",
    "- [ ] and then I am gonna make a variable x, within our Ipython console.. ideally these two should be different, and in fact they are due this attachment to the scrip name!\n",
    "- [ ] to show this maybe even better, let's make another script called `script2.py`, and define exactly same variables in it, with different values.\n",
    "- [ ] now we can import both `script1` and `script2` in our Ipython console, and we see that because we are taking advantage of the name assigned to these namespaces, we can have `x`s and `y`s with different values.\n",
    "- [ ] we can even go further, what happens if we place these scripts into different directories, so let's do that!\n",
    "\n",
    "\n",
    "And, finally what is the relation to all of this to **object**? Anything that occupies memory space is an **object**!\n",
    "- our scripts are object, within which we defined variables\n",
    "- our directories are objects, within which we created scripts\n",
    "- note that we are doing the same as we did with the libraries.. they are also objects\n",
    "- everything in Python is an object1!\n",
    "\n",
    "### Summary \n",
    "Objects are spaces of the memory, and within this space there variables and functions defined, specific to this object/space!"
   ]
  },
  {
   "cell_type": "markdown",
   "metadata": {},
   "source": [
    "---"
   ]
  },
  {
   "cell_type": "markdown",
   "metadata": {},
   "source": [
    "## Jupyter Notebook"
   ]
  },
  {
   "cell_type": "markdown",
   "metadata": {},
   "source": [
    "So far, we learnt how to write python code in the Python interpreter, IPython shell, as well as creating Python scripts which contain multiple lines of code. What other tools could be helpful to make programming even more convinient?\n",
    "- [x] tab completion\n",
    "- [ ] being able to write either one or multiple lines of code, and have a track of all that we have written\n",
    "- [ ] being able to write nice comments and text within our code\n",
    "- [ ] being able to add pictures, math equation in our code to facilitate better understanding of the code"
   ]
  },
  {
   "cell_type": "markdown",
   "metadata": {},
   "source": [
    "**Jupyter Notebook** provides these features for us. Jupyter notebook is an even more interactive python environment that runs in the browser: https://jupyter-notebook.readthedocs.io/en/stable/notebook.html"
   ]
  },
  {
   "cell_type": "code",
   "execution_count": 9,
   "metadata": {},
   "outputs": [
    {
     "data": {
      "text/html": [
       "<img src=\"http://jupyter.org/assets/jupyterpreview.png\" width=\"800\"/>"
      ],
      "text/plain": [
       "<IPython.core.display.Image object>"
      ]
     },
     "execution_count": 9,
     "metadata": {},
     "output_type": "execute_result"
    }
   ],
   "source": [
    "from IPython.display import Image\n",
    "Image(url='http://jupyter.org/assets/jupyterpreview.png', width=800)"
   ]
  },
  {
   "cell_type": "markdown",
   "metadata": {},
   "source": [
    "<br>\n",
    "Simply type `jupyter notebook` in your console."
   ]
  },
  {
   "cell_type": "markdown",
   "metadata": {},
   "source": [
    "---"
   ]
  },
  {
   "cell_type": "markdown",
   "metadata": {},
   "source": [
    "## Jupyter Lab"
   ]
  },
  {
   "cell_type": "markdown",
   "metadata": {},
   "source": [
    "Now we got console (terminal or cmd), text editor (Atom, Sublime, etc.), and Jupyter Notebook. What if we had all of these at the same place?\n",
    "\n",
    "**Jupyter Lab** combines all of the topics of today into one environment in the browser: command line, python console, jupyter notebook: https://jupyterlab.readthedocs.io/en/latest/"
   ]
  },
  {
   "cell_type": "code",
   "execution_count": 7,
   "metadata": {},
   "outputs": [
    {
     "data": {
      "text/html": [
       "<img src=\"https://jupyterlab.readthedocs.io/en/stable/_images/jupyterlab.png\" width=\"1000\"/>"
      ],
      "text/plain": [
       "<IPython.core.display.Image object>"
      ]
     },
     "execution_count": 7,
     "metadata": {},
     "output_type": "execute_result"
    }
   ],
   "source": [
    "from IPython.display import Image\n",
    "Image(url='https://jupyterlab.readthedocs.io/en/stable/_images/jupyterlab.png', width=1000)"
   ]
  },
  {
   "cell_type": "markdown",
   "metadata": {},
   "source": [
    "You can open it by typing `jupyter lab` in your console.\n",
    "\n",
    "So, let me show you how this works..\n",
    "- jupyterlab is also a Python library on its own\n",
    "- so we install it first `pip install jupyterlab`\n",
    "- and then I am gonna navigate to the `notebooks` directoy inside the `workshop` directory\n",
    "- and we can open jupyter lab by simply typing `jupyter lab`\n",
    "- a short tutorial on jupyter lab"
   ]
  },
  {
   "cell_type": "markdown",
   "metadata": {},
   "source": [
    "---"
   ]
  },
  {
   "cell_type": "markdown",
   "metadata": {},
   "source": [
    "## Before we go for lunch\n",
    "\n",
    "I would like to summarize what we did in the morning.. so..\n",
    "\n",
    "- [ ] let's navigate to our project direcotry, `workshop`, via the Shell application\n",
    "- [ ] let's all open jupyter lab\n",
    "- [ ] let's create a Jupyter Notebook\n",
    "- [ ] and Let's create a summary:\n",
    "    - make a title: Day 1, Morning Session: Summary\n",
    "    - press Shift+Enter\n",
    "    - Click keyboard key 'M' to make a cell markdown\n",
    "    - blah blah blah\n",
    "    \n",
    "And here is the summary:\n",
    "- **Shell application**: Is an application that enables us to run OS-level commands.\n",
    "- **Python and IPython console**: Is a console that let's us write Python code (it's create for quick tests).\n",
    "- **Python script**: Is essentially a text file that contains Python code, and has the extension of `.py` (It's great for prjects where we want to have a single file, just like a library, that provides us with functions to be used in our project). and we can run them in the shell application by typing `python script_name.py`.\n",
    "- **Jupyter Notebook**: Is also an application that let's us write Python code, with the advantage that we can divide our code into different cells and test them independently. It also provides a nice integration between code and text, which makes it very suitable for taking notes and writing reports.\n",
    "- **Jupyter Lab**: Is a user interface, were all of the above are integrated. It includes the Shell application, a text editor, as well as the Notebook.\n",
    "- **Standard and third-party libraries**: there are many libraries out there that provide extra utilities for Python. Some of these are shipped with the Python application (standard libraries) and some other need to be installed independently (third-party libraries). The third-party libraries can be installed using the command `pip install name_of_the_package`.\n",
    "- **Namespaces and Objects**: Namespaces are memory spaces within which names are unique (be it name of a variable or a function, or anything else). Anything that occupies memory space is in fact an object, and therefore has variables and functions attached to it"
   ]
  },
  {
   "cell_type": "markdown",
   "metadata": {},
   "source": [
    "---\n",
    "---\n",
    "\n",
    "<center>\n",
    "    <font size=\"+2\">Time: 12:00</font>\n",
    "</center>\n",
    "\n",
    "---"
   ]
  },
  {
   "cell_type": "markdown",
   "metadata": {},
   "source": [
    "<center>\n",
    "    <img src=\"https://github.com/mohammadbashiri/MPI-python-workshop-2019/blob/master/images/breaktime.jpg?raw=true\" width=\"50%\" height=\"50%\"/>\n",
    "</center>"
   ]
  },
  {
   "cell_type": "markdown",
   "metadata": {},
   "source": [
    "---\n",
    "---\n",
    "\n",
    "<center>\n",
    "    <font size=\"+2\">Time: 13:00</font>\n",
    "</center>"
   ]
  },
  {
   "cell_type": "code",
   "execution_count": null,
   "metadata": {},
   "outputs": [],
   "source": []
  }
 ],
 "metadata": {
  "kernelspec": {
   "display_name": "Python 3",
   "language": "python",
   "name": "python3"
  },
  "language_info": {
   "codemirror_mode": {
    "name": "ipython",
    "version": 3
   },
   "file_extension": ".py",
   "mimetype": "text/x-python",
   "name": "python",
   "nbconvert_exporter": "python",
   "pygments_lexer": "ipython3",
   "version": "3.6.8"
  }
 },
 "nbformat": 4,
 "nbformat_minor": 2
}
