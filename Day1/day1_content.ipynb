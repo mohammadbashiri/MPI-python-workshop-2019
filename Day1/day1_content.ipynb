{
 "cells": [
  {
   "cell_type": "markdown",
   "metadata": {},
   "source": [
    "# Python beginner workshop - Day1"
   ]
  },
  {
   "cell_type": "markdown",
   "metadata": {},
   "source": [
    "This notebook includes every action or content I am planning to do or present."
   ]
  },
  {
   "cell_type": "markdown",
   "metadata": {},
   "source": [
    "Here is what should be ready (pre-course preparation):\n",
    "- [ ] A Slack group for communication\n",
    "- [ ] Exercise Notebooks"
   ]
  },
  {
   "cell_type": "markdown",
   "metadata": {},
   "source": [
    "Here is what I want to cover in the whole first day.\n",
    "- [ ] [I] Introduction round\n",
    "- [ ] [I] Why are we here?\n",
    "- [ ] [I] Course structure\n",
    "- [ ] [I] How much are we willing to suffer?\n",
    "- [ ] [E] Python installation\n",
    "- [ ] [C] Navigation thorugh file system via shell application\n",
    "- [ ] [E] Create a `workshop` folder + subfolder(s) + README.txt file\n",
    "- [ ] [C] Python and IPython console in the shell\n",
    "- [ ] [C] Importing packages and using them\n",
    "- [ ] [C] Objects and namespaces \n",
    "- [ ] [E] Turtle\n",
    "- [ ] [C] Creating and running Python scripts\n",
    "- [ ] [E] Create Python scrip in `workshop > exercises > day1 >` called `exercise3.py` and use the math library to do .. (??) \n",
    "- [ ] [C] Jupyter Notebook and Jypyter Lab \n",
    "- [ ] [E] Create a Jupyter Notebook in `workshop > exercises > day1 >` called `exercise4.ipynb` and embed a python cheasheet in it!\n",
    "- [ ] [C] Python data structures: int, float, string, tuple, list, dictionaries + boolean\n",
    "- [ ] [C] eindexing and slicing\n",
    "- [ ] [C] arithemtic operations\n",
    "- [ ] [E] (??) \n",
    "- [ ] [C] Numpy \n",
    "- [ ] [C] Matplotlib\n",
    "- [ ] [C] Loops\n",
    "- [ ] [E] (??)\n",
    "- [ ] [C] Functions\n",
    "- [ ] [E] Long Exercise\n",
    "- [ ] [S] Review and summary "
   ]
  },
  {
   "cell_type": "markdown",
   "metadata": {},
   "source": [
    "## Introduction round\n",
    "- [ ] So let's start by getting to know each other, we'll go around and everyone introduces himself/herself by saying their names and their background.\n",
    "- [ ] Now, I would like you to fill up a quick survey, so we can know the level of the class in programming\n",
    "- [ ] Share the link with them (in Slack)\n",
    "- [ ] Display the results\n",
    "\n",
    "Here is the result"
   ]
  },
  {
   "cell_type": "code",
   "execution_count": 9,
   "metadata": {},
   "outputs": [],
   "source": [
    "import gspread\n",
    "from oauth2client.service_account import ServiceAccountCredentials\n",
    "import pandas as pd\n",
    "\n",
    "# use creds to create a client to interact with the Google Drive API\n",
    "scope = ['https://spreadsheets.google.com/feeds',\n",
    "         'https://www.googleapis.com/auth/drive']\n",
    "credentials = ServiceAccountCredentials.from_json_keyfile_name('../secrets/client_secret.json', scope)\n",
    "client = gspread.authorize(credentials)\n",
    "\n",
    "sheet = client.open(\"pre-course (Responses)\").sheet1\n",
    "\n",
    "# Extract and save the result in a pandas DataFrame\n",
    "df = pd.DataFrame(sheet.get_all_records())"
   ]
  },
  {
   "cell_type": "code",
   "execution_count": 10,
   "metadata": {},
   "outputs": [
    {
     "data": {
      "text/html": [
       "<div>\n",
       "<style scoped>\n",
       "    .dataframe tbody tr th:only-of-type {\n",
       "        vertical-align: middle;\n",
       "    }\n",
       "\n",
       "    .dataframe tbody tr th {\n",
       "        vertical-align: top;\n",
       "    }\n",
       "\n",
       "    .dataframe thead th {\n",
       "        text-align: right;\n",
       "    }\n",
       "</style>\n",
       "<table border=\"1\" class=\"dataframe\">\n",
       "  <thead>\n",
       "    <tr style=\"text-align: right;\">\n",
       "      <th></th>\n",
       "    </tr>\n",
       "  </thead>\n",
       "  <tbody>\n",
       "  </tbody>\n",
       "</table>\n",
       "</div>"
      ],
      "text/plain": [
       "Empty DataFrame\n",
       "Columns: []\n",
       "Index: []"
      ]
     },
     "execution_count": 10,
     "metadata": {},
     "output_type": "execute_result"
    }
   ],
   "source": [
    "df"
   ]
  },
  {
   "cell_type": "markdown",
   "metadata": {},
   "source": [
    "## Why are we here?\n",
    "\n",
    "Alright, before we dive into the content, and me talking about what this course has to offer to you in more detail, let us discuss about \"why are we here?\". Basically, I would like to know:\n",
    "- [ ] Why everyone here in this class want to learn a programming language? and\n",
    "- [ ] How everyone of use are using or going to use Python?"
   ]
  },
  {
   "cell_type": "markdown",
   "metadata": {},
   "source": [
    "## Course Structure\n",
    "\n",
    "- [ ] **Day 1** (today) will be about basics of Python.\n",
    "- [ ] **Day 2** is about dealing with data as an abstract definition (regardless context) and visualizaton: Numpy and Matplotlib\n",
    "- [ ] **Day 3** is about dealing with data within a specific context (e.g., you have conditions/context and you want to do different things for different condition/context), as well as statistical visualization: Pandas and Seaborn\n",
    "- [ ] **Day 4** is about programming practices and we will be talking about how to improve our programming experience by doing some things in better ways"
   ]
  },
  {
   "cell_type": "markdown",
   "metadata": {},
   "source": [
    "## How much are we willing to suffer?\n",
    "\n",
    "I want everyone, regardless of their background or how much programming experience they have, know that it is completely OK not to know things, to make mistakes - to fail!\n",
    "\n",
    "It's OK to fail... What is not OK, is to be indifferent to failure\n",
    "\n",
    "Failure and Feedback are essential parts of any learning process, and programming is great for that.. because you get instant feedback (i.e., you write something wrong and you instantly get an error). That's awesome, we should love having errors, and have them as fast as possible, because what comes with that is learning.\n",
    "\n",
    "So let us all together leverage that aspect of programming, take advantage of these 4 days that we are gonna be spending together, learn as much as possible by trying things, asking each other, and helping each other."
   ]
  },
  {
   "cell_type": "markdown",
   "metadata": {},
   "source": [
    "## Python installation\n",
    "\n",
    "Who has already installed Python? - show hands\n",
    "\n",
    "For those who did not install Python yet:\n",
    "- who has a windows?\n",
    "- who has linux?\n",
    "- who has MacOS?\n",
    "\n",
    "Alright, here comes our first exercise: let us all help each other to install Python. It's probably best, if everyone help their peers with the same OS.\n",
    "\n",
    "Also, feel free to grab a coffee, take a break. We will start again at 09:30"
   ]
  },
  {
   "cell_type": "markdown",
   "metadata": {},
   "source": [
    "---\n",
    "\n"
   ]
  },
  {
   "cell_type": "code",
   "execution_count": null,
   "metadata": {},
   "outputs": [],
   "source": []
  },
  {
   "cell_type": "code",
   "execution_count": null,
   "metadata": {},
   "outputs": [],
   "source": []
  }
 ],
 "metadata": {
  "kernelspec": {
   "display_name": "Python 3",
   "language": "python",
   "name": "python3"
  },
  "language_info": {
   "codemirror_mode": {
    "name": "ipython",
    "version": 3
   },
   "file_extension": ".py",
   "mimetype": "text/x-python",
   "name": "python",
   "nbconvert_exporter": "python",
   "pygments_lexer": "ipython3",
   "version": "3.6.8"
  }
 },
 "nbformat": 4,
 "nbformat_minor": 2
}
