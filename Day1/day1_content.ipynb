{
 "cells": [
  {
   "cell_type": "markdown",
   "metadata": {},
   "source": [
    "# Python beginner workshop - Day1"
   ]
  },
  {
   "cell_type": "markdown",
   "metadata": {},
   "source": [
    "This notebook includes every action or content I am planning to do or present."
   ]
  },
  {
   "cell_type": "markdown",
   "metadata": {},
   "source": [
    "Here is what should be ready (pre-course preparation):\n",
    "- [ ] A Slack group for communication\n",
    "- [ ] Exercise Notebooks"
   ]
  },
  {
   "cell_type": "markdown",
   "metadata": {},
   "source": [
    "Here is what I want to cover in the whole first day.\n",
    "- [ ] [I] Introduction round\n",
    "- [ ] [I] Why are we here?\n",
    "- [ ] [I] Course structure\n",
    "- [ ] [I] How much are we willing to suffer?\n",
    "- [ ] [E] Python installation\n",
    "- [ ] [C] Navigation thorugh file system via shell application\n",
    "- [ ] [E] Create a `workshop` folder + subfolder(s) + README.txt file\n",
    "- [ ] [C] Python and IPython console in the shell\n",
    "- [ ] [C] Importing packages and using them\n",
    "- [ ] [C] Objects and namespaces \n",
    "- [ ] [E] Turtle\n",
    "- [ ] [C] Creating and running Python scripts\n",
    "- [ ] [E] Create Python scrip in `workshop > exercises > day1 >` called `exercise3.py` and use the math library to do .. (??) \n",
    "- [ ] [C] Jupyter Notebook and Jypyter Lab \n",
    "- [ ] [E] Create a Jupyter Notebook in `workshop > exercises > day1 >` called `exercise4.ipynb` and embed a python cheasheet in it!\n",
    "- [ ] [C] Python data structures: int, float, string, tuple, list, dictionaries + boolean\n",
    "- [ ] [C] eindexing and slicing\n",
    "- [ ] [C] arithemtic operations\n",
    "- [ ] [E] (??) \n",
    "- [ ] [C] Numpy \n",
    "- [ ] [C] Matplotlib\n",
    "- [ ] [C] Loops\n",
    "- [ ] [E] (??)\n",
    "- [ ] [C] Functions\n",
    "- [ ] [E] Long Exercise\n",
    "- [ ] [S] Review and summary "
   ]
  },
  {
   "cell_type": "markdown",
   "metadata": {},
   "source": [
    "## Introduction round\n",
    "- [ ] So let's start by getting to know each other, we'll go around and everyone introduces himself/herself by saying their names and their background.\n",
    "- [ ] Now, I would like you to fill up a quick survey, so we can know the level of the class in programming\n",
    "- [ ] Share the link with them (in Slack)\n",
    "- [ ] Display the results\n",
    "\n",
    "Here is the result"
   ]
  },
  {
   "cell_type": "code",
   "execution_count": 9,
   "metadata": {},
   "outputs": [],
   "source": [
    "import gspread\n",
    "from oauth2client.service_account import ServiceAccountCredentials\n",
    "import pandas as pd\n",
    "\n",
    "# use creds to create a client to interact with the Google Drive API\n",
    "scope = ['https://spreadsheets.google.com/feeds',\n",
    "         'https://www.googleapis.com/auth/drive']\n",
    "credentials = ServiceAccountCredentials.from_json_keyfile_name('../secrets/client_secret.json', scope)\n",
    "client = gspread.authorize(credentials)\n",
    "\n",
    "sheet = client.open(\"pre-course (Responses)\").sheet1\n",
    "\n",
    "# Extract and save the result in a pandas DataFrame\n",
    "df = pd.DataFrame(sheet.get_all_records())"
   ]
  },
  {
   "cell_type": "code",
   "execution_count": 10,
   "metadata": {},
   "outputs": [
    {
     "data": {
      "text/html": [
       "<div>\n",
       "<style scoped>\n",
       "    .dataframe tbody tr th:only-of-type {\n",
       "        vertical-align: middle;\n",
       "    }\n",
       "\n",
       "    .dataframe tbody tr th {\n",
       "        vertical-align: top;\n",
       "    }\n",
       "\n",
       "    .dataframe thead th {\n",
       "        text-align: right;\n",
       "    }\n",
       "</style>\n",
       "<table border=\"1\" class=\"dataframe\">\n",
       "  <thead>\n",
       "    <tr style=\"text-align: right;\">\n",
       "      <th></th>\n",
       "    </tr>\n",
       "  </thead>\n",
       "  <tbody>\n",
       "  </tbody>\n",
       "</table>\n",
       "</div>"
      ],
      "text/plain": [
       "Empty DataFrame\n",
       "Columns: []\n",
       "Index: []"
      ]
     },
     "execution_count": 10,
     "metadata": {},
     "output_type": "execute_result"
    }
   ],
   "source": [
    "df"
   ]
  },
  {
   "cell_type": "markdown",
   "metadata": {},
   "source": [
    "## Why are we here?\n",
    "\n",
    "Alright, before we dive into the content, and me talking about what this course has to offer to you in more detail, let us discuss about \"why are we here?\". Basically, I would like to know:\n",
    "- [ ] Why everyone here in this class wants to learn a programming language? and\n",
    "- [ ] How everyone is using or going to use Python?"
   ]
  },
  {
   "cell_type": "markdown",
   "metadata": {},
   "source": [
    "## Course Structure\n",
    "\n",
    "- [ ] **Day 1** (today) will be about basics of Python.\n",
    "- [ ] **Day 2** is about dealing with data as an abstract definition (regardless context) and visualizaton: Numpy and Matplotlib\n",
    "- [ ] **Day 3** is about dealing with data within a specific context (e.g., you have conditions/context and you want to do different things for different condition/context), as well as statistical visualization: Pandas and Seaborn\n",
    "- [ ] **Day 4** is about programming practices and we will be talking about how to improve our programming experience by doing some things in better ways"
   ]
  },
  {
   "cell_type": "markdown",
   "metadata": {},
   "source": [
    "## How much are we willing to suffer?\n",
    "\n",
    "I want everyone, regardless of their background or how much programming experience they have, know that it is completely OK not to know things, to make mistakes - to fail!\n",
    "\n",
    "It's OK to fail... What is not OK, is to be indifferent to failure\n",
    "\n",
    "Failure and Feedback are essential parts of any learning process, and programming is great for that.. because you get instant feedback (i.e., you write something wrong and you instantly get an error). That's awesome, we should love having errors, and have them as fast as possible, because what comes with that is learning.\n",
    "\n",
    "So let us all together leverage that aspect of programming, take advantage of these 4 days that we are gonna be spending together, learn as much as possible by trying things, asking each other, and helping each other."
   ]
  },
  {
   "cell_type": "markdown",
   "metadata": {},
   "source": [
    "## Python installation\n",
    "\n",
    "Who has already installed Python? - show hands\n",
    "\n",
    "For those who did not install Python yet:\n",
    "- who has a windows?\n",
    "- who has linux?\n",
    "- who has MacOS?\n",
    "\n",
    "Alright, here comes our first exercise: let us all help each other to install Python. It's probably best, if everyone help their peers with the same OS.\n",
    "\n",
    "Also, feel free to grab a coffee, take a break. We will start again at 09:30"
   ]
  },
  {
   "cell_type": "markdown",
   "metadata": {},
   "source": [
    "---\n",
    "<center>\n",
    "    <img src=\"https://github.com/mohammadbashiri/MPI-python-workshop-2019/blob/master/images/breaktime.jpg?raw=true\" width=\"50%\" height=\"50%\"/>\n",
    "</center>\n",
    "\n",
    "---"
   ]
  },
  {
   "cell_type": "markdown",
   "metadata": {},
   "source": [
    "## Shell application (CMD/Terminal)"
   ]
  },
  {
   "cell_type": "markdown",
   "metadata": {},
   "source": [
    "- [ ] Talk about the following denitions"
   ]
  },
  {
   "cell_type": "markdown",
   "metadata": {},
   "source": [
    "**Shell (Linux)**: Simply put, the shell is a program that takes commands from the keyboard and gives them to the operating system to perform. On most Linux systems a program called bash acts as the shell program.\n",
    "\n",
    "**CMD (windows)**: Command Prompt is a command line interpreter application used to execute entered commands. Most of those commands automate tasks via scripts and batch files (a file with the .BAT file extension), perform advanced administrative functions, and troubleshoot or solve certain kinds of Windows issues. <br>\n",
    "Command Prompt is officially called Windows Command Processor, but it is also sometimes referred to as the command shell or cmd prompt, or even by its filename, cmd.exe. Sometimes, incorrectly, it is referred to as \"the DOS prompt\" or as MS-DOS itself. Command Prompt is a Windows program that emulates many of the command line abilities available in MS-DOS, but it's not MS-DOS.\n"
   ]
  },
  {
   "cell_type": "markdown",
   "metadata": {},
   "source": [
    "## List of Commands"
   ]
  },
  {
   "cell_type": "markdown",
   "metadata": {},
   "source": [
    "<center>\n",
    "    <img src=\"https://github.com/mohammadbashiri/MPI-python-workshop-2019/blob/master/images/ShellCommands.jpg?raw=true\" />\n",
    "</center>"
   ]
  },
  {
   "cell_type": "markdown",
   "metadata": {},
   "source": [
    "- [ ] Show them an example (maybe exactly what you are asking below)\n",
    "- [ ] Now let's do the following exercise"
   ]
  },
  {
   "cell_type": "markdown",
   "metadata": {},
   "source": [
    "1. Create directory called `Workshop`\n",
    "2. Create a file in it called `README.md`\n",
    "3. Create two more directories in `Workshop`, called `notebooks` and `scripts`\n",
    "\n",
    "the directory tree looks like this:\n",
    "```\n",
    "Workshop/\n",
    " |----- notebooks\n",
    " |----- scripts\n",
    " |----- README.md\n",
    "```\n",
    "\n",
    "---"
   ]
  },
  {
   "cell_type": "markdown",
   "metadata": {
    "slideshow": {
     "slide_type": "slide"
    }
   },
   "source": [
    "## Getting started with Python\n",
    "**Python** is a high-level and powerful object-oriented **programming language** designed to be used for writing software in the widest variety of application domains (a general-purpose language). It takes text that you’ve written (usually referred to as code), turns it into instructions for your computer, and runs those instructions.\n",
    "\n",
    "Practically, Python is just another program on your computer. The first thing to learn is how to use and interact with it. There are in fact many ways to do this; the first one to learn is to interact with python’s interpreter, using your operating system’s (OS) console. A **console** (or ‘terminal’, or ‘command prompt’) is a textual way to interact with your OS."
   ]
  },
  {
   "cell_type": "markdown",
   "metadata": {},
   "source": [
    "The python program that you have installed will by default act as something called an interpreter. An interpreter takes text commands and runs them as you enter them - very handy for trying things out. Just type `python` in your console, hit Enter, and you should enter Python’s Interpreter, which looks something like this:"
   ]
  },
  {
   "cell_type": "markdown",
   "metadata": {},
   "source": [
    "```\n",
    "Python 3.6.8 |Anaconda, Inc.| (default, Dec 30 2018, 01:22:34) \n",
    "[GCC 7.3.0] on linux\n",
    "Type \"help\", \"copyright\", \"credits\" or \"license\" for more information.\n",
    ">>> \n",
    "```"
   ]
  },
  {
   "cell_type": "markdown",
   "metadata": {},
   "source": [
    "You can now enter some code for python to run:\n",
    "\n",
    "```\n",
    ">>> print(\"Hello world\")\n",
    "```\n",
    "or\n",
    "```\n",
    ">>> (4 + 2) * 5\n",
    "```"
   ]
  },
  {
   "cell_type": "markdown",
   "metadata": {},
   "source": [
    "What are the output?"
   ]
  },
  {
   "cell_type": "markdown",
   "metadata": {},
   "source": [
    "You can **exit** the Python interpreter by typing `exit()` or `Ctrl + d`."
   ]
  },
  {
   "cell_type": "markdown",
   "metadata": {},
   "source": [
    "---"
   ]
  },
  {
   "cell_type": "markdown",
   "metadata": {},
   "source": [
    "## IPython"
   ]
  },
  {
   "cell_type": "markdown",
   "metadata": {},
   "source": [
    "IPython is an interactive shell for the Python programming language that offers enhanced introspection, additional shell syntax, tab completion and rich history.\n",
    "\n",
    "Similar to Python, you can enter **IPython** by simply typing `ipython` in your console and pressing enter. It also looks very similar to Python interpreter, but its **<font color=\"red\">c</font><font color=\"orange\">o</font><font color=\"green\">l</font><font color=\"cyan\">o</font><font color=\"blue\">r</font>ful**.\n",
    "\n",
    "```\n",
    "Python 3.6.8 |Anaconda, Inc.| (default, Dec 30 2018, 01:22:34) \n",
    "Type 'copyright', 'credits' or 'license' for more information\n",
    "IPython 7.2.0 -- An enhanced Interactive Python. Type '?' for help.\n",
    "\n",
    "In [1]:\n",
    "\n",
    "```"
   ]
  },
  {
   "cell_type": "markdown",
   "metadata": {},
   "source": [
    "You can **exit** the IPython console by typing `exit()` or `Ctrl + d`."
   ]
  },
  {
   "cell_type": "markdown",
   "metadata": {},
   "source": [
    "---"
   ]
  },
  {
   "cell_type": "markdown",
   "metadata": {},
   "source": [
    "## Import libraries"
   ]
  },
  {
   "cell_type": "markdown",
   "metadata": {},
   "source": [
    "**What is a Python Library?** It is a collection of **modules**. <br>\n",
    "**What is a Module?**: A module is set of lines of code which are used for a specific purpose.\n",
    "\n",
    "In general, there are some libraries that are readily available to you, once you install Python. However, in addition to the standard library, there is a growing collection of several thousand other libraries, available from the [Python Package Index](https://pypi.org/).\n",
    "\n",
    "Let's try one of these libraries:\n",
    "```\n",
    "import math\n",
    "\n",
    "```"
   ]
  },
  {
   "cell_type": "markdown",
   "metadata": {},
   "source": [
    "Now, we just imported the library, and based on the definition, it should provide some functionality to us. How to quickly explore what functions does it provide? - **tab completion**. Type `math.` and press TAB."
   ]
  },
  {
   "cell_type": "markdown",
   "metadata": {},
   "source": [
    "Let's choose one of them (e.g., `math.degrees`). Now, how do we know how to use it? - **question mark, ?**. Type the following and press ENTER.\n",
    "```\n",
    "math.degrees?\n",
    "```"
   ]
  },
  {
   "cell_type": "markdown",
   "metadata": {},
   "source": [
    "---"
   ]
  },
  {
   "cell_type": "markdown",
   "metadata": {},
   "source": [
    "### Exercise"
   ]
  },
  {
   "cell_type": "markdown",
   "metadata": {},
   "source": [
    "Just above we demonstrated entering a command to figure out some math. Try some math commands of your own! What operations does python know? Get it to tell you what when 239 and 588 are added together, and then squared? <br>\n",
    "Please do this both in Python as well as in IPython console."
   ]
  },
  {
   "cell_type": "code",
   "execution_count": null,
   "metadata": {},
   "outputs": [],
   "source": []
  },
  {
   "cell_type": "code",
   "execution_count": null,
   "metadata": {},
   "outputs": [],
   "source": []
  },
  {
   "cell_type": "markdown",
   "metadata": {},
   "source": [
    "## Jupyter Notebook"
   ]
  },
  {
   "cell_type": "markdown",
   "metadata": {},
   "source": [
    "So far, we learnt how to write python code in the Python interpreter, IPython shell, as well as creating Python scripts which contain multiple lines of code. What other tools could be helpful to make programming even more convinient?\n",
    "- [x] tab completion\n",
    "- [ ] being able to write either one or multiple lines of code, and have a track of all that we have written\n",
    "- [ ] being able to write nice comments and text within our code\n",
    "- [ ] being able to add pictures, math equation in our code to facilitate better understanding of the code"
   ]
  },
  {
   "cell_type": "markdown",
   "metadata": {},
   "source": [
    "**Jupyter Notebook** provides these features for us. Jupyter notebook is an even more interactive python environment that runs in the browser: https://jupyter-notebook.readthedocs.io/en/stable/notebook.html"
   ]
  },
  {
   "cell_type": "code",
   "execution_count": 2,
   "metadata": {},
   "outputs": [
    {
     "data": {
      "text/html": [
       "<img src=\"http://jupyter.org/assets/jupyterpreview.png\" width=\"800\"/>"
      ],
      "text/plain": [
       "<IPython.core.display.Image object>"
      ]
     },
     "execution_count": 2,
     "metadata": {},
     "output_type": "execute_result"
    }
   ],
   "source": [
    "from IPython.display import Image\n",
    "Image(url='http://jupyter.org/assets/jupyterpreview.png', width=800)"
   ]
  },
  {
   "cell_type": "markdown",
   "metadata": {},
   "source": [
    "<br>\n",
    "Simply type `jupyter notebook` in your console."
   ]
  },
  {
   "cell_type": "markdown",
   "metadata": {},
   "source": [
    "---"
   ]
  },
  {
   "cell_type": "code",
   "execution_count": null,
   "metadata": {},
   "outputs": [],
   "source": []
  }
 ],
 "metadata": {
  "kernelspec": {
   "display_name": "Python 3",
   "language": "python",
   "name": "python3"
  },
  "language_info": {
   "codemirror_mode": {
    "name": "ipython",
    "version": 3
   },
   "file_extension": ".py",
   "mimetype": "text/x-python",
   "name": "python",
   "nbconvert_exporter": "python",
   "pygments_lexer": "ipython3",
   "version": "3.6.8"
  }
 },
 "nbformat": 4,
 "nbformat_minor": 2
}
