{
 "cells": [
  {
   "cell_type": "markdown",
   "metadata": {},
   "source": [
    "# Python Beginners Workshop - Day 1\n",
    "\n",
    "## Session 3: Python basics (Cont.)\n",
    "\n",
    "In this session, we will cover the following topics:\n",
    "- Intro to dictionaries\n",
    "- Indexing and Slicing of lists, tuples\n",
    "- Why choose a specific datatype?\n",
    "- Loops\n",
    "- List Comprehension"
   ]
  },
  {
   "cell_type": "markdown",
   "metadata": {},
   "source": [
    "---"
   ]
  },
  {
   "cell_type": "markdown",
   "metadata": {
    "slideshow": {
     "slide_type": "slide"
    }
   },
   "source": [
    "## Indexing\n",
    "\n",
    "Now we know some of the datatypes (e.g., **list** and **tuple**) that represent a collection of other objects. When you have a collection of something, you often will want to select a specific object from the collection.  If you know where the object is located in the collection (it's **index**, or **key**), you only need to give that index and you'll get your object!  In Python, you index a collection using the **square brackets: [ ]**\n",
    "\n",
    "**Note:** Python is a **Zero-Indexed** language, so the first **Element** of a collection has an index value of 0."
   ]
  },
  {
   "cell_type": "markdown",
   "metadata": {
    "slideshow": {
     "slide_type": "subslide"
    }
   },
   "source": [
    "### Indexing Ordered Collections: List and Tuple"
   ]
  },
  {
   "cell_type": "code",
   "execution_count": 15,
   "metadata": {
    "slideshow": {
     "slide_type": "fragment"
    }
   },
   "outputs": [
    {
     "data": {
      "text/plain": [
       "'A1'"
      ]
     },
     "execution_count": 15,
     "metadata": {},
     "output_type": "execute_result"
    }
   ],
   "source": [
    "subjects = ['A1', 'A2', 'B2', 'B3']\n",
    "subjects[0]"
   ]
  },
  {
   "cell_type": "code",
   "execution_count": 16,
   "metadata": {
    "slideshow": {
     "slide_type": "fragment"
    }
   },
   "outputs": [
    {
     "data": {
      "text/plain": [
       "'B3'"
      ]
     },
     "execution_count": 16,
     "metadata": {},
     "output_type": "execute_result"
    }
   ],
   "source": [
    "subjects[-1]"
   ]
  },
  {
   "cell_type": "markdown",
   "metadata": {
    "slideshow": {
     "slide_type": "subslide"
    }
   },
   "source": [
    "### Indexing Unordered Collections: Dict\n",
    "Unordered collections are indexed using the same **syntax**, but by inserting the **key** instead."
   ]
  },
  {
   "cell_type": "code",
   "execution_count": 23,
   "metadata": {
    "slideshow": {
     "slide_type": "fragment"
    }
   },
   "outputs": [],
   "source": [
    "info = {'first_name': \"Mohammad\",\n",
    "        'last_name': \"Bashiri\", \n",
    "        'age': 25}"
   ]
  },
  {
   "cell_type": "code",
   "execution_count": 24,
   "metadata": {},
   "outputs": [
    {
     "data": {
      "text/plain": [
       "'Mohammad'"
      ]
     },
     "execution_count": 24,
     "metadata": {},
     "output_type": "execute_result"
    }
   ],
   "source": [
    "info['first_name']"
   ]
  },
  {
   "cell_type": "markdown",
   "metadata": {},
   "source": [
    "Note that here our \"index\" is `'first_name'`. There is a dedicated name for such indices, called a **key**. Hence, `'first_name'`, `'last_name'`, and `'age'` are the `keys` of our dictionary. We can get a list of the keys as follow:"
   ]
  },
  {
   "cell_type": "code",
   "execution_count": 26,
   "metadata": {},
   "outputs": [
    {
     "data": {
      "text/plain": [
       "dict_keys(['first_name', 'last_name', 'age'])"
      ]
     },
     "execution_count": 26,
     "metadata": {},
     "output_type": "execute_result"
    }
   ],
   "source": [
    "info.keys()"
   ]
  },
  {
   "cell_type": "markdown",
   "metadata": {},
   "source": [
    "And the corresponding value, for each **key** is called a **value**. We can get a list of the values as follow:"
   ]
  },
  {
   "cell_type": "code",
   "execution_count": 27,
   "metadata": {},
   "outputs": [
    {
     "data": {
      "text/plain": [
       "dict_values(['Mohammad', 'Bashiri', 25])"
      ]
     },
     "execution_count": 27,
     "metadata": {},
     "output_type": "execute_result"
    }
   ],
   "source": [
    "info.values()"
   ]
  },
  {
   "cell_type": "markdown",
   "metadata": {},
   "source": [
    "We can also get a list of **combined** keys and **values**"
   ]
  },
  {
   "cell_type": "code",
   "execution_count": 28,
   "metadata": {},
   "outputs": [
    {
     "data": {
      "text/plain": [
       "dict_items([('first_name', 'Mohammad'), ('last_name', 'Bashiri'), ('age', 25)])"
      ]
     },
     "execution_count": 28,
     "metadata": {},
     "output_type": "execute_result"
    }
   ],
   "source": [
    "conditions.items()"
   ]
  },
  {
   "cell_type": "markdown",
   "metadata": {
    "slideshow": {
     "slide_type": "subslide"
    }
   },
   "source": [
    "## Slicing\n",
    "\n",
    "You can get a continuous subset of a collection by doing **Slicing**.  This is done using the **Colon :**\n",
    "\n",
    "**Note:** Python uses a **Half-Open** Slicing Convention, which means that the final index given is ignored, but the first value is used. This is very useful in concerning **Fenceposting Problems**, but can take a little while to get used to."
   ]
  },
  {
   "cell_type": "code",
   "execution_count": null,
   "metadata": {},
   "outputs": [],
   "source": [
    "subjects = ('A1', 'B2', 'C3', 'D4', 'E5', 'F6', 'G7')\n",
    "subjects[1:-2]"
   ]
  },
  {
   "cell_type": "code",
   "execution_count": null,
   "metadata": {},
   "outputs": [],
   "source": [
    "subjects[::2]"
   ]
  },
  {
   "cell_type": "code",
   "execution_count": null,
   "metadata": {
    "slideshow": {
     "slide_type": "skip"
    }
   },
   "outputs": [],
   "source": [
    "subjects[:4]"
   ]
  },
  {
   "cell_type": "code",
   "execution_count": null,
   "metadata": {
    "slideshow": {
     "slide_type": "skip"
    }
   },
   "outputs": [],
   "source": [
    "subjects[1:-1]"
   ]
  },
  {
   "cell_type": "markdown",
   "metadata": {
    "slideshow": {
     "slide_type": "skip"
    }
   },
   "source": [
    "You can also skip values using a second colon:"
   ]
  },
  {
   "cell_type": "code",
   "execution_count": null,
   "metadata": {
    "slideshow": {
     "slide_type": "skip"
    }
   },
   "outputs": [],
   "source": [
    "subjects[0:-1:3]"
   ]
  },
  {
   "cell_type": "markdown",
   "metadata": {
    "slideshow": {
     "slide_type": "subslide"
    }
   },
   "source": [
    "## Indexed Assignment\n",
    "\n",
    "With Mutable objects, you can modify an element of a collection in-place via indexing and slicing!"
   ]
  },
  {
   "cell_type": "code",
   "execution_count": null,
   "metadata": {
    "slideshow": {
     "slide_type": "fragment"
    }
   },
   "outputs": [],
   "source": [
    "subjects = ['A1', 'B2', 'C3', 'D4', 'E5', 'F6', 'G7']\n",
    "print(subjects)\n",
    "subjects[3] = 'New Subject'\n",
    "print(subjects)"
   ]
  },
  {
   "cell_type": "code",
   "execution_count": null,
   "metadata": {},
   "outputs": [],
   "source": [
    "subjects[0:2] = ['a', 'b', 'c']"
   ]
  },
  {
   "cell_type": "code",
   "execution_count": null,
   "metadata": {},
   "outputs": [],
   "source": [
    "subjects"
   ]
  },
  {
   "cell_type": "code",
   "execution_count": null,
   "metadata": {},
   "outputs": [],
   "source": [
    "a = [1, 2, 3]\n",
    "b = (1, 2, 3)"
   ]
  },
  {
   "cell_type": "markdown",
   "metadata": {
    "slideshow": {
     "slide_type": "subslide"
    }
   },
   "source": [
    "## Mutable vs Immutable\n",
    "  - **Immutable** types cannot be modified.  Even if just their value would be changing, the entire variable is created completely new, with a new memory address.  \n",
    "     - Important Immutable classes: str, int, float, tuple\n",
    "  - **Mutable** types can be modified.  When their value is changed, they retain their identity.  \n",
    "     - Important mutable classes: list, dict"
   ]
  },
  {
   "cell_type": "markdown",
   "metadata": {},
   "source": [
    "### Exercise\n",
    "Is String mutable or immutable?"
   ]
  },
  {
   "cell_type": "markdown",
   "metadata": {},
   "source": [
    "---"
   ]
  },
  {
   "cell_type": "markdown",
   "metadata": {
    "slideshow": {
     "slide_type": "subslide"
    }
   },
   "source": [
    "## Aside: Things to Consider When Choosing a Proper Data Collection Type\n",
    "  - Do these pieces of data belong together?\n",
    "  - Is the size of my collection conceivably variable?\n",
    "  - How independent are these values, in terms of what they represent?\n",
    "    - Essentially: Is it important for my collection to be mutable?\n",
    "  - What technical requirements do I have for working with this data?"
   ]
  },
  {
   "cell_type": "code",
   "execution_count": 1,
   "metadata": {
    "slideshow": {
     "slide_type": "fragment"
    }
   },
   "outputs": [
    {
     "data": {
      "text/plain": [
       "NoneType"
      ]
     },
     "execution_count": 1,
     "metadata": {},
     "output_type": "execute_result"
    }
   ],
   "source": [
    "a = [1, 2, 3]\n",
    "b = a\n",
    "b = [1,2, 3]\n",
    "c = a.append(4)\n",
    "type(c)"
   ]
  },
  {
   "cell_type": "markdown",
   "metadata": {},
   "source": [
    "---"
   ]
  },
  {
   "cell_type": "markdown",
   "metadata": {
    "slideshow": {
     "slide_type": "slide"
    }
   },
   "source": [
    "# Loops\n",
    "\n",
    "Loops are used to repeat lines of code.\n",
    "  - To repeat the code until a certain condition is fulfilled, use a **while** loop\n",
    "  - To repeat the code a predetermined number of times, use a **for** loop."
   ]
  },
  {
   "cell_type": "markdown",
   "metadata": {
    "slideshow": {
     "slide_type": "subslide"
    }
   },
   "source": [
    "## While Loops\n",
    "\n",
    "While loops work basically the same as the if statement. \n",
    "\n",
    "**Caution**: It is possible to get infinite loops if you aren't careful! Use the Ctrl-C command to stop the program, if you find yourself in that situation!"
   ]
  },
  {
   "cell_type": "code",
   "execution_count": 2,
   "metadata": {
    "slideshow": {
     "slide_type": "fragment"
    }
   },
   "outputs": [
    {
     "name": "stdout",
     "output_type": "stream",
     "text": [
      "var is currently 0!\n",
      "var is currently 1!\n",
      "var is currently 2!\n",
      "var is currently 3!\n",
      "var is currently 4!\n",
      "var is currently 5!\n",
      "var is currently 6!\n",
      "var is currently 7!\n",
      "var is currently 8!\n",
      "var is currently 9!\n"
     ]
    }
   ],
   "source": [
    "var = 0\n",
    "while var < 10:\n",
    "    print('var is currently {}!'.format(var))\n",
    "    var += 1"
   ]
  },
  {
   "cell_type": "markdown",
   "metadata": {
    "slideshow": {
     "slide_type": "subslide"
    }
   },
   "source": [
    "## Iteration and the \"For\" Loop\n",
    "  - **Iteration** is the process of going through each element of a group, one at a time. If you can iterate through the object, it is said to be **Iterable**.\n",
    "    - For example, a list is an iterable, since it is a collection of multiple items.  Strings are also iterable.\n",
    "  - An **Iterator** is an iterable object."
   ]
  },
  {
   "cell_type": "markdown",
   "metadata": {
    "slideshow": {
     "slide_type": "subslide"
    }
   },
   "source": [
    "The **\"For loop\"** requests each element from an iterator, one at a time, until all elements have been requested."
   ]
  },
  {
   "cell_type": "code",
   "execution_count": 5,
   "metadata": {
    "scrolled": true,
    "slideshow": {
     "slide_type": "fragment"
    }
   },
   "outputs": [
    {
     "name": "stdout",
     "output_type": "stream",
     "text": [
      "['A1', 4, [''], 'C3', '94', 'E5', 'F6', 'G7']\n",
      "A1 <class 'str'>\n",
      "4 <class 'int'>\n",
      "[''] <class 'list'>\n",
      "C3 <class 'str'>\n",
      "94 <class 'str'>\n",
      "E5 <class 'str'>\n",
      "F6 <class 'str'>\n",
      "G7 <class 'str'>\n",
      "Finished!\n"
     ]
    }
   ],
   "source": [
    "subjects = ['A1', 4, [''], 'C3', '94', 'E5', 'F6', 'G7']\n",
    "print(subjects)\n",
    "\n",
    "for subject in subjects:\n",
    "    print(subject, type(subject))\n",
    "\n",
    "print('Finished!')"
   ]
  },
  {
   "cell_type": "markdown",
   "metadata": {},
   "source": [
    "### Exercise"
   ]
  },
  {
   "cell_type": "markdown",
   "metadata": {},
   "source": [
    "Iterate through the **keys** of the dictionary below, and print one key at the time. <br>\n",
    "Hint: `.keys()` gives us a list of all the keys in a dictionary."
   ]
  },
  {
   "cell_type": "code",
   "execution_count": 29,
   "metadata": {},
   "outputs": [],
   "source": [
    "dd = {'A': 1, 'B': 2, 'C': 3, 'D': 4, 'E': 5}"
   ]
  },
  {
   "cell_type": "code",
   "execution_count": null,
   "metadata": {},
   "outputs": [],
   "source": []
  },
  {
   "cell_type": "markdown",
   "metadata": {},
   "source": [
    "---"
   ]
  },
  {
   "cell_type": "markdown",
   "metadata": {
    "slideshow": {
     "slide_type": "subslide"
    }
   },
   "source": [
    "## Counting your Elements"
   ]
  },
  {
   "cell_type": "code",
   "execution_count": 7,
   "metadata": {},
   "outputs": [],
   "source": [
    "a_list = ['a1', 'a2', 'a3', 'a4', 'a5']\n",
    "b_list = ['b1', 'b2', 'b3', 'b4', 'b5']"
   ]
  },
  {
   "cell_type": "code",
   "execution_count": 10,
   "metadata": {},
   "outputs": [
    {
     "name": "stdout",
     "output_type": "stream",
     "text": [
      "a1 b1\n",
      "a2 b2\n",
      "a3 b3\n",
      "a4 b4\n",
      "a5 b5\n"
     ]
    }
   ],
   "source": [
    "idx = 0\n",
    "for a in a_list:\n",
    "    print(a, b_list[idx])\n",
    "    idx += 1"
   ]
  },
  {
   "cell_type": "markdown",
   "metadata": {},
   "source": [
    "### The enumerate() function"
   ]
  },
  {
   "cell_type": "code",
   "execution_count": 11,
   "metadata": {
    "slideshow": {
     "slide_type": "fragment"
    }
   },
   "outputs": [
    {
     "name": "stdout",
     "output_type": "stream",
     "text": [
      "a1 b1\n",
      "a2 b2\n",
      "a3 b3\n",
      "a4 b4\n",
      "a5 b5\n"
     ]
    }
   ],
   "source": [
    "for idx, a in enumerate(a_list):\n",
    "    print(a, b_list[idx])"
   ]
  },
  {
   "cell_type": "markdown",
   "metadata": {
    "slideshow": {
     "slide_type": "subslide"
    }
   },
   "source": [
    "### the zip() function\n",
    "\n",
    "The **zip()** function takes multiple iterators and returns the elements of each of them at a time!"
   ]
  },
  {
   "cell_type": "code",
   "execution_count": 13,
   "metadata": {
    "slideshow": {
     "slide_type": "fragment"
    }
   },
   "outputs": [
    {
     "name": "stdout",
     "output_type": "stream",
     "text": [
      "a1 b1\n",
      "a2 b2\n",
      "a3 b3\n",
      "a4 b4\n",
      "a5 b5\n"
     ]
    }
   ],
   "source": [
    "for a, b in zip(a_list, b_list):\n",
    "    print(a, b)"
   ]
  },
  {
   "cell_type": "markdown",
   "metadata": {
    "slideshow": {
     "slide_type": "subslide"
    }
   },
   "source": [
    "### Advanced Example: Combining zip() and enumerate()"
   ]
  },
  {
   "cell_type": "code",
   "execution_count": 14,
   "metadata": {
    "slideshow": {
     "slide_type": "fragment"
    }
   },
   "outputs": [
    {
     "name": "stdout",
     "output_type": "stream",
     "text": [
      "0 a1 b1\n",
      "1 a2 b2\n",
      "2 a3 b3\n",
      "3 a4 b4\n",
      "4 a5 b5\n"
     ]
    }
   ],
   "source": [
    "for idx, (a, b) in enumerate(zip(a_list, b_list)):\n",
    "    print(idx, a, b)"
   ]
  },
  {
   "cell_type": "markdown",
   "metadata": {},
   "source": [
    "### Exercise\n",
    "\n",
    "Iterate through the **keys** and **values** of the dictionary below, and print one key and value at the time."
   ]
  },
  {
   "cell_type": "code",
   "execution_count": 30,
   "metadata": {},
   "outputs": [],
   "source": [
    "dd = {'A': 1, 'B': 2, 'C': 3, 'D': 4, 'E': 5}"
   ]
  },
  {
   "cell_type": "code",
   "execution_count": null,
   "metadata": {},
   "outputs": [],
   "source": []
  },
  {
   "cell_type": "markdown",
   "metadata": {},
   "source": [
    "---"
   ]
  },
  {
   "cell_type": "markdown",
   "metadata": {
    "slideshow": {
     "slide_type": "slide"
    }
   },
   "source": [
    "## List Comprehensions: Single-Line For Loops\n",
    "\n",
    "Sometimes, you just want to do a simple calculation and build a new list out of an old list!  Python's **List Comprehensions** feature is really great for this!"
   ]
  },
  {
   "cell_type": "code",
   "execution_count": null,
   "metadata": {},
   "outputs": [],
   "source": [
    "subject_letter = []\n",
    "for subject in subjects: \n",
    "    subject_letter.append(subjects[1])\n",
    "subject_letter"
   ]
  },
  {
   "cell_type": "code",
   "execution_count": null,
   "metadata": {
    "slideshow": {
     "slide_type": "subslide"
    }
   },
   "outputs": [],
   "source": [
    "subjects = ['A1', 'B2', 'C3', 'D4']\n",
    "subject_letter = [subject[0] for subject in subjects]\n",
    "subject_letter"
   ]
  },
  {
   "cell_type": "code",
   "execution_count": null,
   "metadata": {
    "slideshow": {
     "slide_type": "fragment"
    }
   },
   "outputs": [],
   "source": [
    "full_subject_names = ['Subj' + subject[0] for subject in subjects]\n",
    "full_subject_names"
   ]
  },
  {
   "cell_type": "markdown",
   "metadata": {
    "slideshow": {
     "slide_type": "subslide"
    }
   },
   "source": [
    "## Conditional List Comprehensions\n",
    "You can also only include values for going in the new list if a given statement is True!"
   ]
  },
  {
   "cell_type": "code",
   "execution_count": null,
   "metadata": {
    "slideshow": {
     "slide_type": "fragment"
    }
   },
   "outputs": [],
   "source": [
    "subjects = ['A1', 'B2', 'C3', 'D4']\n",
    "high_subjects = {subject[0]: int(subject[1]) for subject in subjects if int(subject[1]) - 1}\n",
    "high_subjects"
   ]
  },
  {
   "cell_type": "markdown",
   "metadata": {},
   "source": [
    "---"
   ]
  },
  {
   "cell_type": "markdown",
   "metadata": {
    "slideshow": {
     "slide_type": "slide"
    }
   },
   "source": [
    "## Exercises \n",
    "- https://www.practicepython.org/exercise/2014/02/26/04-divisors.html\n",
    "- https://www.practicepython.org/exercise/2014/03/19/07-list-comprehensions.html\n",
    "- https://www.practicepython.org/solution/2014/07/25/13-fibonacci-solutions.html\n",
    "- https://www.practicepython.org/exercise/2017/01/24/33-birthday-dictionaries.html"
   ]
  }
 ],
 "metadata": {
  "kernelspec": {
   "display_name": "Python 3",
   "language": "python",
   "name": "python3"
  },
  "language_info": {
   "codemirror_mode": {
    "name": "ipython",
    "version": 3
   },
   "file_extension": ".py",
   "mimetype": "text/x-python",
   "name": "python",
   "nbconvert_exporter": "python",
   "pygments_lexer": "ipython3",
   "version": "3.6.8"
  }
 },
 "nbformat": 4,
 "nbformat_minor": 2
}
