{
 "cells": [
  {
   "cell_type": "markdown",
   "metadata": {},
   "source": [
    "# Python Beginners Workshop - Day 1"
   ]
  },
  {
   "cell_type": "markdown",
   "metadata": {},
   "source": [
    "## Summary"
   ]
  },
  {
   "cell_type": "markdown",
   "metadata": {},
   "source": [
    "Today we learnt about:\n",
    "- Navigating through our file system via shell application\n",
    "- Python and Ipython Console\n",
    "- Importing Package\n",
    "- Creating (and running) python scripts\n",
    "- Jupyter Notebook and Jupyter Lab\n",
    "- Python data structures: int, float, string, tuple, list, dictionaries, and boolean\n",
    "- Indexing and slicing\n",
    "- Arithmetic operations (on data structures)\n",
    "- A glimps of Numpy (i.e., Numpy array)\n",
    "- A glimps of Matplotlib (i.e., plotting simple line/scatter plot)\n",
    "- Loops\n",
    "- Functions"
   ]
  },
  {
   "cell_type": "markdown",
   "metadata": {},
   "source": [
    "---\n",
    "## Exercises"
   ]
  },
  {
   "cell_type": "markdown",
   "metadata": {},
   "source": [
    "In the following exercises, we will be visiting all the topics mentioned above.\n",
    "\n",
    "Some notes:\n",
    "- the last two exercises are optional\n",
    "- please do not leave any of your questions unanswered\n",
    "    - feel free to discuss with you colleagues about the answer, or\n",
    "    - ask the instructor for hints"
   ]
  },
  {
   "cell_type": "markdown",
   "metadata": {},
   "source": [
    "### 1: Practice file/folder creation via shell application\n",
    "- navigate to the exercise folder for today: `workshop > day1 > exercises`\n",
    "- create a new Python script called `exercise1.py`"
   ]
  },
  {
   "cell_type": "markdown",
   "metadata": {},
   "source": [
    "### 2: User input\n",
    "\n",
    "Open the Python script you just created (`exercise1.py`), and:\n",
    "- write a Python application that asks for user's input with text: \"Please insert a list of numbers\"\n",
    "- once inserted the input it then prints the list in the REVERSE ORDER, accompantied by the text: \"The list contains ...\""
   ]
  },
  {
   "cell_type": "markdown",
   "metadata": {},
   "source": [
    "### 3: Loop\n",
    "\n",
    "Now, instead of printing the whole list, loop through the list and in each iteration print:\n",
    "- the element index\n",
    "- the element itself\n",
    "- the type of the element"
   ]
  },
  {
   "cell_type": "markdown",
   "metadata": {},
   "source": [
    "### 4: Function\n",
    "\n",
    "- Without using any of the Python packages, define a function which takes the list and computes the mean \n",
    "- Now at the end of the loop (which we defined in previous exercise), print the number of elements, the sum and the mean of the list."
   ]
  },
  {
   "cell_type": "markdown",
   "metadata": {},
   "source": [
    "---\n",
    "From this exercise onwards please do the exercises in this notebook"
   ]
  },
  {
   "cell_type": "markdown",
   "metadata": {},
   "source": [
    "## Strings\n",
    "\n",
    "As we discussed in the lecture, all Python objects are **Objects**, which means they have **Properties/Attributes** (data) and **Methods** associated with them.  These are accessible via the **Dot Notation**.\n",
    "\n",
    "For example, here we use a **string** **Class**'s *title()* method:"
   ]
  },
  {
   "cell_type": "code",
   "execution_count": 48,
   "metadata": {},
   "outputs": [
    {
     "data": {
      "text/plain": [
       "'The Lion King'"
      ]
     },
     "execution_count": 48,
     "metadata": {},
     "output_type": "execute_result"
    }
   ],
   "source": [
    "film = 'the lion king'\n",
    "bigfilm = film.title()\n",
    "bigfilm"
   ]
  },
  {
   "cell_type": "markdown",
   "metadata": {},
   "source": [
    "### 5: String Exercise"
   ]
  },
  {
   "cell_type": "markdown",
   "metadata": {},
   "source": [
    "1) Use the `strip`, `swapcase`, `title`, `lower`, `upper`, and `zfill` methods, or the `+` or `*` operators, to perform the following modifications:"
   ]
  },
  {
   "cell_type": "markdown",
   "metadata": {},
   "source": [
    "**I am angry** -> **I AM ANGRY**"
   ]
  },
  {
   "cell_type": "code",
   "execution_count": null,
   "metadata": {},
   "outputs": [],
   "source": []
  },
  {
   "cell_type": "markdown",
   "metadata": {},
   "source": [
    "**the lion king** -> **The Lion King**"
   ]
  },
  {
   "cell_type": "code",
   "execution_count": null,
   "metadata": {},
   "outputs": [],
   "source": []
  },
  {
   "cell_type": "markdown",
   "metadata": {},
   "source": [
    "**three** -> **threethreethree**"
   ]
  },
  {
   "cell_type": "code",
   "execution_count": null,
   "metadata": {},
   "outputs": [],
   "source": []
  },
  {
   "cell_type": "markdown",
   "metadata": {},
   "source": [
    "**He said, \"Are you okay?\"** -> **hE SAID, \"aRE YOU OKAY?\"**"
   ]
  },
  {
   "cell_type": "code",
   "execution_count": null,
   "metadata": {},
   "outputs": [],
   "source": []
  },
  {
   "cell_type": "markdown",
   "metadata": {},
   "source": [
    "2) Creat a list of the names of your colleagues (at least 3) and yourself with lower-case letter.<br>\n",
    "Then make all the names title-case (first letter capital). Note that this can be done in different ways:\n",
    "\n",
    "Hint:\n",
    "- one way is to use the `join()` method to join the names and then title-case them, and then split them using the `aplit()` method\n",
    "- another way is to iterate over  the names, title-case them and save them into a new list"
   ]
  },
  {
   "cell_type": "markdown",
   "metadata": {},
   "source": [
    "#### Answer"
   ]
  },
  {
   "cell_type": "code",
   "execution_count": null,
   "metadata": {},
   "outputs": [],
   "source": []
  },
  {
   "cell_type": "markdown",
   "metadata": {},
   "source": [
    "### Formatting Strings\n",
    "\n",
    "The most common method used for strings is the `format()` methods, so it deserves special mention.  It is used to insert data into a string.  It is similar to the **replace()** method but only replaces curly braces **{}**, but it is *way* more powerful.  In fact, there is a whole web page dedicated to showing all the ways you can use it: https://pyformat.info/\n",
    "\n",
    "```python\n",
    "label_fmt = \"Sample {}: Vial {}\"\n",
    "label_fmt.format(3, 4)\n",
    ">> \"Sample 3: Vial 4\"\n",
    "```\n",
    "\n",
    "Using the **format()** method, make the following three sentences:\n",
    "\n",
    "**I bought 3 dogs.**\n",
    "\n",
    "**Wendy bought 5 dogs.**\n",
    "\n",
    "**George bought 700 dogs.**"
   ]
  },
  {
   "cell_type": "markdown",
   "metadata": {},
   "source": [
    "#### Answer"
   ]
  },
  {
   "cell_type": "code",
   "execution_count": 64,
   "metadata": {},
   "outputs": [
    {
     "name": "stdout",
     "output_type": "stream",
     "text": [
      "I bought 3 dogs.\n",
      "Wendy bought 5 dogs.\n",
      "George bought 700 dogs.\n"
     ]
    }
   ],
   "source": [
    "print(\"I bought {} dogs.\".format(3))\n",
    "print(\"Wendy bought {} dogs.\".format(5))\n",
    "print(\"George bought {} dogs.\".format(700))"
   ]
  },
  {
   "cell_type": "markdown",
   "metadata": {},
   "source": [
    "### 6: Summing two Lists\n",
    "\n",
    "The `zip()` function takes multiple lists and turns them into one list of multiples, letting you iterate over multiple lists at the same time.\n",
    "``` python\n",
    "for a, b in zip(listA, listB):\n",
    "  print(a, b)\n",
    "```\n",
    "Make a new list that is the sum of the corresponding elements in listA and listB."
   ]
  },
  {
   "cell_type": "code",
   "execution_count": 4,
   "metadata": {},
   "outputs": [],
   "source": [
    "listA = [2, 3, 4, 5, 0, 0, 0, 2, 2, 0]\n",
    "listB = [0, 4, 2, 4, 5, 1, 0, 5, 3, 5]"
   ]
  },
  {
   "cell_type": "markdown",
   "metadata": {},
   "source": [
    "#### Answer"
   ]
  },
  {
   "cell_type": "code",
   "execution_count": 61,
   "metadata": {},
   "outputs": [
    {
     "name": "stdout",
     "output_type": "stream",
     "text": [
      "2 0\n",
      "3 4\n",
      "4 2\n",
      "5 4\n",
      "0 5\n",
      "0 1\n",
      "0 0\n",
      "2 5\n",
      "2 3\n",
      "0 5\n"
     ]
    }
   ],
   "source": [
    "for a, b in zip(listA, listB):\n",
    "    print(a, b)"
   ]
  },
  {
   "cell_type": "markdown",
   "metadata": {},
   "source": [
    "### 7: Match-Maker\n",
    "\n",
    "I have a list of dogs and a list of owners. How do I print their names together, along with their position in their list, as follows:\n",
    "```\n",
    "1. Snuffles and Jerry\n",
    "2. Pongo and Caro\n",
    "3. Stripes and Sean\n",
    "```"
   ]
  },
  {
   "cell_type": "code",
   "execution_count": 57,
   "metadata": {},
   "outputs": [],
   "source": [
    "dogs = ['Snuffles', 'Pongo', 'Stripes']\n",
    "owners = ['Jerry', 'Caro', 'Sean']"
   ]
  },
  {
   "cell_type": "markdown",
   "metadata": {},
   "source": [
    "#### Answer"
   ]
  },
  {
   "cell_type": "code",
   "execution_count": 58,
   "metadata": {},
   "outputs": [
    {
     "name": "stdout",
     "output_type": "stream",
     "text": [
      "('Snuffles', 'Jerry')\n",
      "('Pongo', 'Caro')\n",
      "('Stripes', 'Sean')\n"
     ]
    }
   ],
   "source": [
    "for el in list(zip(dogs, owners)):\n",
    "    print(el)"
   ]
  },
  {
   "cell_type": "markdown",
   "metadata": {},
   "source": [
    "### Lots at once!\n",
    "\n",
    "Now, a bunch of new dogs and owners appeared!  How do you add them to the original lists? - and then repeat the previous step (printing owner's and dog's name)"
   ]
  },
  {
   "cell_type": "code",
   "execution_count": 59,
   "metadata": {},
   "outputs": [],
   "source": [
    "new_dogs = ['Hipu', 'Rex', 'Garrick']\n",
    "new_owners = ['Werner', 'Julius', 'Jan']"
   ]
  },
  {
   "cell_type": "markdown",
   "metadata": {},
   "source": [
    "#### Answer"
   ]
  },
  {
   "cell_type": "code",
   "execution_count": 60,
   "metadata": {},
   "outputs": [
    {
     "name": "stdout",
     "output_type": "stream",
     "text": [
      "('Snuffles', 'Jerry')\n",
      "('Pongo', 'Caro')\n",
      "('Stripes', 'Sean')\n",
      "('Hipu', 'Werner')\n",
      "('Rex', 'Julius')\n",
      "('Garrick', 'Jan')\n"
     ]
    }
   ],
   "source": [
    "for el in list(zip(dogs + new_dogs, owners + new_owners)):\n",
    "    print(el)"
   ]
  },
  {
   "cell_type": "markdown",
   "metadata": {},
   "source": [
    "### 8: Dictionaries\n",
    "\n",
    "\n",
    "Dictionaries (or \"dicts\" in Python talk) are collections like lists, but instead of representing a sequence of values, they instead represent a mapping of key-value pairs. For example, in a dictionary of dog owners, one would look up the dog's name (the key) and get the corresponding owner's name (the value). As a result, dictionaries are not ordered by nature; it doesn't matter where an item appears in the dictionary, only what the pairing is.\n",
    "\n",
    "Dicts are made in Python using the curly brace **{}** and colon **:**.\n",
    "``` python\n",
    "owners = {'Snuffles': 'Greg', 'Brownie': 'Susan', 'Tinkles': 'Jenny'}\n",
    "owners['Tinkles']\n",
    ">> 'Jenny\n",
    "```\n",
    "\n",
    "Make a dictionary of birthdays of the people sitting next to you, including yourself."
   ]
  },
  {
   "cell_type": "markdown",
   "metadata": {},
   "source": [
    "### Answer"
   ]
  },
  {
   "cell_type": "code",
   "execution_count": null,
   "metadata": {},
   "outputs": [],
   "source": []
  },
  {
   "cell_type": "markdown",
   "metadata": {},
   "source": [
    "### 9. More Descriptive Labels\n",
    "You have a list of single-character strings that represent conditions in your experiment: 'L', 'R', and 'C'. Change those labels to 'Left', 'Right', and 'Center'."
   ]
  },
  {
   "cell_type": "code",
   "execution_count": 47,
   "metadata": {},
   "outputs": [],
   "source": [
    "conditions = {'C': 'Center', 'L': 'Left', 'R': 'Right'}\n",
    "conds = ['C', 'L', 'C', 'R', 'C', 'C', 'C', 'R', 'R', 'R']"
   ]
  },
  {
   "cell_type": "markdown",
   "metadata": {},
   "source": [
    "#### Answer"
   ]
  },
  {
   "cell_type": "code",
   "execution_count": 55,
   "metadata": {},
   "outputs": [
    {
     "data": {
      "text/plain": [
       "['Center',\n",
       " 'Left',\n",
       " 'Center',\n",
       " 'Right',\n",
       " 'Center',\n",
       " 'Center',\n",
       " 'Center',\n",
       " 'Right',\n",
       " 'Right',\n",
       " 'Right']"
      ]
     },
     "execution_count": 55,
     "metadata": {},
     "output_type": "execute_result"
    }
   ],
   "source": [
    "new_conds = [conditions[el] for el in conds]\n",
    "new_conds"
   ]
  },
  {
   "cell_type": "markdown",
   "metadata": {},
   "source": [
    "### 10: Plot\n",
    "Let's plot the weight against height and see if there are any relationships."
   ]
  },
  {
   "cell_type": "code",
   "execution_count": 44,
   "metadata": {},
   "outputs": [],
   "source": [
    "import matplotlib.pyplot as plt"
   ]
  },
  {
   "cell_type": "markdown",
   "metadata": {},
   "source": [
    "#### Answer"
   ]
  },
  {
   "cell_type": "code",
   "execution_count": 45,
   "metadata": {},
   "outputs": [
    {
     "data": {
      "image/png": "[encoded data removed]",
      "text/plain": [
       "<Figure size 432x288 with 1 Axes>"
      ]
     },
     "metadata": {
      "needs_background": "light"
     },
     "output_type": "display_data"
    }
   ],
   "source": [
    "plt.scatter(info_dict[\"Age\"], info_dict[\"Weight\"]);"
   ]
  },
  {
   "cell_type": "code",
   "execution_count": 46,
   "metadata": {},
   "outputs": [
    {
     "data": {
      "image/png": "[encoded data removed]",
      "text/plain": [
       "<Figure size 432x288 with 1 Axes>"
      ]
     },
     "metadata": {
      "needs_background": "light"
     },
     "output_type": "display_data"
    }
   ],
   "source": [
    "plt.scatter(info_dict[\"Height\"], info_dict[\"Weight\"]);"
   ]
  },
  {
   "cell_type": "markdown",
   "metadata": {},
   "source": [
    "---\n",
    "\\# loop #typecasting\n",
    "\n",
    "Change the type of every element of the given list to a string"
   ]
  },
  {
   "cell_type": "code",
   "execution_count": 1,
   "metadata": {},
   "outputs": [],
   "source": [
    "my_list = [1, 2, 3, 4, 5]"
   ]
  },
  {
   "cell_type": "markdown",
   "metadata": {},
   "source": [
    "---"
   ]
  },
  {
   "cell_type": "markdown",
   "metadata": {},
   "source": [
    "\\# indexing \\#slicing\n",
    "\n",
    "Given the following array, please do the following tasks:\n",
    "\n",
    "1) Display the first 5 element of the list\n",
    "\n",
    "2) Display every second elmenet of the first 5 elements of the list\n",
    "\n",
    "3) Display the 5 elements after index 2.\n",
    "\n",
    "4) Diaply the last 5 elements of the list\n",
    "\n",
    "5) Display the every second element of the last five elements of the list\n",
    "\n",
    "6) display the whole list in the reverse order"
   ]
  },
  {
   "cell_type": "code",
   "execution_count": 6,
   "metadata": {},
   "outputs": [],
   "source": [
    "my_list = [3, 2, 4, -5, 6, 4, 3, -4, 5, 6, 0, 8, 9, 7, -1]"
   ]
  },
  {
   "cell_type": "markdown",
   "metadata": {},
   "source": [
    "---\n",
    "\n",
    "\\#tuple \\#list \\#indexing\n",
    "\n",
    "1. how many elements does the the tuple have?\n",
    "\n",
    "2. what methods or attributes does the tuple object have?\n",
    "\n",
    "3. what do these methods do?\n",
    "\n",
    "4. what is the sum of all the elements in the list? <br>\n",
    "**Hint:** `sum()`\n",
    "\n",
    "5. what is the mean values of the list?\n",
    "\n",
    "6. change the tuple to a list and save it as `my_list`.\n",
    "\n",
    "7. please sort the list? <br>\n",
    "**Hint:** `my_list.sort()`\n",
    "\n",
    "8. what is the median of the list?"
   ]
  },
  {
   "cell_type": "code",
   "execution_count": 94,
   "metadata": {},
   "outputs": [],
   "source": [
    "my_tuple = (3, 2, 4, -5, 6, 4, 3, -4, 5, 6, 0, 8, 9, 7, -1)"
   ]
  },
  {
   "cell_type": "code",
   "execution_count": 95,
   "metadata": {},
   "outputs": [
    {
     "data": {
      "text/plain": [
       "47"
      ]
     },
     "execution_count": 95,
     "metadata": {},
     "output_type": "execute_result"
    }
   ],
   "source": [
    "sum(my_tuple)"
   ]
  },
  {
   "cell_type": "code",
   "execution_count": null,
   "metadata": {},
   "outputs": [],
   "source": []
  },
  {
   "cell_type": "markdown",
   "metadata": {},
   "source": [
    "---"
   ]
  },
  {
   "cell_type": "markdown",
   "metadata": {},
   "source": [
    "\\#loop \\#list \\#arithmetics \\#numpy \\#matplotlib\n",
    "\n",
    "Do the following tasks with the given three lists:\n",
    "\n",
    "1) Using `range()` and indexing, add every element of the two lists and store the values in a new list called `c_list`\n",
    "\n",
    "2) Do the same task with `zip()`.\n",
    "\n",
    "3) Using `enumerate`, divide each element of the `c_list` by the (iteration number + 1). The result of the division must be integer.\n",
    "\n",
    "4) Create two Numpy arrays from `a_list` and `b_list`, and call them `a_arr` and `b_arr`, respectively.\n",
    "\n",
    "5) Add the two arrays together to get `c_arr`.\n",
    "\n",
    "6) plot all three arrays (`a_arr`, `b_arr`, and `a_arr`) on the same plot."
   ]
  },
  {
   "cell_type": "markdown",
   "metadata": {},
   "source": [
    "---"
   ]
  },
  {
   "cell_type": "markdown",
   "metadata": {},
   "source": [
    "\\#string\n",
    "\n",
    "1. find the length of the given string\n",
    "2. Explore the following methods of the string object\n",
    "    - `capitalize()`\n",
    "    - `find()`\n",
    "    - `islower()`\n",
    "    - `partition()`\n",
    "    - `split()`\n",
    "    - `title()`\n",
    "    - `swapcase()`\n",
    "    - `upper()`\n",
    "    - `format()`\n",
    "    \n",
    "3. Using the method `format()`and a single `print()` function, print the value of the given objects followed by their type."
   ]
  },
  {
   "cell_type": "code",
   "execution_count": 17,
   "metadata": {},
   "outputs": [],
   "source": [
    "ss = \"hello everybody!\""
   ]
  },
  {
   "cell_type": "code",
   "execution_count": 32,
   "metadata": {},
   "outputs": [
    {
     "data": {
      "text/plain": [
       "'Hello everybody!'"
      ]
     },
     "execution_count": 32,
     "metadata": {},
     "output_type": "execute_result"
    }
   ],
   "source": [
    "ss.capitalize()"
   ]
  },
  {
   "cell_type": "code",
   "execution_count": 33,
   "metadata": {},
   "outputs": [
    {
     "data": {
      "text/plain": [
       "4"
      ]
     },
     "execution_count": 33,
     "metadata": {},
     "output_type": "execute_result"
    }
   ],
   "source": [
    "ss.find('o')"
   ]
  },
  {
   "cell_type": "code",
   "execution_count": 37,
   "metadata": {},
   "outputs": [
    {
     "data": {
      "text/plain": [
       "True"
      ]
     },
     "execution_count": 37,
     "metadata": {},
     "output_type": "execute_result"
    }
   ],
   "source": [
    "ss.islower()"
   ]
  },
  {
   "cell_type": "code",
   "execution_count": 43,
   "metadata": {},
   "outputs": [
    {
     "data": {
      "text/plain": [
       "('hello', ' ', 'everybody!')"
      ]
     },
     "execution_count": 43,
     "metadata": {},
     "output_type": "execute_result"
    }
   ],
   "source": [
    "ss.partition(' ')"
   ]
  },
  {
   "cell_type": "code",
   "execution_count": 44,
   "metadata": {},
   "outputs": [
    {
     "data": {
      "text/plain": [
       "['hello', 'everybody!']"
      ]
     },
     "execution_count": 44,
     "metadata": {},
     "output_type": "execute_result"
    }
   ],
   "source": [
    "ss.split(' ')"
   ]
  },
  {
   "cell_type": "code",
   "execution_count": 45,
   "metadata": {},
   "outputs": [
    {
     "data": {
      "text/plain": [
       "'Hello Everybody!'"
      ]
     },
     "execution_count": 45,
     "metadata": {},
     "output_type": "execute_result"
    }
   ],
   "source": [
    "ss.title()"
   ]
  },
  {
   "cell_type": "code",
   "execution_count": 46,
   "metadata": {},
   "outputs": [
    {
     "data": {
      "text/plain": [
       "'HELLO EVERYBODY!'"
      ]
     },
     "execution_count": 46,
     "metadata": {},
     "output_type": "execute_result"
    }
   ],
   "source": [
    "ss.swapcase()"
   ]
  },
  {
   "cell_type": "code",
   "execution_count": 49,
   "metadata": {},
   "outputs": [
    {
     "data": {
      "text/plain": [
       "'hello everybody!'"
      ]
     },
     "execution_count": 49,
     "metadata": {},
     "output_type": "execute_result"
    }
   ],
   "source": [
    "ss.upper()"
   ]
  },
  {
   "cell_type": "code",
   "execution_count": 77,
   "metadata": {},
   "outputs": [],
   "source": [
    "obj1 = \"Mohammad\"\n",
    "obj2 = 2"
   ]
  },
  {
   "cell_type": "code",
   "execution_count": 78,
   "metadata": {},
   "outputs": [
    {
     "name": "stdout",
     "output_type": "stream",
     "text": [
      "first object has a value of Mohammad with type <class 'str'>\n"
     ]
    }
   ],
   "source": [
    "print(\"first object has a value of {} with type {}\".format(obj1, type(obj1)))"
   ]
  },
  {
   "cell_type": "markdown",
   "metadata": {},
   "source": [
    "---"
   ]
  },
  {
   "cell_type": "markdown",
   "metadata": {},
   "source": [
    "\\#string \\#arithmetic \\#loop \\#list\n",
    "\n",
    "1) Create a list which includes the names of your neighbors (at least 5, including your name)\n",
    "\n",
    "2) Show the length of you list\n",
    "\n",
    "3) Print the length of each element in a loop\n",
    "\n",
    "4) Using `enumerate` change every element of your list to lower case\n",
    "\n",
    "5) Swap the case of every element of the list (all will be upper-case)\n",
    "\n",
    "6) Using a loop, create a new string object which includees all the names with a SPACE before each name\n",
    "\n",
    "7) Using the `join()` method of the list object, and without a loop, do the same task as (6)\n",
    "\n",
    "8) Create a second string which includes the family name of the same neighbors. And using a loop and `join()`, create a new list within which each element is a first name and family name of your neighbors with a SPACE in between. "
   ]
  },
  {
   "cell_type": "code",
   "execution_count": 58,
   "metadata": {},
   "outputs": [],
   "source": [
    "names_list = ['Mohammad', 'Annika', 'Elisa', 'Suleman', 'Chris']"
   ]
  },
  {
   "cell_type": "code",
   "execution_count": 59,
   "metadata": {},
   "outputs": [
    {
     "data": {
      "text/plain": [
       "5"
      ]
     },
     "execution_count": 59,
     "metadata": {},
     "output_type": "execute_result"
    }
   ],
   "source": [
    "len(names_list)"
   ]
  },
  {
   "cell_type": "code",
   "execution_count": 65,
   "metadata": {},
   "outputs": [
    {
     "name": "stdout",
     "output_type": "stream",
     "text": [
      "Mohammad has length 8\n",
      "Annika has length 6\n",
      "Elisa has length 5\n",
      "Suleman has length 7\n",
      "Chris has length 5\n"
     ]
    }
   ],
   "source": [
    "for name in names_list:\n",
    "    print(name, \"has length\", len(name))"
   ]
  },
  {
   "cell_type": "code",
   "execution_count": 67,
   "metadata": {},
   "outputs": [],
   "source": [
    "for ind, name in enumerate(names_list):\n",
    "    names_list[ind] = name.lower()"
   ]
  },
  {
   "cell_type": "code",
   "execution_count": 68,
   "metadata": {},
   "outputs": [
    {
     "data": {
      "text/plain": [
       "['mohammad', 'annika', 'elisa', 'suleman', 'chris']"
      ]
     },
     "execution_count": 68,
     "metadata": {},
     "output_type": "execute_result"
    }
   ],
   "source": [
    "names_list"
   ]
  },
  {
   "cell_type": "code",
   "execution_count": 69,
   "metadata": {},
   "outputs": [],
   "source": [
    "for ind, name in enumerate(names_list):\n",
    "    names_list[ind] = name.swapcase()"
   ]
  },
  {
   "cell_type": "code",
   "execution_count": 70,
   "metadata": {},
   "outputs": [
    {
     "data": {
      "text/plain": [
       "['MOHAMMAD', 'ANNIKA', 'ELISA', 'SULEMAN', 'CHRIS']"
      ]
     },
     "execution_count": 70,
     "metadata": {},
     "output_type": "execute_result"
    }
   ],
   "source": [
    "names_list"
   ]
  },
  {
   "cell_type": "code",
   "execution_count": 74,
   "metadata": {},
   "outputs": [],
   "source": [
    "names = \"\"\n",
    "for name in names_list:\n",
    "    names += \" \" + name"
   ]
  },
  {
   "cell_type": "code",
   "execution_count": 75,
   "metadata": {},
   "outputs": [
    {
     "data": {
      "text/plain": [
       "' MOHAMMAD ANNIKA ELISA SULEMAN CHRIS'"
      ]
     },
     "execution_count": 75,
     "metadata": {},
     "output_type": "execute_result"
    }
   ],
   "source": [
    "names"
   ]
  },
  {
   "cell_type": "code",
   "execution_count": 76,
   "metadata": {},
   "outputs": [
    {
     "data": {
      "text/plain": [
       "'MOHAMMAD ANNIKA ELISA SULEMAN CHRIS'"
      ]
     },
     "execution_count": 76,
     "metadata": {},
     "output_type": "execute_result"
    }
   ],
   "source": [
    "' '.join(names_list)"
   ]
  },
  {
   "cell_type": "markdown",
   "metadata": {},
   "source": [
    "---"
   ]
  },
  {
   "cell_type": "code",
   "execution_count": null,
   "metadata": {},
   "outputs": [],
   "source": []
  }
 ],
 "metadata": {
  "kernelspec": {
   "display_name": "Python 3",
   "language": "python",
   "name": "python3"
  },
  "language_info": {
   "codemirror_mode": {
    "name": "ipython",
    "version": 3
   },
   "file_extension": ".py",
   "mimetype": "text/x-python",
   "name": "python",
   "nbconvert_exporter": "python",
   "pygments_lexer": "ipython3",
   "version": "3.6.8"
  }
 },
 "nbformat": 4,
 "nbformat_minor": 2
}
