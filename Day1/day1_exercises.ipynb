{
 "cells": [
  {
   "cell_type": "markdown",
   "metadata": {},
   "source": [
    "## Exercise #1: Python installation\n",
    "\n",
    "Who has already installed Python? - show hands\n",
    "\n",
    "For those who did not install Python yet:\n",
    "- who has a windows?\n",
    "- who has linux?\n",
    "- who has MacOS?\n",
    "\n",
    "Alright, here comes our first exercise: let us all help each other to install Python. It's probably best, if everyone help their peers with the same OS.\n",
    "\n",
    "Also, feel free to grab a coffee, take a break. We will start again at 09:30"
   ]
  },
  {
   "cell_type": "markdown",
   "metadata": {},
   "source": [
    "---"
   ]
  },
  {
   "cell_type": "markdown",
   "metadata": {},
   "source": [
    "## Exercise #2\n",
    "1. Create directory called `workshop`\n",
    "2. Create a file in it called `README.md`\n",
    "3. Create two more directories in `Workshop`, called `notebooks` and `scripts`\n",
    "\n",
    "the directory tree looks like this:\n",
    "```\n",
    "workshop/\n",
    "   |----- notebooks\n",
    "   |----- scripts\n",
    "   |----- README.md\n",
    "```"
   ]
  },
  {
   "cell_type": "markdown",
   "metadata": {},
   "source": [
    "---"
   ]
  },
  {
   "cell_type": "markdown",
   "metadata": {},
   "source": [
    "## Exercise #3\n",
    "\n",
    "Using the methods and attributes provided by the `math` module, checkout the following Machin-like formulae, and see what value they return.\n",
    "\n",
    "$tan^{-1}(\\frac{1}{2}) + tan^{-1}(\\frac{1}{3})$\n",
    "\n",
    "$4tan^{-1}(\\frac{1}{5}) - tan^{-1}(\\frac{1}{239})$\n",
    "\n",
    "are they equal to $\\frac{\\pi}{4}$ ?"
   ]
  },
  {
   "cell_type": "markdown",
   "metadata": {},
   "source": [
    "---"
   ]
  },
  {
   "cell_type": "markdown",
   "metadata": {},
   "source": [
    "## Exercise #4\n",
    "\n",
    "So, how about you guys try some packages of your own:\n",
    "- go to PyPI, search for some weird names\n",
    "- choose a library\n",
    "- install it\n",
    "- try it, and tell me what it does"
   ]
  },
  {
   "cell_type": "markdown",
   "metadata": {},
   "source": [
    "---"
   ]
  },
  {
   "cell_type": "markdown",
   "metadata": {},
   "source": [
    "## Exercise #5\n",
    "Remember the workshop directory we created? <br>\n",
    "- let's enter the `scripts` directory and create a file called `script1.py`\n",
    "- open Atom (or sublime)\n",
    "- open workshop directory, and open the `script1.py` file\n",
    "- implement the previous exercise in the script:\n",
    "    - save the result of each equation in a variable (e.g., result1, result2, etc.)\n",
    "    - print the results. The printed command looks something like below:\n",
    "        ```\n",
    "        the result of the first equation is ....\n",
    "        the result of the seconf equation is ....\n",
    "        the result fo the third equation is ....\n",
    "        ```\n",
    "- run the file in the Shell application\n",
    "\n",
    "After this, the directorly looks like below:\n",
    "```\n",
    "workshop/\n",
    "   |----- notebooks\n",
    "   |----- scripts\n",
    "             |----- script1.py\n",
    "   |----- README.md\n",
    "```"
   ]
  },
  {
   "cell_type": "markdown",
   "metadata": {},
   "source": [
    "---"
   ]
  },
  {
   "cell_type": "markdown",
   "metadata": {},
   "source": [
    "## Exercise #6\n",
    "I would like to summarize what we did in the morning.. so..\n",
    "\n",
    "- [ ] let's navigate to our project direcotry, `workshop`, via the Shell application\n",
    "- [ ] let's all open jupyter lab\n",
    "- [ ] let's create a Jupyter Notebook\n",
    "- [ ] and Let's create a summary:\n",
    "    - make a title: Day 1, Morning Session: Summary\n",
    "    - press Shift+Enter\n",
    "    - Click keyboard key 'M' to make a cell markdown\n",
    "    - blah blah blah\n",
    "    \n",
    "And here is the summary:\n",
    "- **Shell application**: Is an application that enables us to run OS-level commands.\n",
    "- **Python and IPython console**: Is a console that let's us write Python code (it's create for quick tests).\n",
    "- **Python script**: Is essentially a text file that contains Python code, and has the extension of `.py` (It's great for prjects where we want to have a single file, just like a library, that provides us with functions to be used in our project). and we can run them in the shell application by typing `python script_name.py`.\n",
    "- **Jupyter Notebook**: Is also an application that let's us write Python code, with the advantage that we can divide our code into different cells and test them independently. It also provides a nice integration between code and text, which makes it very suitable for taking notes and writing reports.\n",
    "- **Jupyter Lab**: Is a user interface, were all of the above are integrated. It includes the Shell application, a text editor, as well as the Notebook.\n",
    "- **Standard and third-party libraries**: there are many libraries out there that provide extra utilities for Python. Some of these are shipped with the Python application (standard libraries) and some other need to be installed independently (third-party libraries). The third-party libraries can be installed using the command `pip install name_of_the_package`.\n",
    "- **Namespaces and Objects**: Namespaces are memory spaces within which names are unique (be it name of a variable or a function, or anything else). Anything that occupies memory space is in fact an object, and therefore has variables and functions attached to it"
   ]
  },
  {
   "cell_type": "markdown",
   "metadata": {},
   "source": [
    "---"
   ]
  },
  {
   "cell_type": "markdown",
   "metadata": {},
   "source": [
    "## Exercise #7\n",
    "\n",
    "1) What are the indecies of \"my\" in the following string? - use positive indices."
   ]
  },
  {
   "cell_type": "code",
   "execution_count": 2,
   "metadata": {},
   "outputs": [],
   "source": [
    "a_str = \"Here is my name\""
   ]
  },
  {
   "cell_type": "code",
   "execution_count": 8,
   "metadata": {},
   "outputs": [
    {
     "data": {
      "text/plain": [
       "'name'"
      ]
     },
     "execution_count": 8,
     "metadata": {},
     "output_type": "execute_result"
    }
   ],
   "source": [
    "a_Str[11:]"
   ]
  },
  {
   "cell_type": "markdown",
   "metadata": {},
   "source": [
    "2) What is the negative index of 3 in the followin list?"
   ]
  },
  {
   "cell_type": "code",
   "execution_count": 11,
   "metadata": {},
   "outputs": [],
   "source": [
    "a_list = [1, 2, 3, 4, 5]"
   ]
  },
  {
   "cell_type": "code",
   "execution_count": null,
   "metadata": {},
   "outputs": [],
   "source": []
  },
  {
   "cell_type": "markdown",
   "metadata": {},
   "source": [
    "3) What class (or type) do the following objects belong to?"
   ]
  },
  {
   "cell_type": "code",
   "execution_count": 9,
   "metadata": {},
   "outputs": [],
   "source": [
    "a = 4\n",
    "b = 4.\n",
    "c = [4]"
   ]
  },
  {
   "cell_type": "code",
   "execution_count": null,
   "metadata": {},
   "outputs": [],
   "source": []
  },
  {
   "cell_type": "markdown",
   "metadata": {},
   "source": [
    "4) Which one of the following objects are mutable? - try replacing their elements with another value (e.g. string or number)"
   ]
  },
  {
   "cell_type": "code",
   "execution_count": 10,
   "metadata": {},
   "outputs": [],
   "source": [
    "a_str = \"Here is my name\"\n",
    "a_list = [1, 2, 3, 4, 5]\n",
    "a_tuple = (1, 2, 3, 4, 5)"
   ]
  },
  {
   "cell_type": "code",
   "execution_count": null,
   "metadata": {},
   "outputs": [],
   "source": []
  },
  {
   "cell_type": "markdown",
   "metadata": {},
   "source": [
    "---"
   ]
  },
  {
   "cell_type": "markdown",
   "metadata": {},
   "source": [
    "## Exercise #8\n",
    "1) Try the following operations, print the resulting values and find out the class to which they belong.\n",
    "\n",
    "``` python\n",
    "10 % 4\n",
    "10 / 2\n",
    "10 // 2\n",
    "\n",
    "[1, 2] + (3, 4)\n",
    "\n",
    "\"hey\" * \"you!\"\n",
    "\"hey\" + \"you!\"\n",
    "\"hey\" + \" \" + \"you!\"\n",
    "```"
   ]
  },
  {
   "cell_type": "code",
   "execution_count": null,
   "metadata": {},
   "outputs": [],
   "source": []
  },
  {
   "cell_type": "markdown",
   "metadata": {},
   "source": [
    "2) What is the difference between the following two lines?\n",
    "``` python\n",
    "print(\"hey\" + \" \" + \"you!\")\n",
    "print(\"hey\", \"you!\")\n",
    "```"
   ]
  },
  {
   "cell_type": "code",
   "execution_count": null,
   "metadata": {},
   "outputs": [],
   "source": []
  },
  {
   "cell_type": "markdown",
   "metadata": {},
   "source": [
    "3) Explore the methods of the list objects, find the method that does the same job as `+`\n",
    "``` python\n",
    ">>> my_list1 + my_list2\n",
    ">>> my_list1.append(my_list2)\n",
    "```"
   ]
  },
  {
   "cell_type": "markdown",
   "metadata": {},
   "source": [
    "---"
   ]
  },
  {
   "cell_type": "markdown",
   "metadata": {},
   "source": [
    "## Exercise #9: With or without `range()`"
   ]
  },
  {
   "cell_type": "markdown",
   "metadata": {},
   "source": [
    "1) Create a loop using the `range()` function and print the iteration number in every loop."
   ]
  },
  {
   "cell_type": "code",
   "execution_count": null,
   "metadata": {},
   "outputs": [],
   "source": []
  },
  {
   "cell_type": "markdown",
   "metadata": {},
   "source": [
    "2) Create a list, and using indexing, print the correspoding element of the list, as well as the iteration number, in each iteration."
   ]
  },
  {
   "cell_type": "code",
   "execution_count": null,
   "metadata": {},
   "outputs": [],
   "source": []
  },
  {
   "cell_type": "markdown",
   "metadata": {},
   "source": [
    "3) Using the list along, iterate through its elements and print the corresponding element in each iteration."
   ]
  },
  {
   "cell_type": "code",
   "execution_count": null,
   "metadata": {},
   "outputs": [],
   "source": []
  },
  {
   "cell_type": "markdown",
   "metadata": {},
   "source": [
    "---"
   ]
  },
  {
   "cell_type": "markdown",
   "metadata": {},
   "source": [
    "## Exercise #10: `enumerate()` and `zip()`"
   ]
  },
  {
   "cell_type": "markdown",
   "metadata": {},
   "source": [
    "1) Using the `enumerate()` method, iterate over the elements of the given list, and print the corresponding element as well as the iteration number."
   ]
  },
  {
   "cell_type": "code",
   "execution_count": null,
   "metadata": {},
   "outputs": [],
   "source": []
  },
  {
   "cell_type": "markdown",
   "metadata": {},
   "source": [
    "2) Create another list, and using the `zip()` method, iterate over both of them, and print their corresponding elements in each iteration."
   ]
  },
  {
   "cell_type": "code",
   "execution_count": null,
   "metadata": {},
   "outputs": [],
   "source": []
  },
  {
   "cell_type": "markdown",
   "metadata": {},
   "source": [
    "3) Do the same as (2) but this time also use the `enumerate()` method and add the iteration number to the printing."
   ]
  },
  {
   "cell_type": "code",
   "execution_count": null,
   "metadata": {},
   "outputs": [],
   "source": []
  },
  {
   "cell_type": "markdown",
   "metadata": {},
   "source": [
    "4) Create a while loop which counts to 20, and prints the iteration number, and then it breaks out of the loop."
   ]
  },
  {
   "cell_type": "code",
   "execution_count": null,
   "metadata": {},
   "outputs": [],
   "source": []
  }
 ],
 "metadata": {
  "kernelspec": {
   "display_name": "Python 3",
   "language": "python",
   "name": "python3"
  },
  "language_info": {
   "codemirror_mode": {
    "name": "ipython",
    "version": 3
   },
   "file_extension": ".py",
   "mimetype": "text/x-python",
   "name": "python",
   "nbconvert_exporter": "python",
   "pygments_lexer": "ipython3",
   "version": "3.6.8"
  }
 },
 "nbformat": 4,
 "nbformat_minor": 2
}
