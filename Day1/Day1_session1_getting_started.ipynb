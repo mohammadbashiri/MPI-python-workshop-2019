{
 "cells": [
  {
   "cell_type": "markdown",
   "metadata": {
    "slideshow": {
     "slide_type": "slide"
    }
   },
   "source": [
    "# Session 1: Installation, Terminal, Jupyter"
   ]
  },
  {
   "cell_type": "markdown",
   "metadata": {},
   "source": [
    "In this session, we will \n",
    "- install python\n",
    "- get familiar with the Terminal and the Filesystem. \n",
    "    - how to open the terminal\n",
    "    - navigate through filesystem\n",
    "    - create/remove directories\n",
    "    - create/copy files\n",
    "- start writing python code using tools such as Jupyter notebook\n"
   ]
  },
  {
   "cell_type": "markdown",
   "metadata": {},
   "source": [
    "---"
   ]
  },
  {
   "cell_type": "markdown",
   "metadata": {
    "slideshow": {
     "slide_type": "slide"
    }
   },
   "source": [
    "## Python Installation\n",
    "Download and install anaconda: https://www.anaconda.com/download/"
   ]
  },
  {
   "cell_type": "markdown",
   "metadata": {},
   "source": [
    "---"
   ]
  },
  {
   "cell_type": "markdown",
   "metadata": {},
   "source": [
    "Let's start by defining the terms"
   ]
  },
  {
   "cell_type": "markdown",
   "metadata": {},
   "source": [
    "**Shell (Linux)**: Simply put, the shell is a program that takes commands from the keyboard and gives them to the operating system to perform. On most Linux systems a program called bash acts as the shell program.\n",
    "\n",
    "**CMD (windoes)**: Command Prompt is a command line interpreter application used to execute entered commands. Most of those commands automate tasks via scripts and batch files (a file with the .BAT file extension), perform advanced administrative functions, and troubleshoot or solve certain kinds of Windows issues. <br>\n",
    "Command Prompt is officially called Windows Command Processor, but it is also sometimes referred to as the command shell or cmd prompt, or even by its filename, cmd.exe. Sometimes, incorrectly, it is referred to as \"the DOS prompt\" or as MS-DOS itself. Command Prompt is a Windows program that emulates many of the command line abilities available in MS-DOS, but it's not MS-DOS.\n"
   ]
  },
  {
   "cell_type": "markdown",
   "metadata": {},
   "source": [
    "## List of Commands"
   ]
  },
  {
   "cell_type": "markdown",
   "metadata": {},
   "source": [
    "<center>\n",
    "    <img src=\"../images/ShellCommands.jpg\" />\n",
    "</center>"
   ]
  },
  {
   "cell_type": "markdown",
   "metadata": {},
   "source": [
    "## Exercies"
   ]
  },
  {
   "cell_type": "markdown",
   "metadata": {},
   "source": [
    "1. Create directory called `Experiment`\n",
    "2. Create a file in it called `README.md`\n",
    "3. Create two more directories in `Experiment`, called `notebooks` and `scripts`\n",
    "\n",
    "the directory tree looks like this:\n",
    "```\n",
    "Experiment/\n",
    " |----- notebooks\n",
    " |----- scripts\n",
    " |----- README.md\n",
    "```\n",
    "\n",
    "---"
   ]
  },
  {
   "cell_type": "markdown",
   "metadata": {
    "slideshow": {
     "slide_type": "slide"
    }
   },
   "source": [
    "## Getting started with Python\n",
    "**Python** is a high-level and powerful object-oriented **programming language** designed to be used for writing software in the widest variety of application domains (a general-purpose language). It takes text that you’ve written (usually referred to as code), turns it into instructions for your computer, and runs those instructions.\n",
    "\n",
    "Practically, Python is just another program on your computer. The first thing to learn is how to use and interact with it. There are in fact many ways to do this; the first one to learn is to interact with python’s interpreter, using your operating system’s (OS) console. A **console** (or ‘terminal’, or ‘command prompt’) is a textual way to interact with your OS."
   ]
  },
  {
   "cell_type": "markdown",
   "metadata": {},
   "source": [
    "The python program that you have installed will by default act as something called an interpreter. An interpreter takes text commands and runs them as you enter them - very handy for trying things out. Just type `python` in your console, hit Enter, and you should enter Python’s Interpreter, which looks something like this:"
   ]
  },
  {
   "cell_type": "markdown",
   "metadata": {},
   "source": [
    "```\n",
    "Python 3.6.8 |Anaconda, Inc.| (default, Dec 30 2018, 01:22:34) \n",
    "[GCC 7.3.0] on linux\n",
    "Type \"help\", \"copyright\", \"credits\" or \"license\" for more information.\n",
    ">>> \n",
    "```"
   ]
  },
  {
   "cell_type": "markdown",
   "metadata": {},
   "source": [
    "You can now enter some code for python to run:\n",
    "\n",
    "```\n",
    ">>> print(\"Hello world\")\n",
    "```\n",
    "or\n",
    "```\n",
    ">>> (4 + 2) * 5\n",
    "```"
   ]
  },
  {
   "cell_type": "markdown",
   "metadata": {},
   "source": [
    "What are the output?"
   ]
  },
  {
   "cell_type": "markdown",
   "metadata": {},
   "source": [
    "### Exercise"
   ]
  },
  {
   "cell_type": "markdown",
   "metadata": {},
   "source": [
    "Just above we demonstrated entering a command to figure out some math. Try some math commands of your own! What operations does python know? Get it to tell you what 239 and 588 added together, and then squared is."
   ]
  },
  {
   "cell_type": "markdown",
   "metadata": {},
   "source": [
    "You can **exit** the python interpreter by typing `exit()`."
   ]
  },
  {
   "cell_type": "markdown",
   "metadata": {},
   "source": [
    "---"
   ]
  },
  {
   "cell_type": "markdown",
   "metadata": {},
   "source": [
    "## IPython"
   ]
  },
  {
   "cell_type": "markdown",
   "metadata": {},
   "source": [
    "IPython is an interactive shell for the Python programming language that offers enhanced introspection, additional shell syntax, tab completion and rich history.\n",
    "\n",
    "Similar to Python, you can enter **IPython** by simply typing `ipython` in your console and pressing enter. It also looks very similar to Python interpreter, but its **<font color=\"red\">c</font><font color=\"orange\">o</font><font color=\"green\">l</font><font color=\"cyan\">o</font><font color=\"blue\">r</font>ful**.\n",
    "\n",
    "```\n",
    "Python 3.6.8 |Anaconda, Inc.| (default, Dec 30 2018, 01:22:34) \n",
    "Type 'copyright', 'credits' or 'license' for more information\n",
    "IPython 7.2.0 -- An enhanced Interactive Python. Type '?' for help.\n",
    "\n",
    "In [1]:\n",
    "\n",
    "```"
   ]
  },
  {
   "cell_type": "markdown",
   "metadata": {},
   "source": [
    "### Exercise"
   ]
  },
  {
   "cell_type": "markdown",
   "metadata": {},
   "source": [
    "Now, let's try the previous exercise in IPython."
   ]
  },
  {
   "cell_type": "markdown",
   "metadata": {},
   "source": [
    "---"
   ]
  },
  {
   "cell_type": "markdown",
   "metadata": {},
   "source": [
    "## Import libraries"
   ]
  },
  {
   "cell_type": "markdown",
   "metadata": {},
   "source": [
    "**What is a Python Library?** It is a collection of **modules**. <br>\n",
    "**What is a Module?**: A module is set of lines of code which are used for a specific purpose.\n",
    "\n",
    "In general, there are some libraries that are readily available to you, once you install Python. However, in addition to the standard library, there is a growing collection of several thousand other libraries, available from the [Python Package Index](https://pypi.org/).\n",
    "\n",
    "Let's try one of these libraries:\n",
    "```\n",
    "import math\n",
    "\n",
    "```"
   ]
  },
  {
   "cell_type": "markdown",
   "metadata": {},
   "source": [
    "Now, we just imported the library, and based on the definition, it should provide some functionality to us. How to quickly explore what functions does it provide? - **tab completion**. Type `math.` and press TAB."
   ]
  },
  {
   "cell_type": "markdown",
   "metadata": {},
   "source": [
    "Let's choose one of them (e.g., `math.degrees`). Now, how do we know how to use it? - **question mark, ?**. Type the following and press ENTER.\n",
    "```\n",
    "math.degrees?\n",
    "```"
   ]
  },
  {
   "cell_type": "markdown",
   "metadata": {},
   "source": [
    "### Exercise"
   ]
  },
  {
   "cell_type": "markdown",
   "metadata": {},
   "source": [
    "There is another standard library called `turtle`. It's a python feature like a drawing board, which lets you command a turtle to draw all over it! \n",
    "\n",
    "Use different functions provided by this library to draw your own design."
   ]
  },
  {
   "cell_type": "markdown",
   "metadata": {},
   "source": [
    "---"
   ]
  },
  {
   "cell_type": "markdown",
   "metadata": {},
   "source": [
    "## Running Python files"
   ]
  },
  {
   "cell_type": "markdown",
   "metadata": {},
   "source": [
    "When you have a lot of python code to run, you will want to save it into a file. Instead of typing commands in one-by-one, you can save your code to a file and pass the file name to the python program. It will execute that file’s code instead of launching its interactive interpreter. This is called a **Python script** - a python file which includes python code. Python files have the **.py** extention, and you can run them in your console using the following command:\n",
    "```\n",
    "python your_file.py\n",
    "```"
   ]
  },
  {
   "cell_type": "markdown",
   "metadata": {},
   "source": [
    "### Exercise\n",
    "Remember the Experiment directory we created before? <br>\n",
    "- let's enter the `scripts` directory and create a file called `first_script.py`\n",
    "- open Atom (or sublime)\n",
    "- Open Experiment directory\n",
    "- And add the commands you used for drawing using the `turtle` library to this file\n",
    "- run the file in the console\n",
    "\n",
    "After this, the directorly looks like below:\n",
    "```\n",
    "Experiment/\n",
    " |----- notebooks\n",
    " |----- scripts\n",
    "         |----- first_script.py\n",
    " |----- README.md\n",
    "```"
   ]
  },
  {
   "cell_type": "markdown",
   "metadata": {},
   "source": [
    "---\n",
    "\n",
    "## References\n",
    "- Getting started with python: https://opentechschool.github.io/python-beginners/en/getting_started.html"
   ]
  },
  {
   "cell_type": "code",
   "execution_count": null,
   "metadata": {},
   "outputs": [],
   "source": []
  },
  {
   "cell_type": "code",
   "execution_count": null,
   "metadata": {},
   "outputs": [],
   "source": []
  },
  {
   "cell_type": "code",
   "execution_count": null,
   "metadata": {},
   "outputs": [],
   "source": []
  },
  {
   "cell_type": "code",
   "execution_count": null,
   "metadata": {},
   "outputs": [],
   "source": []
  },
  {
   "cell_type": "markdown",
   "metadata": {
    "slideshow": {
     "slide_type": "subslide"
    }
   },
   "source": [
    "### Exercise 3\n",
    "- https://www.practicepython.org/exercise/2014/01/29/01-character-input.html"
   ]
  },
  {
   "cell_type": "markdown",
   "metadata": {
    "slideshow": {
     "slide_type": "slide"
    }
   },
   "source": [
    "# 4) Python packages \n",
    "You can use anaconda to install python packages. "
   ]
  },
  {
   "cell_type": "markdown",
   "metadata": {
    "slideshow": {
     "slide_type": "subslide"
    }
   },
   "source": [
    "### Exercise\n",
    "Use the `conda install packagename` command to install the following packages \n",
    "    - jupyterlab, numpy, scipy, matplotlib, pandas, seaborn\n",
    "- for help, check out: https://conda.io/docs/user-guide/getting-started.html#managing-packages"
   ]
  },
  {
   "cell_type": "markdown",
   "metadata": {},
   "source": [
    "# 5) IPython \n",
    "\n",
    "https://ipython.readthedocs.io/en/stable/interactive/tutorial.html"
   ]
  },
  {
   "cell_type": "markdown",
   "metadata": {
    "slideshow": {
     "slide_type": "slide"
    }
   },
   "source": [
    "# 6) Jupyter notebook and jupyter lab \n",
    "Jupyter notebook is an even more interactive python environment that runs in the browser: https://jupyter-notebook.readthedocs.io/en/stable/notebook.html\n",
    "\n",
    "Jupyter lab combines all of the topics of today into one environment in the browser: command line, python console, jupyter notebook: https://jupyterlab.readthedocs.io/en/latest/"
   ]
  },
  {
   "cell_type": "markdown",
   "metadata": {
    "slideshow": {
     "slide_type": "subslide"
    }
   },
   "source": [
    "## Notebook Exercise:\n",
    "\n",
    "  1. Open a Notebook in Jupyter in a new folder on your computer.\n",
    "  2. Change the Title of the Notebook\n",
    "  3. Make an integer variable and a string variable in the first cell\n",
    "  4. Print the output of multiplying the two variables together\n",
    "  5. Add a markdown cell above the cell you just made, and make a Header title"
   ]
  },
  {
   "cell_type": "markdown",
   "metadata": {
    "slideshow": {
     "slide_type": "slide"
    }
   },
   "source": [
    "## Tutorial Links\n",
    "- https://www.codecademy.com/learn/learn-the-command-line\n",
    "- https://ipython.readthedocs.io/en/stable/interactive/index.html\n",
    "- https://www.practicepython.org/exercise/2014/01/29/01-character-input.html"
   ]
  },
  {
   "cell_type": "markdown",
   "metadata": {
    "slideshow": {
     "slide_type": "slide"
    }
   },
   "source": [
    "## Goals \n",
    "After reading through the material and following the exercises you should be familiar with the following: \n",
    "\n",
    "- navigate in the terminal, install packages, know different editors, run scripts \n",
    "- have python and anaconda installed\n",
    "- work with jupyter notebook / lab, run simple arithmetic operations\n"
   ]
  }
 ],
 "metadata": {
  "celltoolbar": "Slideshow",
  "kernelspec": {
   "display_name": "Python 3",
   "language": "python",
   "name": "python3"
  },
  "language_info": {
   "codemirror_mode": {
    "name": "ipython",
    "version": 3
   },
   "file_extension": ".py",
   "mimetype": "text/x-python",
   "name": "python",
   "nbconvert_exporter": "python",
   "pygments_lexer": "ipython3",
   "version": "3.6.8"
  }
 },
 "nbformat": 4,
 "nbformat_minor": 2
}
